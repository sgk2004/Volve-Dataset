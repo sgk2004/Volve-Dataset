{
 "cells": [
  {
   "cell_type": "code",
   "execution_count": 273,
   "metadata": {},
   "outputs": [],
   "source": [
    "import matplotlib.pyplot as plt\n",
    "import numpy as np\n",
    "import pandas as pd\n",
    "# %matplotlib notebook"
   ]
  },
  {
   "cell_type": "code",
   "execution_count": 274,
   "metadata": {},
   "outputs": [],
   "source": [
    "# Read the csv file into a pandas DataFrame\n",
    "\n",
    "all_wells = pd.read_csv('well_cleaned.csv')\n"
   ]
  },
  {
   "cell_type": "code",
   "execution_count": 275,
   "metadata": {},
   "outputs": [
    {
     "name": "stdout",
     "output_type": "stream",
     "text": [
      "<class 'pandas.core.frame.DataFrame'>\n",
      "RangeIndex: 5943 entries, 0 to 5942\n",
      "Data columns (total 11 columns):\n",
      " #   Column                 Non-Null Count  Dtype  \n",
      "---  ------                 --------------  -----  \n",
      " 0   Unnamed: 0             5943 non-null   int64  \n",
      " 1   WELL_BORE_CODE         5943 non-null   object \n",
      " 2   AVG_DOWNHOLE_PRESSURE  5943 non-null   float64\n",
      " 3   AVG_CHOKE_SIZE_P       5943 non-null   float64\n",
      " 4   AVG_WHP_P              5943 non-null   float64\n",
      " 5   AVG_WHT_P              5943 non-null   float64\n",
      " 6   BORE_OIL_VOL           5943 non-null   float64\n",
      " 7   BORE_GAS_VOL           5943 non-null   float64\n",
      " 8   BORE_WAT_VOL           5943 non-null   float64\n",
      " 9   FLOW_KIND              5943 non-null   object \n",
      " 10  WELL_TYPE              5943 non-null   object \n",
      "dtypes: float64(7), int64(1), object(3)\n",
      "memory usage: 510.9+ KB\n"
     ]
    }
   ],
   "source": [
    "# Difference in pressure and DH temperature(this is measured by a gauge from bottom of well) columns dropped\n",
    "\n",
    "all_wells= all_wells.drop('DP_CHOKE_SIZE', 1)\n",
    "all_wells= all_wells.drop('AVG_DOWNHOLE_TEMPERATURE', 1)\n",
    "all_wells.info()"
   ]
  },
  {
   "cell_type": "code",
   "execution_count": 276,
   "metadata": {},
   "outputs": [
    {
     "data": {
      "text/html": [
       "<div>\n",
       "<style scoped>\n",
       "    .dataframe tbody tr th:only-of-type {\n",
       "        vertical-align: middle;\n",
       "    }\n",
       "\n",
       "    .dataframe tbody tr th {\n",
       "        vertical-align: top;\n",
       "    }\n",
       "\n",
       "    .dataframe thead th {\n",
       "        text-align: right;\n",
       "    }\n",
       "</style>\n",
       "<table border=\"1\" class=\"dataframe\">\n",
       "  <thead>\n",
       "    <tr style=\"text-align: right;\">\n",
       "      <th></th>\n",
       "      <th>WELL_BORE_CODE</th>\n",
       "      <th>AVG_DOWNHOLE_PRESSURE</th>\n",
       "      <th>AVG_CHOKE_SIZE_P</th>\n",
       "      <th>AVG_WHP_P</th>\n",
       "      <th>AVG_WHT_P</th>\n",
       "      <th>BORE_OIL_VOL</th>\n",
       "      <th>BORE_GAS_VOL</th>\n",
       "      <th>BORE_WAT_VOL</th>\n",
       "    </tr>\n",
       "  </thead>\n",
       "  <tbody>\n",
       "    <tr>\n",
       "      <th>0</th>\n",
       "      <td>NO 15/9-F-1 C</td>\n",
       "      <td>289.42</td>\n",
       "      <td>43.34</td>\n",
       "      <td>107.36</td>\n",
       "      <td>37.94</td>\n",
       "      <td>631.47</td>\n",
       "      <td>90439.09</td>\n",
       "      <td>0.00</td>\n",
       "    </tr>\n",
       "    <tr>\n",
       "      <th>1</th>\n",
       "      <td>NO 15/9-F-1 C</td>\n",
       "      <td>270.24</td>\n",
       "      <td>47.17</td>\n",
       "      <td>99.19</td>\n",
       "      <td>60.76</td>\n",
       "      <td>1166.46</td>\n",
       "      <td>165720.39</td>\n",
       "      <td>0.00</td>\n",
       "    </tr>\n",
       "    <tr>\n",
       "      <th>2</th>\n",
       "      <td>NO 15/9-F-1 C</td>\n",
       "      <td>262.84</td>\n",
       "      <td>47.73</td>\n",
       "      <td>94.60</td>\n",
       "      <td>63.05</td>\n",
       "      <td>1549.81</td>\n",
       "      <td>221707.31</td>\n",
       "      <td>0.00</td>\n",
       "    </tr>\n",
       "    <tr>\n",
       "      <th>3</th>\n",
       "      <td>NO 15/9-F-1 C</td>\n",
       "      <td>255.53</td>\n",
       "      <td>48.53</td>\n",
       "      <td>89.99</td>\n",
       "      <td>64.55</td>\n",
       "      <td>1248.70</td>\n",
       "      <td>178063.52</td>\n",
       "      <td>0.00</td>\n",
       "    </tr>\n",
       "    <tr>\n",
       "      <th>4</th>\n",
       "      <td>NO 15/9-F-1 C</td>\n",
       "      <td>247.20</td>\n",
       "      <td>49.84</td>\n",
       "      <td>84.78</td>\n",
       "      <td>65.72</td>\n",
       "      <td>1345.78</td>\n",
       "      <td>192602.19</td>\n",
       "      <td>0.00</td>\n",
       "    </tr>\n",
       "    <tr>\n",
       "      <th>...</th>\n",
       "      <td>...</td>\n",
       "      <td>...</td>\n",
       "      <td>...</td>\n",
       "      <td>...</td>\n",
       "      <td>...</td>\n",
       "      <td>...</td>\n",
       "      <td>...</td>\n",
       "      <td>...</td>\n",
       "    </tr>\n",
       "    <tr>\n",
       "      <th>5938</th>\n",
       "      <td>NO 15/9-F-15 D</td>\n",
       "      <td>194.98</td>\n",
       "      <td>31.58</td>\n",
       "      <td>15.81</td>\n",
       "      <td>49.02</td>\n",
       "      <td>144.01</td>\n",
       "      <td>23201.35</td>\n",
       "      <td>203.93</td>\n",
       "    </tr>\n",
       "    <tr>\n",
       "      <th>5939</th>\n",
       "      <td>NO 15/9-F-15 D</td>\n",
       "      <td>194.98</td>\n",
       "      <td>31.54</td>\n",
       "      <td>15.77</td>\n",
       "      <td>48.99</td>\n",
       "      <td>145.22</td>\n",
       "      <td>23068.07</td>\n",
       "      <td>202.93</td>\n",
       "    </tr>\n",
       "    <tr>\n",
       "      <th>5940</th>\n",
       "      <td>NO 15/9-F-15 D</td>\n",
       "      <td>194.32</td>\n",
       "      <td>31.52</td>\n",
       "      <td>15.70</td>\n",
       "      <td>50.10</td>\n",
       "      <td>142.74</td>\n",
       "      <td>23059.68</td>\n",
       "      <td>203.84</td>\n",
       "    </tr>\n",
       "    <tr>\n",
       "      <th>5941</th>\n",
       "      <td>NO 15/9-F-15 D</td>\n",
       "      <td>195.21</td>\n",
       "      <td>31.52</td>\n",
       "      <td>15.61</td>\n",
       "      <td>49.84</td>\n",
       "      <td>144.46</td>\n",
       "      <td>23090.47</td>\n",
       "      <td>202.76</td>\n",
       "    </tr>\n",
       "    <tr>\n",
       "      <th>5942</th>\n",
       "      <td>NO 15/9-F-15 D</td>\n",
       "      <td>195.31</td>\n",
       "      <td>24.92</td>\n",
       "      <td>15.76</td>\n",
       "      <td>48.73</td>\n",
       "      <td>106.30</td>\n",
       "      <td>17537.08</td>\n",
       "      <td>155.70</td>\n",
       "    </tr>\n",
       "  </tbody>\n",
       "</table>\n",
       "<p>5943 rows × 8 columns</p>\n",
       "</div>"
      ],
      "text/plain": [
       "      WELL_BORE_CODE  AVG_DOWNHOLE_PRESSURE  AVG_CHOKE_SIZE_P  AVG_WHP_P  \\\n",
       "0      NO 15/9-F-1 C                 289.42             43.34     107.36   \n",
       "1      NO 15/9-F-1 C                 270.24             47.17      99.19   \n",
       "2      NO 15/9-F-1 C                 262.84             47.73      94.60   \n",
       "3      NO 15/9-F-1 C                 255.53             48.53      89.99   \n",
       "4      NO 15/9-F-1 C                 247.20             49.84      84.78   \n",
       "...              ...                    ...               ...        ...   \n",
       "5938  NO 15/9-F-15 D                 194.98             31.58      15.81   \n",
       "5939  NO 15/9-F-15 D                 194.98             31.54      15.77   \n",
       "5940  NO 15/9-F-15 D                 194.32             31.52      15.70   \n",
       "5941  NO 15/9-F-15 D                 195.21             31.52      15.61   \n",
       "5942  NO 15/9-F-15 D                 195.31             24.92      15.76   \n",
       "\n",
       "      AVG_WHT_P  BORE_OIL_VOL  BORE_GAS_VOL  BORE_WAT_VOL  \n",
       "0         37.94        631.47      90439.09          0.00  \n",
       "1         60.76       1166.46     165720.39          0.00  \n",
       "2         63.05       1549.81     221707.31          0.00  \n",
       "3         64.55       1248.70     178063.52          0.00  \n",
       "4         65.72       1345.78     192602.19          0.00  \n",
       "...         ...           ...           ...           ...  \n",
       "5938      49.02        144.01      23201.35        203.93  \n",
       "5939      48.99        145.22      23068.07        202.93  \n",
       "5940      50.10        142.74      23059.68        203.84  \n",
       "5941      49.84        144.46      23090.47        202.76  \n",
       "5942      48.73        106.30      17537.08        155.70  \n",
       "\n",
       "[5943 rows x 8 columns]"
      ]
     },
     "execution_count": 276,
     "metadata": {},
     "output_type": "execute_result"
    }
   ],
   "source": [
    "all_wells=all_wells.iloc[:,1:9]\n",
    "all_wells"
   ]
  },
  {
   "cell_type": "markdown",
   "metadata": {},
   "source": [
    "Dependencies for regression analysis"
   ]
  },
  {
   "cell_type": "code",
   "execution_count": 277,
   "metadata": {},
   "outputs": [],
   "source": [
    "from sklearn.model_selection import train_test_split\n",
    "from sklearn.preprocessing import StandardScaler\n",
    "from sklearn.linear_model import LinearRegression\n",
    "from sklearn.ensemble import RandomForestRegressor\n",
    "from sklearn.metrics import mean_squared_error, r2_score\n",
    "from sklearn.linear_model import Lasso\n"
   ]
  },
  {
   "cell_type": "code",
   "execution_count": 278,
   "metadata": {},
   "outputs": [
    {
     "data": {
      "text/plain": [
       "['NO 15/9-F-1 C',\n",
       " 'NO 15/9-F-11 H',\n",
       " 'NO 15/9-F-12 H',\n",
       " 'NO 15/9-F-14 H',\n",
       " 'NO 15/9-F-15 D']"
      ]
     },
     "execution_count": 278,
     "metadata": {},
     "output_type": "execute_result"
    }
   ],
   "source": [
    "list_well = list (all_wells[\"WELL_BORE_CODE\"].unique())\n",
    "list_well"
   ]
  },
  {
   "cell_type": "markdown",
   "metadata": {},
   "source": [
    "## Random Forest Regression"
   ]
  },
  {
   "cell_type": "code",
   "execution_count": 279,
   "metadata": {},
   "outputs": [
    {
     "data": {
      "text/plain": [
       "(5943, 1)"
      ]
     },
     "execution_count": 279,
     "metadata": {},
     "output_type": "execute_result"
    }
   ],
   "source": [
    "target = all_wells['AVG_DOWNHOLE_PRESSURE'].values.reshape(-1, 1)\n",
    "target.shape"
   ]
  },
  {
   "cell_type": "code",
   "execution_count": 280,
   "metadata": {},
   "outputs": [
    {
     "data": {
      "text/plain": [
       "(5943, 6)"
      ]
     },
     "execution_count": 280,
     "metadata": {},
     "output_type": "execute_result"
    }
   ],
   "source": [
    "data = all_wells.drop([\"AVG_DOWNHOLE_PRESSURE\",\"WELL_BORE_CODE\"], axis=1)\n",
    "data.shape"
   ]
  },
  {
   "cell_type": "code",
   "execution_count": 281,
   "metadata": {},
   "outputs": [
    {
     "data": {
      "text/html": [
       "<div>\n",
       "<style scoped>\n",
       "    .dataframe tbody tr th:only-of-type {\n",
       "        vertical-align: middle;\n",
       "    }\n",
       "\n",
       "    .dataframe tbody tr th {\n",
       "        vertical-align: top;\n",
       "    }\n",
       "\n",
       "    .dataframe thead th {\n",
       "        text-align: right;\n",
       "    }\n",
       "</style>\n",
       "<table border=\"1\" class=\"dataframe\">\n",
       "  <thead>\n",
       "    <tr style=\"text-align: right;\">\n",
       "      <th></th>\n",
       "    </tr>\n",
       "    <tr>\n",
       "      <th>Features</th>\n",
       "    </tr>\n",
       "  </thead>\n",
       "  <tbody>\n",
       "    <tr>\n",
       "      <th>AVG_CHOKE_SIZE_P</th>\n",
       "    </tr>\n",
       "    <tr>\n",
       "      <th>AVG_WHP_P</th>\n",
       "    </tr>\n",
       "    <tr>\n",
       "      <th>AVG_WHT_P</th>\n",
       "    </tr>\n",
       "    <tr>\n",
       "      <th>BORE_OIL_VOL</th>\n",
       "    </tr>\n",
       "    <tr>\n",
       "      <th>BORE_GAS_VOL</th>\n",
       "    </tr>\n",
       "    <tr>\n",
       "      <th>BORE_WAT_VOL</th>\n",
       "    </tr>\n",
       "  </tbody>\n",
       "</table>\n",
       "</div>"
      ],
      "text/plain": [
       "Empty DataFrame\n",
       "Columns: []\n",
       "Index: [AVG_CHOKE_SIZE_P, AVG_WHP_P, AVG_WHT_P, BORE_OIL_VOL, BORE_GAS_VOL, BORE_WAT_VOL]"
      ]
     },
     "execution_count": 281,
     "metadata": {},
     "output_type": "execute_result"
    }
   ],
   "source": [
    "df1= pd.DataFrame({'Features':[\"AVG_CHOKE_SIZE_P\",\"AVG_WHP_P\",\"AVG_WHT_P\",\"BORE_OIL_VOL\",\"BORE_GAS_VOL\",\"BORE_WAT_VOL\"]})\n",
    "df1.set_index('Features')"
   ]
  },
  {
   "cell_type": "code",
   "execution_count": 282,
   "metadata": {},
   "outputs": [
    {
     "name": "stdout",
     "output_type": "stream",
     "text": [
      "(430, 6)\n",
      "(430, 1)\n"
     ]
    },
    {
     "data": {
      "image/png": "[encoded data removed]",
      "text/plain": [
       "<Figure size 432x288 with 1 Axes>"
      ]
     },
     "metadata": {
      "needs_background": "light"
     },
     "output_type": "display_data"
    },
    {
     "name": "stdout",
     "output_type": "stream",
     "text": [
      "Mean Square Error : 0.18\n",
      "R2 : 0.79\n",
      "[0.10474505563695075, 0.3539984306716177, 0.037037579865349626, 0.20176030109669946, 0.1551664637664599, 0.14729216896292266]\n",
      "(1118, 6)\n",
      "(1118, 1)\n"
     ]
    },
    {
     "data": {
      "image/png": "[encoded data removed]",
      "text/plain": [
       "<Figure size 432x288 with 1 Axes>"
      ]
     },
     "metadata": {
      "needs_background": "light"
     },
     "output_type": "display_data"
    },
    {
     "name": "stdout",
     "output_type": "stream",
     "text": [
      "Mean Square Error : 0.18\n",
      "R2 : 0.79\n",
      "[0.026906186524066972, 0.43835651143987747, 0.04952434326510495, 0.31600507631070246, 0.0656080777172584, 0.10359980474298972]\n",
      "(925, 6)\n",
      "(925, 1)\n"
     ]
    },
    {
     "data": {
      "image/png": "[encoded data removed]",
      "text/plain": [
       "<Figure size 432x288 with 1 Axes>"
      ]
     },
     "metadata": {
      "needs_background": "light"
     },
     "output_type": "display_data"
    },
    {
     "name": "stdout",
     "output_type": "stream",
     "text": [
      "Mean Square Error : 0.11\n",
      "R2 : 0.89\n",
      "[0.08528745497735837, 0.3948868457351489, 0.03527788587016972, 0.31858848734114265, 0.0382654419249537, 0.12769388415122673]\n",
      "(2703, 6)\n",
      "(2703, 1)\n"
     ]
    },
    {
     "data": {
      "image/png": "[encoded data removed]",
      "text/plain": [
       "<Figure size 432x288 with 1 Axes>"
      ]
     },
     "metadata": {
      "needs_background": "light"
     },
     "output_type": "display_data"
    },
    {
     "name": "stdout",
     "output_type": "stream",
     "text": [
      "Mean Square Error : 0.42\n",
      "R2 : 0.64\n",
      "[0.025343311128278468, 0.1559616207294326, 0.12802747261555397, 0.2742098051123608, 0.3093482586490256, 0.1071095317653485]\n",
      "(767, 6)\n",
      "(767, 1)\n"
     ]
    },
    {
     "data": {
      "image/png": "[encoded data removed]",
      "text/plain": [
       "<Figure size 432x288 with 1 Axes>"
      ]
     },
     "metadata": {
      "needs_background": "light"
     },
     "output_type": "display_data"
    },
    {
     "name": "stdout",
     "output_type": "stream",
     "text": [
      "Mean Square Error : 0.07\n",
      "R2 : 0.93\n",
      "[0.06824707596376169, 0.5353142128508714, 0.018403709949781195, 0.02751975613292626, 0.028573546964746916, 0.32194169813791246]\n"
     ]
    }
   ],
   "source": [
    "# Looping through all 5 wells\n",
    "\n",
    "for i in list_well:\n",
    "    \n",
    "#   Independednt Variables\n",
    "    X =(all_wells.loc[all_wells[\"WELL_BORE_CODE\"]== i])[[\"AVG_CHOKE_SIZE_P\",\"AVG_WHP_P\",\"AVG_WHT_P\",\"BORE_OIL_VOL\",\"BORE_GAS_VOL\",\"BORE_WAT_VOL\"]]\n",
    "    print(X.shape)\n",
    "    \n",
    "#   Target Variable\n",
    "    y=(all_wells.loc[all_wells[\"WELL_BORE_CODE\"]== i])[\"AVG_DOWNHOLE_PRESSURE\"].values.reshape(-1, 1)\n",
    "    print(y.shape)\n",
    "\n",
    "#  Split to train and test data\n",
    "    X_train, X_test, y_train, y_test = train_test_split(X, y, random_state=42)\n",
    "        \n",
    "#   Scale X and y\n",
    "    X_scaler = StandardScaler().fit(X_train)\n",
    "    y_scaler = StandardScaler().fit(y_train)\n",
    "    \n",
    "    X_train_scaled = X_scaler.transform(X_train)\n",
    "    X_test_scaled = X_scaler.transform(X_test)\n",
    "    y_train_scaled = y_scaler.transform(y_train)\n",
    "    y_test_scaled = y_scaler.transform(y_test)\n",
    "    \n",
    "    rf = RandomForestRegressor(n_estimators=5,max_depth=10)\n",
    "    rf = rf.fit(X_train_scaled, y_train_scaled.ravel())\n",
    "    \n",
    "    #   Plot the Residuals for the Training and Testing data\n",
    "    predictions_train = rf.predict(X_train_scaled)\n",
    "    predictions_test = rf.predict(X_test_scaled)\n",
    "    \n",
    "    plt.scatter(predictions_train, predictions_train - y_train_scaled.ravel(), c= \"orange\",label=\"Training Data\", s=8)\n",
    "    plt.scatter(predictions_test, predictions_test - y_test_scaled.ravel(), c= \"blue\",label=\"Testing Data\",s=8)\n",
    "    plt.ylim(-2,2)\n",
    "    plt.hlines(y=0, xmin=predictions_train.min(), xmax=predictions_train.max())\n",
    "    plt.title(f'WELL {i}')\n",
    "    plt.legend()\n",
    "    plt.show()\n",
    "    \n",
    "    MSE = mean_squared_error(y_test_scaled.ravel(), predictions_test)\n",
    "    r2=rf.score(X_test_scaled, y_test_scaled.ravel())\n",
    "    print (f'Mean Square Error : {round(MSE,2)}')\n",
    "    print (f'R2 : {round (r2,2)}')\n",
    "    \n",
    "    print(list(rf.feature_importances_))\n",
    "    df1[i]=list(rf.feature_importances_)\n",
    "    "
   ]
  },
  {
   "cell_type": "code",
   "execution_count": 283,
   "metadata": {},
   "outputs": [
    {
     "data": {
      "text/html": [
       "<div>\n",
       "<style scoped>\n",
       "    .dataframe tbody tr th:only-of-type {\n",
       "        vertical-align: middle;\n",
       "    }\n",
       "\n",
       "    .dataframe tbody tr th {\n",
       "        vertical-align: top;\n",
       "    }\n",
       "\n",
       "    .dataframe thead th {\n",
       "        text-align: right;\n",
       "    }\n",
       "</style>\n",
       "<table border=\"1\" class=\"dataframe\">\n",
       "  <thead>\n",
       "    <tr style=\"text-align: right;\">\n",
       "      <th></th>\n",
       "      <th>NO 15/9-F-1 C</th>\n",
       "      <th>NO 15/9-F-11 H</th>\n",
       "      <th>NO 15/9-F-12 H</th>\n",
       "      <th>NO 15/9-F-14 H</th>\n",
       "      <th>NO 15/9-F-15 D</th>\n",
       "    </tr>\n",
       "    <tr>\n",
       "      <th>Features</th>\n",
       "      <th></th>\n",
       "      <th></th>\n",
       "      <th></th>\n",
       "      <th></th>\n",
       "      <th></th>\n",
       "    </tr>\n",
       "  </thead>\n",
       "  <tbody>\n",
       "    <tr>\n",
       "      <th>AVG_CHOKE_SIZE_P</th>\n",
       "      <td>0.10</td>\n",
       "      <td>0.03</td>\n",
       "      <td>0.09</td>\n",
       "      <td>0.03</td>\n",
       "      <td>0.07</td>\n",
       "    </tr>\n",
       "    <tr>\n",
       "      <th>AVG_WHP_P</th>\n",
       "      <td>0.35</td>\n",
       "      <td>0.44</td>\n",
       "      <td>0.39</td>\n",
       "      <td>0.16</td>\n",
       "      <td>0.54</td>\n",
       "    </tr>\n",
       "    <tr>\n",
       "      <th>AVG_WHT_P</th>\n",
       "      <td>0.04</td>\n",
       "      <td>0.05</td>\n",
       "      <td>0.04</td>\n",
       "      <td>0.13</td>\n",
       "      <td>0.02</td>\n",
       "    </tr>\n",
       "    <tr>\n",
       "      <th>BORE_OIL_VOL</th>\n",
       "      <td>0.20</td>\n",
       "      <td>0.32</td>\n",
       "      <td>0.32</td>\n",
       "      <td>0.27</td>\n",
       "      <td>0.03</td>\n",
       "    </tr>\n",
       "    <tr>\n",
       "      <th>BORE_GAS_VOL</th>\n",
       "      <td>0.16</td>\n",
       "      <td>0.07</td>\n",
       "      <td>0.04</td>\n",
       "      <td>0.31</td>\n",
       "      <td>0.03</td>\n",
       "    </tr>\n",
       "    <tr>\n",
       "      <th>BORE_WAT_VOL</th>\n",
       "      <td>0.15</td>\n",
       "      <td>0.10</td>\n",
       "      <td>0.13</td>\n",
       "      <td>0.11</td>\n",
       "      <td>0.32</td>\n",
       "    </tr>\n",
       "  </tbody>\n",
       "</table>\n",
       "</div>"
      ],
      "text/plain": [
       "                  NO 15/9-F-1 C  NO 15/9-F-11 H  NO 15/9-F-12 H  \\\n",
       "Features                                                          \n",
       "AVG_CHOKE_SIZE_P           0.10            0.03            0.09   \n",
       "AVG_WHP_P                  0.35            0.44            0.39   \n",
       "AVG_WHT_P                  0.04            0.05            0.04   \n",
       "BORE_OIL_VOL               0.20            0.32            0.32   \n",
       "BORE_GAS_VOL               0.16            0.07            0.04   \n",
       "BORE_WAT_VOL               0.15            0.10            0.13   \n",
       "\n",
       "                  NO 15/9-F-14 H  NO 15/9-F-15 D  \n",
       "Features                                          \n",
       "AVG_CHOKE_SIZE_P            0.03            0.07  \n",
       "AVG_WHP_P                   0.16            0.54  \n",
       "AVG_WHT_P                   0.13            0.02  \n",
       "BORE_OIL_VOL                0.27            0.03  \n",
       "BORE_GAS_VOL                0.31            0.03  \n",
       "BORE_WAT_VOL                0.11            0.32  "
      ]
     },
     "execution_count": 283,
     "metadata": {},
     "output_type": "execute_result"
    }
   ],
   "source": [
    "df1=df1.round(2)\n",
    "df1=df1.set_index([\"Features\"], drop= True)\n",
    "df1"
   ]
  },
  {
   "cell_type": "code",
   "execution_count": 284,
   "metadata": {},
   "outputs": [],
   "source": [
    "df1_T= df1.T"
   ]
  },
  {
   "cell_type": "code",
   "execution_count": 285,
   "metadata": {},
   "outputs": [
    {
     "data": {
      "image/png": "[encoded data removed]",
      "text/plain": [
       "<Figure size 432x288 with 1 Axes>"
      ]
     },
     "metadata": {
      "needs_background": "light"
     },
     "output_type": "display_data"
    }
   ],
   "source": [
    "ax = df1_T.plot.box(rot=45)"
   ]
  },
  {
   "cell_type": "code",
   "execution_count": null,
   "metadata": {},
   "outputs": [],
   "source": []
  }
 ],
 "metadata": {
  "kernelspec": {
   "display_name": "Python [conda env:mlproject] *",
   "language": "python",
   "name": "conda-env-mlproject-py"
  },
  "language_info": {
   "codemirror_mode": {
    "name": "ipython",
    "version": 3
   },
   "file_extension": ".py",
   "mimetype": "text/x-python",
   "name": "python",
   "nbconvert_exporter": "python",
   "pygments_lexer": "ipython3",
   "version": "3.7.6"
  }
 },
 "nbformat": 4,
 "nbformat_minor": 4
}
