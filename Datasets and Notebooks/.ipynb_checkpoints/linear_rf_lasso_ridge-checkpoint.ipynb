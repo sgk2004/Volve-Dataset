{
 "cells": [
  {
   "cell_type": "markdown",
   "metadata": {},
   "source": [
    "#Models without considering Well Bore Code"
   ]
  },
  {
   "cell_type": "code",
   "execution_count": 1,
   "metadata": {},
   "outputs": [],
   "source": [
    "import matplotlib.pyplot as plt\n",
    "import numpy as np\n",
    "import pandas as pd"
   ]
  },
  {
   "cell_type": "code",
   "execution_count": 2,
   "metadata": {
    "scrolled": true
   },
   "outputs": [
    {
     "name": "stdout",
     "output_type": "stream",
     "text": [
      "<class 'pandas.core.frame.DataFrame'>\n",
      "RangeIndex: 7882 entries, 0 to 7881\n",
      "Data columns (total 14 columns):\n",
      " #   Column                    Non-Null Count  Dtype  \n",
      "---  ------                    --------------  -----  \n",
      " 0   DATEPRD                   7882 non-null   object \n",
      " 1   WELL_BORE_CODE            7882 non-null   object \n",
      " 2   AVG_DOWNHOLE_PRESSURE     7882 non-null   float64\n",
      " 3   AVG_DOWNHOLE_TEMPERATURE  7882 non-null   float64\n",
      " 4   AVG_DP_TUBING             7882 non-null   float64\n",
      " 5   AVG_ANNULUS_PRESS         7882 non-null   float64\n",
      " 6   AVG_CHOKE_SIZE_P          7882 non-null   float64\n",
      " 7   AVG_WHP_P                 7882 non-null   float64\n",
      " 8   AVG_WHT_P                 7882 non-null   float64\n",
      " 9   DP_CHOKE_SIZE             7882 non-null   float64\n",
      " 10  BORE_OIL_VOL              7882 non-null   float64\n",
      " 11  BORE_GAS_VOL              7882 non-null   float64\n",
      " 12  BORE_WAT_VOL              7882 non-null   float64\n",
      " 13  WELL_POS                  7882 non-null   object \n",
      "dtypes: float64(11), object(3)\n",
      "memory usage: 862.2+ KB\n"
     ]
    }
   ],
   "source": [
    "data = pd.read_csv('All_wells_final3.csv')\n",
    "data = data.loc[:, ~data.columns.str.contains('^Unnamed')]\n",
    "data = data.fillna(0)\n",
    "\n",
    "data.info()\n",
    "model_mse_dict={}\n",
    "model_R2_dict={}"
   ]
  },
  {
   "cell_type": "code",
   "execution_count": 3,
   "metadata": {},
   "outputs": [
    {
     "name": "stdout",
     "output_type": "stream",
     "text": [
      "<class 'pandas.core.frame.DataFrame'>\n",
      "Int64Index: 5943 entries, 0 to 7881\n",
      "Data columns (total 13 columns):\n",
      " #   Column                    Non-Null Count  Dtype  \n",
      "---  ------                    --------------  -----  \n",
      " 0   DATEPRD                   5943 non-null   object \n",
      " 1   WELL_BORE_CODE            5943 non-null   object \n",
      " 2   AVG_DOWNHOLE_PRESSURE     5943 non-null   float64\n",
      " 3   AVG_DOWNHOLE_TEMPERATURE  5943 non-null   float64\n",
      " 4   AVG_DP_TUBING             5943 non-null   float64\n",
      " 5   AVG_CHOKE_SIZE_P          5943 non-null   float64\n",
      " 6   AVG_WHP_P                 5943 non-null   float64\n",
      " 7   AVG_WHT_P                 5943 non-null   float64\n",
      " 8   DP_CHOKE_SIZE             5943 non-null   float64\n",
      " 9   BORE_OIL_VOL              5943 non-null   float64\n",
      " 10  BORE_GAS_VOL              5943 non-null   float64\n",
      " 11  BORE_WAT_VOL              5943 non-null   float64\n",
      " 12  WELL_POS                  5943 non-null   object \n",
      "dtypes: float64(10), object(3)\n",
      "memory usage: 650.0+ KB\n"
     ]
    }
   ],
   "source": [
    "#Dropping AVG_ANNULUS PRESSURE as this is not measured at the surface, dropping downhole temp as this is related to downhole pressure\n",
    "data=data.drop(['AVG_ANNULUS_PRESS'], axis=1)\n",
    "data = data.loc[data['AVG_DOWNHOLE_PRESSURE']!= 0]\n",
    "data.info()"
   ]
  },
  {
   "cell_type": "code",
   "execution_count": 4,
   "metadata": {},
   "outputs": [
    {
     "data": {
      "text/html": [
       "<div>\n",
       "<style scoped>\n",
       "    .dataframe tbody tr th:only-of-type {\n",
       "        vertical-align: middle;\n",
       "    }\n",
       "\n",
       "    .dataframe tbody tr th {\n",
       "        vertical-align: top;\n",
       "    }\n",
       "\n",
       "    .dataframe thead th {\n",
       "        text-align: right;\n",
       "    }\n",
       "</style>\n",
       "<table border=\"1\" class=\"dataframe\">\n",
       "  <thead>\n",
       "    <tr style=\"text-align: right;\">\n",
       "      <th></th>\n",
       "      <th>AVG_CHOKE_SIZE_P</th>\n",
       "      <th>AVG_WHP_P</th>\n",
       "      <th>AVG_WHT_P</th>\n",
       "      <th>BORE_OIL_VOL</th>\n",
       "      <th>BORE_GAS_VOL</th>\n",
       "      <th>BORE_WAT_VOL</th>\n",
       "    </tr>\n",
       "  </thead>\n",
       "  <tbody>\n",
       "    <tr>\n",
       "      <th>0</th>\n",
       "      <td>43.34</td>\n",
       "      <td>107.36</td>\n",
       "      <td>37.94</td>\n",
       "      <td>631.47</td>\n",
       "      <td>90439.09</td>\n",
       "      <td>0.0</td>\n",
       "    </tr>\n",
       "    <tr>\n",
       "      <th>1</th>\n",
       "      <td>47.17</td>\n",
       "      <td>99.19</td>\n",
       "      <td>60.76</td>\n",
       "      <td>1166.46</td>\n",
       "      <td>165720.39</td>\n",
       "      <td>0.0</td>\n",
       "    </tr>\n",
       "    <tr>\n",
       "      <th>2</th>\n",
       "      <td>47.73</td>\n",
       "      <td>94.60</td>\n",
       "      <td>63.05</td>\n",
       "      <td>1549.81</td>\n",
       "      <td>221707.31</td>\n",
       "      <td>0.0</td>\n",
       "    </tr>\n",
       "    <tr>\n",
       "      <th>3</th>\n",
       "      <td>48.53</td>\n",
       "      <td>89.99</td>\n",
       "      <td>64.55</td>\n",
       "      <td>1248.70</td>\n",
       "      <td>178063.52</td>\n",
       "      <td>0.0</td>\n",
       "    </tr>\n",
       "    <tr>\n",
       "      <th>4</th>\n",
       "      <td>49.84</td>\n",
       "      <td>84.78</td>\n",
       "      <td>65.72</td>\n",
       "      <td>1345.78</td>\n",
       "      <td>192602.19</td>\n",
       "      <td>0.0</td>\n",
       "    </tr>\n",
       "  </tbody>\n",
       "</table>\n",
       "</div>"
      ],
      "text/plain": [
       "   AVG_CHOKE_SIZE_P  AVG_WHP_P  AVG_WHT_P  BORE_OIL_VOL  BORE_GAS_VOL  \\\n",
       "0             43.34     107.36      37.94        631.47      90439.09   \n",
       "1             47.17      99.19      60.76       1166.46     165720.39   \n",
       "2             47.73      94.60      63.05       1549.81     221707.31   \n",
       "3             48.53      89.99      64.55       1248.70     178063.52   \n",
       "4             49.84      84.78      65.72       1345.78     192602.19   \n",
       "\n",
       "   BORE_WAT_VOL  \n",
       "0           0.0  \n",
       "1           0.0  \n",
       "2           0.0  \n",
       "3           0.0  \n",
       "4           0.0  "
      ]
     },
     "execution_count": 4,
     "metadata": {},
     "output_type": "execute_result"
    }
   ],
   "source": [
    "#Keeping all columns except AVG DP TUBING\n",
    "df1 = data.loc[:,'AVG_CHOKE_SIZE_P':'BORE_WAT_VOL']\n",
    "df1=df1.drop(['DP_CHOKE_SIZE'], axis=1)\n",
    "feature_names = df1.columns\n",
    "df1.head()\n"
   ]
  },
  {
   "cell_type": "code",
   "execution_count": 5,
   "metadata": {},
   "outputs": [],
   "source": [
    "X = df1\n",
    "y = data['AVG_DOWNHOLE_PRESSURE'].values.reshape(-1,1)"
   ]
  },
  {
   "cell_type": "code",
   "execution_count": 6,
   "metadata": {},
   "outputs": [],
   "source": [
    "#Create Test Train Split\n",
    "from sklearn.model_selection import train_test_split\n",
    "X_train, X_test, y_train, y_test = train_test_split(X, y, random_state=42)\n",
    "\n",
    "#Scaling the data\n",
    "from sklearn.preprocessing import StandardScaler\n",
    "x_scaler = StandardScaler().fit(X_train)\n",
    "X_train_s = x_scaler.transform(X_train)\n",
    "X_test_s = x_scaler.transform(X_test)\n",
    "\n",
    "from sklearn.preprocessing import StandardScaler\n",
    "y_scaler = StandardScaler().fit( y_train)\n",
    "y_train_s = y_scaler.transform( y_train)\n",
    "y_test_s = y_scaler.transform(y_test)\n"
   ]
  },
  {
   "cell_type": "markdown",
   "metadata": {},
   "source": [
    "LINEAR REGRESSION"
   ]
  },
  {
   "cell_type": "code",
   "execution_count": 7,
   "metadata": {},
   "outputs": [
    {
     "data": {
      "image/png": "[encoded data removed]",
      "text/plain": [
       "<Figure size 432x288 with 1 Axes>"
      ]
     },
     "metadata": {
      "needs_background": "light"
     },
     "output_type": "display_data"
    },
    {
     "name": "stdout",
     "output_type": "stream",
     "text": [
      "Mean Squared Error (MSE) Train Data: 0.4104764233048474\n",
      "R-squared (R2) Train Data: 0.5895235766951525\n",
      "-----------------------------------\n",
      "Mean Squared Error (MSE) Test Data: 0.41489872961484503\n",
      "R-squared (R2) Test Data: 0.5781517750328994\n"
     ]
    }
   ],
   "source": [
    "from sklearn.linear_model import LinearRegression\n",
    "model = LinearRegression()\n",
    "from sklearn.preprocessing import StandardScaler\n",
    "model.fit(X_train_s, y_train_s)\n",
    "\n",
    "\n",
    "# Plot the Residuals for the Training and Testing data\n",
    "predictions = model.predict(X_train_s)\n",
    "predictions1 = model.predict(X_test_s)\n",
    "\n",
    "# Plot Residuals\n",
    "plt.scatter(predictions.reshape(-1,1), predictions.reshape(-1,1) - y_train_s, c= \"orange\",label=\"Training Data\", s=8)\n",
    "plt.scatter(predictions1.reshape(-1,1), predictions1.reshape(-1,1) - y_test_s, c= \"blue\",label=\"Testing Data\",s=8)\n",
    "#plt.ylim(-2,2)\n",
    "plt.hlines(y=0, xmin=predictions.min(), xmax=predictions.max())\n",
    "plt.legend()\n",
    "plt.show()\n",
    "\n",
    "# Model Scores\n",
    "# Score the prediction with mse and r2\n",
    "\n",
    "from sklearn.metrics import mean_squared_error, r2_score\n",
    "\n",
    "mse_train = mean_squared_error(y_train_s, predictions)\n",
    "r2_train = r2_score(y_train_s, predictions)\n",
    "mse_test = mean_squared_error(y_test_s, predictions1)\n",
    "r2_test = r2_score(y_test_s, predictions1)\n",
    "\n",
    "\n",
    "model_mse_dict.update(LINEAR_REG = mse_test)\n",
    "model_R2_dict.update(LINEAR_REG = r2_test)\n",
    "\n",
    "print(f\"Mean Squared Error (MSE) Train Data: {mse_train}\")\n",
    "print(f\"R-squared (R2) Train Data: {r2_train}\")\n",
    "print(\"-----------------------------------\")\n",
    "print(f\"Mean Squared Error (MSE) Test Data: {mse_test}\")\n",
    "print(f\"R-squared (R2) Test Data: {r2_test}\")\n"
   ]
  },
  {
   "cell_type": "markdown",
   "metadata": {},
   "source": [
    "RANDOM FOREST REGRESSION"
   ]
  },
  {
   "cell_type": "code",
   "execution_count": 8,
   "metadata": {},
   "outputs": [
    {
     "name": "stdout",
     "output_type": "stream",
     "text": [
      "Model:RANDOM FOREST REGRESSION\n",
      "R2 Score: 0.8217330702904028\n",
      "Mean Squared Error (MSE): 0.1753301739615451\n",
      "R-squared (R2 ): 0.8217330702904028\n"
     ]
    },
    {
     "data": {
      "text/plain": [
       "Text(0.5, 1.0, 'Residual Plot')"
      ]
     },
     "execution_count": 8,
     "metadata": {},
     "output_type": "execute_result"
    },
    {
     "data": {
      "image/png": "[encoded data removed]",
      "text/plain": [
       "<Figure size 432x288 with 1 Axes>"
      ]
     },
     "metadata": {
      "needs_background": "light"
     },
     "output_type": "display_data"
    }
   ],
   "source": [
    "## training the model\n",
    "from sklearn.ensemble import RandomForestRegressor\n",
    "rf = RandomForestRegressor(max_depth=100)\n",
    "rf.fit(X_train_s,y_train_s.ravel())\n",
    "score = rf.score(X_test_s, y_test_s.ravel())\n",
    "print(\"Model:RANDOM FOREST REGRESSION\")\n",
    "print(f\"R2 Score: {score}\")\n",
    "\n",
    "# Score the prediction with mse and r2\n",
    "from sklearn.metrics import mean_squared_error, r2_score\n",
    "predicted_train = rf.predict(X_test_s)\n",
    "mse = mean_squared_error(y_test_s.ravel(), predicted_train)\n",
    "r2 = r2_score(y_test_s.ravel(), predicted_train)\n",
    "print(f\"Mean Squared Error (MSE): {mse}\")\n",
    "print(f\"R-squared (R2 ): {r2}\")\n",
    "\n",
    "model_mse_dict.update(RAND_FOR_REG = mse)\n",
    "model_R2_dict.update(RAND_FOR_REG = r2)\n",
    "\n",
    "predictions = model.predict(X_train_s)\n",
    "predictions1 = model.predict(X_test_s)\n",
    "\n",
    "# Plot the Residuals for the Training and Testing data\n",
    "plt.scatter(rf.predict(X_train_s), rf.predict(X_train_s) - y_train_s.ravel(), c=\"blue\", label=\"Training Data\")\n",
    "plt.scatter(rf.predict(X_test_s), rf.predict(X_test_s) - y_test_s.ravel(), c=\"orange\", label=\"Testing Data\")\n",
    "plt.legend()\n",
    "plt.hlines(y=0, xmin=predictions.min(), xmax=predictions.max())\n",
    "plt.ylim(-2,2)\n",
    "plt.title(\"Residual Plot\")"
   ]
  },
  {
   "cell_type": "code",
   "execution_count": 9,
   "metadata": {},
   "outputs": [
    {
     "data": {
      "text/plain": [
       "[(0.33077776107947876, 'AVG_WHP_P'),\n",
       " (0.2671078002125354, 'AVG_WHT_P'),\n",
       " (0.15257218727822053, 'BORE_WAT_VOL'),\n",
       " (0.09630303591898123, 'BORE_GAS_VOL'),\n",
       " (0.09283111091003723, 'AVG_CHOKE_SIZE_P'),\n",
       " (0.060408104600746866, 'BORE_OIL_VOL')]"
      ]
     },
     "execution_count": 9,
     "metadata": {},
     "output_type": "execute_result"
    }
   ],
   "source": [
    "importances= rf.feature_importances_\n",
    "sorted(zip(importances,feature_names),reverse=True)"
   ]
  },
  {
   "cell_type": "markdown",
   "metadata": {},
   "source": [
    "RIDGE REGRESSION"
   ]
  },
  {
   "cell_type": "code",
   "execution_count": 10,
   "metadata": {},
   "outputs": [
    {
     "name": "stdout",
     "output_type": "stream",
     "text": [
      "R2 Score: 0.5781854637506367\n",
      "Mean Squared Error (MSE): 0.41486559588246374\n",
      "R-squared (R2 ): 0.5781854637506367\n"
     ]
    },
    {
     "data": {
      "text/plain": [
       "Text(0.5, 1.0, 'Residual Plot')"
      ]
     },
     "execution_count": 10,
     "metadata": {},
     "output_type": "execute_result"
    },
    {
     "data": {
      "image/png": "[encoded data removed]",
      "text/plain": [
       "<Figure size 432x288 with 1 Axes>"
      ]
     },
     "metadata": {
      "needs_background": "light"
     },
     "output_type": "display_data"
    }
   ],
   "source": [
    "## training the model\n",
    "from sklearn.linear_model import Ridge\n",
    "model = Ridge(alpha=0.05, normalize=False) #False gives slightly better value\n",
    "model.fit(X_train_s,y_train_s)\n",
    "score = model.score(X_test_s, y_test_s)\n",
    "print(f\"R2 Score: {score}\")\n",
    "\n",
    "# Score the prediction with mse and r2\n",
    "from sklearn.metrics import mean_squared_error, r2_score\n",
    "predicted_train = model.predict(X_test_s)\n",
    "mse = mean_squared_error(y_test_s, predicted_train)\n",
    "r2 = r2_score(y_test_s, predicted_train)\n",
    "print(f\"Mean Squared Error (MSE): {mse}\")\n",
    "print(f\"R-squared (R2 ): {r2}\")\n",
    "\n",
    "model_mse_dict.update(RIDGE_REG = mse)\n",
    "model_R2_dict.update(RIDGE_REG = r2)\n",
    "\n",
    "predictions = model.predict(X_train_s)\n",
    "predictions1 = model.predict(X_test_s)\n",
    "\n",
    "# Plot the Residuals for the Training and Testing data\n",
    "plt.scatter(model.predict(X_train_s), model.predict(X_train_s) - y_train_s, c=\"blue\", label=\"Training Data\")\n",
    "plt.scatter(model.predict(X_test_s), model.predict(X_test_s) - y_test_s, c=\"orange\", label=\"Testing Data\")\n",
    "plt.legend()\n",
    "plt.hlines(y=0, xmin=predictions.min(), xmax=predictions.max())\n",
    "plt.title(\"Residual Plot\")"
   ]
  },
  {
   "cell_type": "code",
   "execution_count": 11,
   "metadata": {},
   "outputs": [
    {
     "data": {
      "text/plain": [
       "[(1.1349288702797151, 'BORE_OIL_VOL'),\n",
       " (0.8635631138434333, 'AVG_WHP_P'),\n",
       " (0.3419487768200265, 'BORE_WAT_VOL'),\n",
       " (0.3198514496509339, 'AVG_CHOKE_SIZE_P'),\n",
       " (0.3010161406443698, 'AVG_WHT_P'),\n",
       " (-1.5705164486614753, 'BORE_GAS_VOL')]"
      ]
     },
     "execution_count": 11,
     "metadata": {},
     "output_type": "execute_result"
    }
   ],
   "source": [
    "importances= model.coef_\n",
    "sorted(zip(importances[0],feature_names),reverse=True)"
   ]
  },
  {
   "cell_type": "markdown",
   "metadata": {},
   "source": [
    "LASSO REGRESSION"
   ]
  },
  {
   "cell_type": "code",
   "execution_count": 12,
   "metadata": {},
   "outputs": [
    {
     "name": "stdout",
     "output_type": "stream",
     "text": [
      "R2 Score: 0.5781524611967419\n",
      "Mean Squared Error (MSE): 0.4148980547548131\n",
      "R-squared (R2 ): 0.5781524611967419\n"
     ]
    },
    {
     "data": {
      "text/plain": [
       "Text(0.5, 1.0, 'Residual Plot')"
      ]
     },
     "execution_count": 12,
     "metadata": {},
     "output_type": "execute_result"
    },
    {
     "data": {
      "image/png": "[encoded data removed]",
      "text/plain": [
       "<Figure size 432x288 with 1 Axes>"
      ]
     },
     "metadata": {
      "needs_background": "light"
     },
     "output_type": "display_data"
    }
   ],
   "source": [
    "## training the model\n",
    "from sklearn.linear_model import Lasso\n",
    "model = Ridge(alpha=0.001, normalize=False) #False gives slightly better value\n",
    "model.fit(X_train_s,y_train_s)\n",
    "score = model.score(X_test_s, y_test_s)\n",
    "print(f\"R2 Score: {score}\")\n",
    "\n",
    "# Score the prediction with mse and r2\n",
    "from sklearn.metrics import mean_squared_error, r2_score\n",
    "predicted_train = model.predict(X_test_s)\n",
    "mse = mean_squared_error(y_test_s, predicted_train)\n",
    "r2 = r2_score(y_test_s, predicted_train)\n",
    "print(f\"Mean Squared Error (MSE): {mse}\")\n",
    "print(f\"R-squared (R2 ): {r2}\")\n",
    "\n",
    "model_mse_dict.update(LASSO_REG = mse)\n",
    "model_R2_dict.update(LASSO_REG = r2)\n",
    "\n",
    "predictions = model.predict(X_train_s)\n",
    "predictions1 = model.predict(X_test_s)\n",
    "\n",
    "# Plot the Residuals for the Training and Testing data\n",
    "plt.scatter(model.predict(X_train_s), model.predict(X_train_s) - y_train_s, c=\"blue\", label=\"Training Data\")\n",
    "plt.scatter(model.predict(X_test_s), model.predict(X_test_s) - y_test_s, c=\"orange\", label=\"Testing Data\")\n",
    "plt.legend()\n",
    "plt.hlines(y=0, xmin=predictions.min(), xmax=predictions.max())\n",
    "plt.title(\"Residual Plot\")"
   ]
  },
  {
   "cell_type": "code",
   "execution_count": 13,
   "metadata": {},
   "outputs": [
    {
     "data": {
      "text/plain": [
       "[(1.145683838467842, 'BORE_OIL_VOL'),\n",
       " (0.8637085621094606, 'AVG_WHP_P'),\n",
       " (0.34229568304449615, 'BORE_WAT_VOL'),\n",
       " (0.3197464509890191, 'AVG_CHOKE_SIZE_P'),\n",
       " (0.3009613279952605, 'AVG_WHT_P'),\n",
       " (-1.5812665941373385, 'BORE_GAS_VOL')]"
      ]
     },
     "execution_count": 13,
     "metadata": {},
     "output_type": "execute_result"
    }
   ],
   "source": [
    "importances= model.coef_\n",
    "sorted(zip(importances[0],feature_names),reverse=True)"
   ]
  },
  {
   "cell_type": "code",
   "execution_count": 14,
   "metadata": {},
   "outputs": [
    {
     "data": {
      "text/plain": [
       "{'LINEAR_REG': 0.41489872961484503,\n",
       " 'RAND_FOR_REG': 0.1753301739615451,\n",
       " 'RIDGE_REG': 0.41486559588246374,\n",
       " 'LASSO_REG': 0.4148980547548131}"
      ]
     },
     "execution_count": 14,
     "metadata": {},
     "output_type": "execute_result"
    }
   ],
   "source": [
    "#Displaying the MSE scores by models\n",
    "model_mse_dict"
   ]
  },
  {
   "cell_type": "code",
   "execution_count": 15,
   "metadata": {},
   "outputs": [
    {
     "data": {
      "text/plain": [
       "{'LINEAR_REG': 0.5781517750328994,\n",
       " 'RAND_FOR_REG': 0.8217330702904028,\n",
       " 'RIDGE_REG': 0.5781854637506367,\n",
       " 'LASSO_REG': 0.5781524611967419}"
      ]
     },
     "execution_count": 15,
     "metadata": {},
     "output_type": "execute_result"
    }
   ],
   "source": [
    "#Displaying the R2 scores by models\n",
    "model_R2_dict"
   ]
  }
 ],
 "metadata": {
  "kernelspec": {
   "display_name": "Python [conda env:mlproject] *",
   "language": "python",
   "name": "conda-env-mlproject-py"
  },
  "language_info": {
   "codemirror_mode": {
    "name": "ipython",
    "version": 3
   },
   "file_extension": ".py",
   "mimetype": "text/x-python",
   "name": "python",
   "nbconvert_exporter": "python",
   "pygments_lexer": "ipython3",
   "version": "3.7.6"
  }
 },
 "nbformat": 4,
 "nbformat_minor": 4
}
