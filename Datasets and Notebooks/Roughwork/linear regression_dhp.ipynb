{
 "cells": [
  {
   "cell_type": "code",
   "execution_count": 177,
   "metadata": {},
   "outputs": [],
   "source": [
    "from sklearn import tree\n",
    "import matplotlib.pyplot as plt\n",
    "import numpy as np\n",
    "import pandas as pd\n",
    "\n",
    "from sklearn.feature_selection import SelectKBest\n",
    "from sklearn.feature_selection import chi2\n",
    "\n",
    "from sklearn.ensemble import ExtraTreesClassifier\n",
    "\n"
   ]
  },
  {
   "cell_type": "code",
   "execution_count": 178,
   "metadata": {},
   "outputs": [
    {
     "name": "stdout",
     "output_type": "stream",
     "text": [
      "<class 'pandas.core.frame.DataFrame'>\n",
      "RangeIndex: 15634 entries, 0 to 15633\n",
      "Data columns (total 13 columns):\n",
      " #   Column                    Non-Null Count  Dtype  \n",
      "---  ------                    --------------  -----  \n",
      " 0   DATEPRD                   15634 non-null  object \n",
      " 1   WELL_BORE_CODE            15634 non-null  object \n",
      " 2   AVG_DOWNHOLE_PRESSURE     15634 non-null  float64\n",
      " 3   AVG_DOWNHOLE_TEMPERATURE  15634 non-null  float64\n",
      " 4   AVG_DP_TUBING             15634 non-null  float64\n",
      " 5   AVG_ANNULUS_PRESS         15634 non-null  float64\n",
      " 6   AVG_CHOKE_SIZE_P          15634 non-null  float64\n",
      " 7   AVG_WHP_P                 15634 non-null  float64\n",
      " 8   AVG_WHT_P                 15634 non-null  float64\n",
      " 9   DP_CHOKE_SIZE             15634 non-null  float64\n",
      " 10  BORE_OIL_VOL              15634 non-null  float64\n",
      " 11  BORE_GAS_VOL              15634 non-null  float64\n",
      " 12  BORE_WAT_VOL              15634 non-null  float64\n",
      "dtypes: float64(11), object(2)\n",
      "memory usage: 1.6+ MB\n"
     ]
    }
   ],
   "source": [
    "data = pd.read_csv('Volve_final_prod_data.csv')\n",
    "data = data.loc[:, ~data.columns.str.contains('^Unnamed')]\n",
    "data = data.fillna(0)\n",
    "\n",
    "data.info()"
   ]
  },
  {
   "cell_type": "code",
   "execution_count": 179,
   "metadata": {},
   "outputs": [
    {
     "data": {
      "text/plain": [
       "array(['NO 15/9-F-1 C', 'NO 15/9-F-11 H', 'NO 15/9-F-12 H',\n",
       "       'NO 15/9-F-14 H', 'NO 15/9-F-15 D'], dtype=object)"
      ]
     },
     "execution_count": 179,
     "metadata": {},
     "output_type": "execute_result"
    }
   ],
   "source": [
    "#Clean the data, drop the two wells and drop where all output is zero\n",
    "well_array = ['NO 15/9-F-1 C', 'NO 15/9-F-11 H', 'NO 15/9-F-12 H','NO 15/9-F-14 H', 'NO 15/9-F-15 D']\n",
    "data = data.loc[data['WELL_BORE_CODE'].isin(well_array)]\n",
    "data['WELL_BORE_CODE'].unique()"
   ]
  },
  {
   "cell_type": "code",
   "execution_count": 180,
   "metadata": {},
   "outputs": [
    {
     "data": {
      "text/html": [
       "<div>\n",
       "<style scoped>\n",
       "    .dataframe tbody tr th:only-of-type {\n",
       "        vertical-align: middle;\n",
       "    }\n",
       "\n",
       "    .dataframe tbody tr th {\n",
       "        vertical-align: top;\n",
       "    }\n",
       "\n",
       "    .dataframe thead th {\n",
       "        text-align: right;\n",
       "    }\n",
       "</style>\n",
       "<table border=\"1\" class=\"dataframe\">\n",
       "  <thead>\n",
       "    <tr style=\"text-align: right;\">\n",
       "      <th></th>\n",
       "      <th>DATEPRD</th>\n",
       "      <th>WELL_BORE_CODE</th>\n",
       "      <th>AVG_DOWNHOLE_PRESSURE</th>\n",
       "      <th>AVG_DOWNHOLE_TEMPERATURE</th>\n",
       "      <th>AVG_DP_TUBING</th>\n",
       "      <th>AVG_ANNULUS_PRESS</th>\n",
       "      <th>AVG_CHOKE_SIZE_P</th>\n",
       "      <th>AVG_WHP_P</th>\n",
       "      <th>AVG_WHT_P</th>\n",
       "      <th>DP_CHOKE_SIZE</th>\n",
       "      <th>BORE_OIL_VOL</th>\n",
       "      <th>BORE_GAS_VOL</th>\n",
       "      <th>BORE_WAT_VOL</th>\n",
       "      <th>WELL_POS</th>\n",
       "    </tr>\n",
       "  </thead>\n",
       "  <tbody>\n",
       "    <tr>\n",
       "      <th>0</th>\n",
       "      <td>4/7/2014</td>\n",
       "      <td>NO 15/9-F-1 C</td>\n",
       "      <td>0.00</td>\n",
       "      <td>0.00</td>\n",
       "      <td>0.00</td>\n",
       "      <td>0.0</td>\n",
       "      <td>0.00</td>\n",
       "      <td>0.0</td>\n",
       "      <td>0.00</td>\n",
       "      <td>0.00</td>\n",
       "      <td>0.0</td>\n",
       "      <td>0.0</td>\n",
       "      <td>0.0</td>\n",
       "      <td>Flank</td>\n",
       "    </tr>\n",
       "    <tr>\n",
       "      <th>1</th>\n",
       "      <td>4/8/2014</td>\n",
       "      <td>NO 15/9-F-1 C</td>\n",
       "      <td>0.00</td>\n",
       "      <td>0.00</td>\n",
       "      <td>0.00</td>\n",
       "      <td>0.0</td>\n",
       "      <td>1.00</td>\n",
       "      <td>0.0</td>\n",
       "      <td>0.00</td>\n",
       "      <td>0.00</td>\n",
       "      <td>0.0</td>\n",
       "      <td>0.0</td>\n",
       "      <td>0.0</td>\n",
       "      <td>Flank</td>\n",
       "    </tr>\n",
       "    <tr>\n",
       "      <th>2</th>\n",
       "      <td>4/9/2014</td>\n",
       "      <td>NO 15/9-F-1 C</td>\n",
       "      <td>0.00</td>\n",
       "      <td>0.00</td>\n",
       "      <td>0.00</td>\n",
       "      <td>0.0</td>\n",
       "      <td>0.98</td>\n",
       "      <td>0.0</td>\n",
       "      <td>0.00</td>\n",
       "      <td>0.00</td>\n",
       "      <td>0.0</td>\n",
       "      <td>0.0</td>\n",
       "      <td>0.0</td>\n",
       "      <td>Flank</td>\n",
       "    </tr>\n",
       "    <tr>\n",
       "      <th>3</th>\n",
       "      <td>4/10/2014</td>\n",
       "      <td>NO 15/9-F-1 C</td>\n",
       "      <td>0.00</td>\n",
       "      <td>0.00</td>\n",
       "      <td>0.00</td>\n",
       "      <td>0.0</td>\n",
       "      <td>0.55</td>\n",
       "      <td>0.0</td>\n",
       "      <td>0.00</td>\n",
       "      <td>0.00</td>\n",
       "      <td>0.0</td>\n",
       "      <td>0.0</td>\n",
       "      <td>0.0</td>\n",
       "      <td>Flank</td>\n",
       "    </tr>\n",
       "    <tr>\n",
       "      <th>4</th>\n",
       "      <td>4/11/2014</td>\n",
       "      <td>NO 15/9-F-1 C</td>\n",
       "      <td>310.38</td>\n",
       "      <td>96.88</td>\n",
       "      <td>277.28</td>\n",
       "      <td>0.0</td>\n",
       "      <td>1.22</td>\n",
       "      <td>33.1</td>\n",
       "      <td>10.48</td>\n",
       "      <td>33.07</td>\n",
       "      <td>0.0</td>\n",
       "      <td>0.0</td>\n",
       "      <td>0.0</td>\n",
       "      <td>Flank</td>\n",
       "    </tr>\n",
       "  </tbody>\n",
       "</table>\n",
       "</div>"
      ],
      "text/plain": [
       "     DATEPRD WELL_BORE_CODE  AVG_DOWNHOLE_PRESSURE  AVG_DOWNHOLE_TEMPERATURE  \\\n",
       "0   4/7/2014  NO 15/9-F-1 C                   0.00                      0.00   \n",
       "1   4/8/2014  NO 15/9-F-1 C                   0.00                      0.00   \n",
       "2   4/9/2014  NO 15/9-F-1 C                   0.00                      0.00   \n",
       "3  4/10/2014  NO 15/9-F-1 C                   0.00                      0.00   \n",
       "4  4/11/2014  NO 15/9-F-1 C                 310.38                     96.88   \n",
       "\n",
       "   AVG_DP_TUBING  AVG_ANNULUS_PRESS  AVG_CHOKE_SIZE_P  AVG_WHP_P  AVG_WHT_P  \\\n",
       "0           0.00                0.0              0.00        0.0       0.00   \n",
       "1           0.00                0.0              1.00        0.0       0.00   \n",
       "2           0.00                0.0              0.98        0.0       0.00   \n",
       "3           0.00                0.0              0.55        0.0       0.00   \n",
       "4         277.28                0.0              1.22       33.1      10.48   \n",
       "\n",
       "   DP_CHOKE_SIZE  BORE_OIL_VOL  BORE_GAS_VOL  BORE_WAT_VOL WELL_POS  \n",
       "0           0.00           0.0           0.0           0.0    Flank  \n",
       "1           0.00           0.0           0.0           0.0    Flank  \n",
       "2           0.00           0.0           0.0           0.0    Flank  \n",
       "3           0.00           0.0           0.0           0.0    Flank  \n",
       "4          33.07           0.0           0.0           0.0    Flank  "
      ]
     },
     "execution_count": 180,
     "metadata": {},
     "output_type": "execute_result"
    }
   ],
   "source": [
    "well_dictionary ={'NO 15/9-F-1 C': 'Flank', 'NO 15/9-F-11 H':'Flank', 'NO 15/9-F-12 H':'Crest',\n",
    "                  'NO 15/9-F-14 H':'Crest', 'NO 15/9-F-15 D':'Flank'} \n",
    "  \n",
    "# Add a new column named 'WELL_POS' \n",
    "data['WELL_POS'] = data['WELL_BORE_CODE'].map(well_dictionary) \n",
    "data.head()"
   ]
  },
  {
   "cell_type": "code",
   "execution_count": 181,
   "metadata": {},
   "outputs": [
    {
     "name": "stdout",
     "output_type": "stream",
     "text": [
      "<class 'pandas.core.frame.DataFrame'>\n",
      "Int64Index: 7882 entries, 15 to 8927\n",
      "Data columns (total 14 columns):\n",
      " #   Column                    Non-Null Count  Dtype  \n",
      "---  ------                    --------------  -----  \n",
      " 0   DATEPRD                   7882 non-null   object \n",
      " 1   WELL_BORE_CODE            7882 non-null   object \n",
      " 2   AVG_DOWNHOLE_PRESSURE     7882 non-null   float64\n",
      " 3   AVG_DOWNHOLE_TEMPERATURE  7882 non-null   float64\n",
      " 4   AVG_DP_TUBING             7882 non-null   float64\n",
      " 5   AVG_ANNULUS_PRESS         7882 non-null   float64\n",
      " 6   AVG_CHOKE_SIZE_P          7882 non-null   float64\n",
      " 7   AVG_WHP_P                 7882 non-null   float64\n",
      " 8   AVG_WHT_P                 7882 non-null   float64\n",
      " 9   DP_CHOKE_SIZE             7882 non-null   float64\n",
      " 10  BORE_OIL_VOL              7882 non-null   float64\n",
      " 11  BORE_GAS_VOL              7882 non-null   float64\n",
      " 12  BORE_WAT_VOL              7882 non-null   float64\n",
      " 13  WELL_POS                  7882 non-null   object \n",
      "dtypes: float64(11), object(3)\n",
      "memory usage: 923.7+ KB\n"
     ]
    }
   ],
   "source": [
    "df= data.drop(data[(data[\"BORE_OIL_VOL\"] == 0) & (data[\"BORE_GAS_VOL\"] == 0) & (data[\"BORE_WAT_VOL\"] == 0)].index)\n",
    "df.info()"
   ]
  },
  {
   "cell_type": "code",
   "execution_count": 11,
   "metadata": {},
   "outputs": [],
   "source": [
    "#df.to_csv('All_wells_final3.csv')"
   ]
  },
  {
   "cell_type": "code",
   "execution_count": 182,
   "metadata": {},
   "outputs": [
    {
     "data": {
      "text/html": [
       "<div>\n",
       "<style scoped>\n",
       "    .dataframe tbody tr th:only-of-type {\n",
       "        vertical-align: middle;\n",
       "    }\n",
       "\n",
       "    .dataframe tbody tr th {\n",
       "        vertical-align: top;\n",
       "    }\n",
       "\n",
       "    .dataframe thead th {\n",
       "        text-align: right;\n",
       "    }\n",
       "</style>\n",
       "<table border=\"1\" class=\"dataframe\">\n",
       "  <thead>\n",
       "    <tr style=\"text-align: right;\">\n",
       "      <th></th>\n",
       "      <th>AVG_WHP_P</th>\n",
       "      <th>AVG_CHOKE_SIZE_P</th>\n",
       "      <th>BORE_OIL_VOL</th>\n",
       "      <th>AVG_ANNULUS_PRESS</th>\n",
       "    </tr>\n",
       "  </thead>\n",
       "  <tbody>\n",
       "    <tr>\n",
       "      <th>15</th>\n",
       "      <td>107.36</td>\n",
       "      <td>43.34</td>\n",
       "      <td>631.47</td>\n",
       "      <td>0.0</td>\n",
       "    </tr>\n",
       "    <tr>\n",
       "      <th>16</th>\n",
       "      <td>99.19</td>\n",
       "      <td>47.17</td>\n",
       "      <td>1166.46</td>\n",
       "      <td>0.0</td>\n",
       "    </tr>\n",
       "    <tr>\n",
       "      <th>17</th>\n",
       "      <td>94.60</td>\n",
       "      <td>47.73</td>\n",
       "      <td>1549.81</td>\n",
       "      <td>0.0</td>\n",
       "    </tr>\n",
       "    <tr>\n",
       "      <th>18</th>\n",
       "      <td>89.99</td>\n",
       "      <td>48.53</td>\n",
       "      <td>1248.70</td>\n",
       "      <td>0.0</td>\n",
       "    </tr>\n",
       "    <tr>\n",
       "      <th>19</th>\n",
       "      <td>84.78</td>\n",
       "      <td>49.84</td>\n",
       "      <td>1345.78</td>\n",
       "      <td>0.0</td>\n",
       "    </tr>\n",
       "  </tbody>\n",
       "</table>\n",
       "</div>"
      ],
      "text/plain": [
       "    AVG_WHP_P  AVG_CHOKE_SIZE_P  BORE_OIL_VOL  AVG_ANNULUS_PRESS\n",
       "15     107.36             43.34        631.47                0.0\n",
       "16      99.19             47.17       1166.46                0.0\n",
       "17      94.60             47.73       1549.81                0.0\n",
       "18      89.99             48.53       1248.70                0.0\n",
       "19      84.78             49.84       1345.78                0.0"
      ]
     },
     "execution_count": 182,
     "metadata": {},
     "output_type": "execute_result"
    }
   ],
   "source": [
    "#Downhole Pressure influences downhole temp and DP Tubing\n",
    "#Avg wellhead oressure and temp are related\n",
    "df1 = df[['AVG_WHP_P','AVG_CHOKE_SIZE_P','BORE_OIL_VOL','AVG_ANNULUS_PRESS']]\n",
    "feature_names = df1.columns\n",
    "df1.head()"
   ]
  },
  {
   "cell_type": "code",
   "execution_count": 183,
   "metadata": {},
   "outputs": [
    {
     "data": {
      "text/plain": [
       "Index(['AVG_WHP_P', 'AVG_CHOKE_SIZE_P', 'BORE_OIL_VOL', 'AVG_ANNULUS_PRESS'], dtype='object')"
      ]
     },
     "execution_count": 183,
     "metadata": {},
     "output_type": "execute_result"
    }
   ],
   "source": [
    "feature_names"
   ]
  },
  {
   "cell_type": "code",
   "execution_count": 184,
   "metadata": {},
   "outputs": [],
   "source": [
    "X = df1\n",
    "y = df['AVG_DOWNHOLE_PRESSURE'].values.reshape(-1,1)"
   ]
  },
  {
   "cell_type": "code",
   "execution_count": 185,
   "metadata": {},
   "outputs": [],
   "source": [
    "from sklearn.model_selection import train_test_split\n",
    "X_train, X_test, y_train, y_test = train_test_split(X, y, random_state=1)"
   ]
  },
  {
   "cell_type": "code",
   "execution_count": 186,
   "metadata": {},
   "outputs": [
    {
     "data": {
      "text/plain": [
       "(5911, 4)"
      ]
     },
     "execution_count": 186,
     "metadata": {},
     "output_type": "execute_result"
    }
   ],
   "source": [
    "X_train.shape"
   ]
  },
  {
   "cell_type": "code",
   "execution_count": 187,
   "metadata": {},
   "outputs": [],
   "source": [
    "from sklearn.preprocessing import StandardScaler\n",
    "\n",
    "x_scaler = StandardScaler().fit(X_train)\n",
    "X_train_s = x_scaler.transform(X_train)\n",
    "X_test_s = x_scaler.transform(X_test)"
   ]
  },
  {
   "cell_type": "code",
   "execution_count": 188,
   "metadata": {},
   "outputs": [],
   "source": [
    "from sklearn.preprocessing import StandardScaler\n",
    "\n",
    "y_scaler = StandardScaler().fit( y_train)\n",
    "y_train_s = y_scaler.transform( y_train)\n",
    "y_test_s = y_scaler.transform(y_test)"
   ]
  },
  {
   "cell_type": "code",
   "execution_count": 189,
   "metadata": {},
   "outputs": [
    {
     "name": "stdout",
     "output_type": "stream",
     "text": [
      "R2 Score: 0.15605347112858214\n"
     ]
    }
   ],
   "source": [
    "from sklearn.linear_model import LinearRegression\n",
    "model = LinearRegression()\n",
    "model.fit(X_train_s, y_train_s)\n",
    "score = model.score(X_test_s, y_test_s)\n",
    "print(f\"R2 Score: {score}\")"
   ]
  },
  {
   "cell_type": "code",
   "execution_count": 190,
   "metadata": {},
   "outputs": [
    {
     "name": "stdout",
     "output_type": "stream",
     "text": [
      "Mean Squared Error (MSE): 0.8709468826189709\n",
      "R-squared (R2 ): 0.15605347112858214\n"
     ]
    }
   ],
   "source": [
    "from sklearn.metrics import mean_squared_error, r2_score\n",
    "predicted_train = model.predict(X_test_s)\n",
    "# YOUR CODE HERE\n",
    "# Score the prediction with mse and r2\n",
    "mse = mean_squared_error(y_test_s, predicted_train)\n",
    "r2 = r2_score(y_test_s, predicted_train)\n",
    "\n",
    "print(f\"Mean Squared Error (MSE): {mse}\")\n",
    "print(f\"R-squared (R2 ): {r2}\")"
   ]
  },
  {
   "cell_type": "code",
   "execution_count": 191,
   "metadata": {},
   "outputs": [
    {
     "data": {
      "text/plain": [
       "0.15605347112858214"
      ]
     },
     "execution_count": 191,
     "metadata": {},
     "output_type": "execute_result"
    }
   ],
   "source": [
    "# Call the `score` method on the model to show the r2 score\n",
    "model.score(X_test_s, y_test_s)"
   ]
  },
  {
   "cell_type": "code",
   "execution_count": 192,
   "metadata": {},
   "outputs": [
    {
     "data": {
      "text/plain": [
       "array([[ 0.02732628, -0.23448922,  0.19973982, -0.16917728]])"
      ]
     },
     "execution_count": 192,
     "metadata": {},
     "output_type": "execute_result"
    }
   ],
   "source": [
    "importances = model.coef_\n",
    "importances"
   ]
  },
  {
   "cell_type": "code",
   "execution_count": 193,
   "metadata": {},
   "outputs": [
    {
     "data": {
      "text/plain": [
       "(array([[ 0.02732628, -0.23448922,  0.19973982, -0.16917728]]),\n",
       " Index(['AVG_WHP_P', 'AVG_CHOKE_SIZE_P', 'BORE_OIL_VOL', 'AVG_ANNULUS_PRESS'], dtype='object'))"
      ]
     },
     "execution_count": 193,
     "metadata": {},
     "output_type": "execute_result"
    }
   ],
   "source": [
    "importances,feature_names"
   ]
  },
  {
   "cell_type": "code",
   "execution_count": 194,
   "metadata": {},
   "outputs": [
    {
     "data": {
      "text/plain": [
       "Text(0.5, 1.0, 'Residual Plot')"
      ]
     },
     "execution_count": 194,
     "metadata": {},
     "output_type": "execute_result"
    },
    {
     "data": {
      "image/png": "[encoded data removed]",
      "text/plain": [
       "<Figure size 432x288 with 1 Axes>"
      ]
     },
     "metadata": {
      "needs_background": "light"
     },
     "output_type": "display_data"
    }
   ],
   "source": [
    "# Plot the Residuals for the Training and Testing data\n",
    "\n",
    "### BEGIN SOLUTION\n",
    "plt.scatter(model.predict(X_train), model.predict(X_train) - y_train, c=\"blue\", label=\"Training Data\")\n",
    "plt.scatter(model.predict(X_test), model.predict(X_test) - y_test, c=\"orange\", label=\"Testing Data\")\n",
    "plt.legend()\n",
    "plt.hlines(y=0, xmin=y.min(), xmax=y.max())\n",
    "plt.title(\"Residual Plot\")"
   ]
  },
  {
   "cell_type": "markdown",
   "metadata": {},
   "source": [
    "NON-LINEAR REGRESSION"
   ]
  },
  {
   "cell_type": "code",
   "execution_count": 213,
   "metadata": {},
   "outputs": [
    {
     "name": "stderr",
     "output_type": "stream",
     "text": [
      "C:\\Users\\RAKHI\\Anaconda3\\envs\\ML\\lib\\site-packages\\ipykernel_launcher.py:1: SettingWithCopyWarning: \n",
      "A value is trying to be set on a copy of a slice from a DataFrame.\n",
      "Try using .loc[row_indexer,col_indexer] = value instead\n",
      "\n",
      "See the caveats in the documentation: https://pandas.pydata.org/pandas-docs/stable/user_guide/indexing.html#returning-a-view-versus-a-copy\n",
      "  \"\"\"Entry point for launching an IPython kernel.\n"
     ]
    },
    {
     "data": {
      "text/html": [
       "<div>\n",
       "<style scoped>\n",
       "    .dataframe tbody tr th:only-of-type {\n",
       "        vertical-align: middle;\n",
       "    }\n",
       "\n",
       "    .dataframe tbody tr th {\n",
       "        vertical-align: top;\n",
       "    }\n",
       "\n",
       "    .dataframe thead th {\n",
       "        text-align: right;\n",
       "    }\n",
       "</style>\n",
       "<table border=\"1\" class=\"dataframe\">\n",
       "  <thead>\n",
       "    <tr style=\"text-align: right;\">\n",
       "      <th></th>\n",
       "      <th>AVG_WHP_P</th>\n",
       "      <th>AVG_CHOKE_SIZE_P</th>\n",
       "      <th>BORE_OIL_VOL</th>\n",
       "      <th>AVG_ANNULUS_PRESS</th>\n",
       "      <th>AVG_CHOKE_SIZE_P_sq</th>\n",
       "      <th>BORE_OIL_VOL_sq</th>\n",
       "    </tr>\n",
       "  </thead>\n",
       "  <tbody>\n",
       "    <tr>\n",
       "      <th>15</th>\n",
       "      <td>107.36</td>\n",
       "      <td>43.34</td>\n",
       "      <td>631.47</td>\n",
       "      <td>0.0</td>\n",
       "      <td>1878.3556</td>\n",
       "      <td>3.987544e+05</td>\n",
       "    </tr>\n",
       "    <tr>\n",
       "      <th>16</th>\n",
       "      <td>99.19</td>\n",
       "      <td>47.17</td>\n",
       "      <td>1166.46</td>\n",
       "      <td>0.0</td>\n",
       "      <td>2225.0089</td>\n",
       "      <td>1.360629e+06</td>\n",
       "    </tr>\n",
       "    <tr>\n",
       "      <th>17</th>\n",
       "      <td>94.60</td>\n",
       "      <td>47.73</td>\n",
       "      <td>1549.81</td>\n",
       "      <td>0.0</td>\n",
       "      <td>2278.1529</td>\n",
       "      <td>2.401911e+06</td>\n",
       "    </tr>\n",
       "    <tr>\n",
       "      <th>18</th>\n",
       "      <td>89.99</td>\n",
       "      <td>48.53</td>\n",
       "      <td>1248.70</td>\n",
       "      <td>0.0</td>\n",
       "      <td>2355.1609</td>\n",
       "      <td>1.559252e+06</td>\n",
       "    </tr>\n",
       "    <tr>\n",
       "      <th>19</th>\n",
       "      <td>84.78</td>\n",
       "      <td>49.84</td>\n",
       "      <td>1345.78</td>\n",
       "      <td>0.0</td>\n",
       "      <td>2484.0256</td>\n",
       "      <td>1.811124e+06</td>\n",
       "    </tr>\n",
       "  </tbody>\n",
       "</table>\n",
       "</div>"
      ],
      "text/plain": [
       "    AVG_WHP_P  AVG_CHOKE_SIZE_P  BORE_OIL_VOL  AVG_ANNULUS_PRESS  \\\n",
       "15     107.36             43.34        631.47                0.0   \n",
       "16      99.19             47.17       1166.46                0.0   \n",
       "17      94.60             47.73       1549.81                0.0   \n",
       "18      89.99             48.53       1248.70                0.0   \n",
       "19      84.78             49.84       1345.78                0.0   \n",
       "\n",
       "    AVG_CHOKE_SIZE_P_sq  BORE_OIL_VOL_sq  \n",
       "15            1878.3556     3.987544e+05  \n",
       "16            2225.0089     1.360629e+06  \n",
       "17            2278.1529     2.401911e+06  \n",
       "18            2355.1609     1.559252e+06  \n",
       "19            2484.0256     1.811124e+06  "
      ]
     },
     "execution_count": 213,
     "metadata": {},
     "output_type": "execute_result"
    }
   ],
   "source": [
    "df1['BORE_OIL_VOL_sq']=df1['BORE_OIL_VOL']**2\n",
    "df1.head()"
   ]
  },
  {
   "cell_type": "code",
   "execution_count": 214,
   "metadata": {},
   "outputs": [
    {
     "data": {
      "text/html": [
       "<div>\n",
       "<style scoped>\n",
       "    .dataframe tbody tr th:only-of-type {\n",
       "        vertical-align: middle;\n",
       "    }\n",
       "\n",
       "    .dataframe tbody tr th {\n",
       "        vertical-align: top;\n",
       "    }\n",
       "\n",
       "    .dataframe thead th {\n",
       "        text-align: right;\n",
       "    }\n",
       "</style>\n",
       "<table border=\"1\" class=\"dataframe\">\n",
       "  <thead>\n",
       "    <tr style=\"text-align: right;\">\n",
       "      <th></th>\n",
       "      <th>AVG_CHOKE_SIZE_P</th>\n",
       "      <th>AVG_WHP_P</th>\n",
       "      <th>BORE_OIL_VOL_sq</th>\n",
       "      <th>AVG_ANNULUS_PRESS</th>\n",
       "    </tr>\n",
       "  </thead>\n",
       "  <tbody>\n",
       "    <tr>\n",
       "      <th>15</th>\n",
       "      <td>43.34</td>\n",
       "      <td>107.36</td>\n",
       "      <td>3.987544e+05</td>\n",
       "      <td>0.0</td>\n",
       "    </tr>\n",
       "    <tr>\n",
       "      <th>16</th>\n",
       "      <td>47.17</td>\n",
       "      <td>99.19</td>\n",
       "      <td>1.360629e+06</td>\n",
       "      <td>0.0</td>\n",
       "    </tr>\n",
       "    <tr>\n",
       "      <th>17</th>\n",
       "      <td>47.73</td>\n",
       "      <td>94.60</td>\n",
       "      <td>2.401911e+06</td>\n",
       "      <td>0.0</td>\n",
       "    </tr>\n",
       "    <tr>\n",
       "      <th>18</th>\n",
       "      <td>48.53</td>\n",
       "      <td>89.99</td>\n",
       "      <td>1.559252e+06</td>\n",
       "      <td>0.0</td>\n",
       "    </tr>\n",
       "    <tr>\n",
       "      <th>19</th>\n",
       "      <td>49.84</td>\n",
       "      <td>84.78</td>\n",
       "      <td>1.811124e+06</td>\n",
       "      <td>0.0</td>\n",
       "    </tr>\n",
       "  </tbody>\n",
       "</table>\n",
       "</div>"
      ],
      "text/plain": [
       "    AVG_CHOKE_SIZE_P  AVG_WHP_P  BORE_OIL_VOL_sq  AVG_ANNULUS_PRESS\n",
       "15             43.34     107.36     3.987544e+05                0.0\n",
       "16             47.17      99.19     1.360629e+06                0.0\n",
       "17             47.73      94.60     2.401911e+06                0.0\n",
       "18             48.53      89.99     1.559252e+06                0.0\n",
       "19             49.84      84.78     1.811124e+06                0.0"
      ]
     },
     "execution_count": 214,
     "metadata": {},
     "output_type": "execute_result"
    }
   ],
   "source": [
    "df2 = df1[['AVG_CHOKE_SIZE_P','AVG_WHP_P','BORE_OIL_VOL_sq','AVG_ANNULUS_PRESS']]\n",
    "df2.head()\n"
   ]
  },
  {
   "cell_type": "code",
   "execution_count": 215,
   "metadata": {},
   "outputs": [
    {
     "data": {
      "text/plain": [
       "Index(['AVG_CHOKE_SIZE_P', 'AVG_WHP_P', 'BORE_OIL_VOL_sq',\n",
       "       'AVG_ANNULUS_PRESS'],\n",
       "      dtype='object')"
      ]
     },
     "execution_count": 215,
     "metadata": {},
     "output_type": "execute_result"
    }
   ],
   "source": [
    "feature_names_2=df2.columns\n",
    "feature_names_2"
   ]
  },
  {
   "cell_type": "code",
   "execution_count": 216,
   "metadata": {},
   "outputs": [],
   "source": [
    "X = df2\n",
    "y = df['AVG_DOWNHOLE_PRESSURE'].values.reshape(-1,1)"
   ]
  },
  {
   "cell_type": "code",
   "execution_count": 217,
   "metadata": {},
   "outputs": [],
   "source": [
    "\n",
    "from sklearn.model_selection import train_test_split\n",
    "X_train, X_test, y_train, y_test = train_test_split(X, y, random_state=1)"
   ]
  },
  {
   "cell_type": "code",
   "execution_count": 218,
   "metadata": {},
   "outputs": [
    {
     "data": {
      "text/plain": [
       "(5911, 4)"
      ]
     },
     "execution_count": 218,
     "metadata": {},
     "output_type": "execute_result"
    }
   ],
   "source": [
    "X_train.shape"
   ]
  },
  {
   "cell_type": "code",
   "execution_count": 219,
   "metadata": {},
   "outputs": [
    {
     "data": {
      "text/plain": [
       "(5911, 1)"
      ]
     },
     "execution_count": 219,
     "metadata": {},
     "output_type": "execute_result"
    }
   ],
   "source": [
    "y_train.shape"
   ]
  },
  {
   "cell_type": "code",
   "execution_count": 220,
   "metadata": {},
   "outputs": [],
   "source": [
    "from sklearn.preprocessing import StandardScaler\n",
    "\n",
    "x_scaler = StandardScaler().fit(X_train)\n",
    "X_train_s = x_scaler.transform(X_train)\n",
    "X_test_s = x_scaler.transform(X_test)"
   ]
  },
  {
   "cell_type": "code",
   "execution_count": 221,
   "metadata": {},
   "outputs": [],
   "source": [
    "from sklearn.preprocessing import StandardScaler\n",
    "\n",
    "y_scaler = StandardScaler().fit( y_train)\n",
    "y_train_s = y_scaler.transform( y_train)\n",
    "y_test_s = y_scaler.transform(y_test)"
   ]
  },
  {
   "cell_type": "code",
   "execution_count": 222,
   "metadata": {},
   "outputs": [
    {
     "name": "stdout",
     "output_type": "stream",
     "text": [
      "R2 Score: 0.15226953711540725\n"
     ]
    }
   ],
   "source": [
    "from sklearn.linear_model import LinearRegression\n",
    "model = LinearRegression()\n",
    "model.fit(X_train_s, y_train_s)\n",
    "score = model.score(X_test_s, y_test_s)\n",
    "print(f\"R2 Score: {score}\")"
   ]
  },
  {
   "cell_type": "code",
   "execution_count": 223,
   "metadata": {},
   "outputs": [
    {
     "name": "stdout",
     "output_type": "stream",
     "text": [
      "Mean Squared Error (MSE): 0.8748518759095029\n",
      "R-squared (R2 ): 0.15226953711540725\n"
     ]
    }
   ],
   "source": [
    "from sklearn.metrics import mean_squared_error, r2_score\n",
    "predicted_train = model.predict(X_test_s)\n",
    "# YOUR CODE HERE\n",
    "# Score the prediction with mse and r2\n",
    "mse = mean_squared_error(y_test_s, predicted_train)\n",
    "r2 = r2_score(y_test_s, predicted_train)\n",
    "\n",
    "print(f\"Mean Squared Error (MSE): {mse}\")\n",
    "print(f\"R-squared (R2 ): {r2}\")"
   ]
  },
  {
   "cell_type": "code",
   "execution_count": 224,
   "metadata": {},
   "outputs": [
    {
     "data": {
      "text/plain": [
       "0.15226953711540725"
      ]
     },
     "execution_count": 224,
     "metadata": {},
     "output_type": "execute_result"
    }
   ],
   "source": [
    "# Call the `score` method on the model to show the r2 score\n",
    "model.score(X_test_s, y_test_s)"
   ]
  },
  {
   "cell_type": "code",
   "execution_count": 225,
   "metadata": {},
   "outputs": [
    {
     "data": {
      "text/plain": [
       "array([[-0.21860248,  0.07181687,  0.1598229 , -0.18022871]])"
      ]
     },
     "execution_count": 225,
     "metadata": {},
     "output_type": "execute_result"
    }
   ],
   "source": [
    "importances = model.coef_\n",
    "importances"
   ]
  },
  {
   "cell_type": "code",
   "execution_count": 226,
   "metadata": {},
   "outputs": [
    {
     "data": {
      "text/plain": [
       "(array([[-0.21860248,  0.07181687,  0.1598229 , -0.18022871]]),\n",
       " Index(['AVG_CHOKE_SIZE_P', 'AVG_WHP_P', 'BORE_OIL_VOL_sq',\n",
       "        'AVG_ANNULUS_PRESS'],\n",
       "       dtype='object'))"
      ]
     },
     "execution_count": 226,
     "metadata": {},
     "output_type": "execute_result"
    }
   ],
   "source": [
    "importances,feature_names_2"
   ]
  }
 ],
 "metadata": {
  "kernelspec": {
   "display_name": "Python [conda env:ML]",
   "language": "python",
   "name": "conda-env-ML-py"
  },
  "language_info": {
   "codemirror_mode": {
    "name": "ipython",
    "version": 3
   },
   "file_extension": ".py",
   "mimetype": "text/x-python",
   "name": "python",
   "nbconvert_exporter": "python",
   "pygments_lexer": "ipython3",
   "version": "3.7.6"
  }
 },
 "nbformat": 4,
 "nbformat_minor": 4
}
