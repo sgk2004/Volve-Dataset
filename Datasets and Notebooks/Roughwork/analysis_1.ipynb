{
 "cells": [
  {
   "cell_type": "code",
   "execution_count": 55,
   "metadata": {},
   "outputs": [],
   "source": [
    "import matplotlib.pyplot as plt\n",
    "import numpy as np\n",
    "import pandas as pd"
   ]
  },
  {
   "cell_type": "code",
   "execution_count": 56,
   "metadata": {},
   "outputs": [
    {
     "data": {
      "text/html": [
       "<div>\n",
       "<style scoped>\n",
       "    .dataframe tbody tr th:only-of-type {\n",
       "        vertical-align: middle;\n",
       "    }\n",
       "\n",
       "    .dataframe tbody tr th {\n",
       "        vertical-align: top;\n",
       "    }\n",
       "\n",
       "    .dataframe thead th {\n",
       "        text-align: right;\n",
       "    }\n",
       "</style>\n",
       "<table border=\"1\" class=\"dataframe\">\n",
       "  <thead>\n",
       "    <tr style=\"text-align: right;\">\n",
       "      <th></th>\n",
       "      <th>DATEPRD</th>\n",
       "      <th>WELL_BORE_CODE</th>\n",
       "      <th>AVG_DOWNHOLE_PRESSURE</th>\n",
       "      <th>AVG_DOWNHOLE_TEMPERATURE</th>\n",
       "      <th>AVG_DP_TUBING</th>\n",
       "      <th>AVG_CHOKE_SIZE_P</th>\n",
       "      <th>AVG_WHP_P</th>\n",
       "      <th>AVG_WHT_P</th>\n",
       "      <th>DP_CHOKE_SIZE</th>\n",
       "      <th>BORE_OIL_VOL</th>\n",
       "      <th>BORE_GAS_VOL</th>\n",
       "      <th>BORE_WAT_VOL</th>\n",
       "    </tr>\n",
       "  </thead>\n",
       "  <tbody>\n",
       "    <tr>\n",
       "      <th>0</th>\n",
       "      <td>07-Apr-14</td>\n",
       "      <td>NO 15/9-F-1 C</td>\n",
       "      <td>0.000</td>\n",
       "      <td>0.000</td>\n",
       "      <td>0.000</td>\n",
       "      <td>0.00000</td>\n",
       "      <td>0.000</td>\n",
       "      <td>0.00</td>\n",
       "      <td>0.000</td>\n",
       "      <td>0</td>\n",
       "      <td>0</td>\n",
       "      <td>0</td>\n",
       "    </tr>\n",
       "    <tr>\n",
       "      <th>1</th>\n",
       "      <td>08-Apr-14</td>\n",
       "      <td>NO 15/9-F-1 C</td>\n",
       "      <td>NaN</td>\n",
       "      <td>NaN</td>\n",
       "      <td>NaN</td>\n",
       "      <td>1.00306</td>\n",
       "      <td>0.000</td>\n",
       "      <td>0.00</td>\n",
       "      <td>0.000</td>\n",
       "      <td>0</td>\n",
       "      <td>0</td>\n",
       "      <td>0</td>\n",
       "    </tr>\n",
       "    <tr>\n",
       "      <th>2</th>\n",
       "      <td>09-Apr-14</td>\n",
       "      <td>NO 15/9-F-1 C</td>\n",
       "      <td>NaN</td>\n",
       "      <td>NaN</td>\n",
       "      <td>NaN</td>\n",
       "      <td>0.97901</td>\n",
       "      <td>0.000</td>\n",
       "      <td>0.00</td>\n",
       "      <td>0.000</td>\n",
       "      <td>0</td>\n",
       "      <td>0</td>\n",
       "      <td>0</td>\n",
       "    </tr>\n",
       "    <tr>\n",
       "      <th>3</th>\n",
       "      <td>10-Apr-14</td>\n",
       "      <td>NO 15/9-F-1 C</td>\n",
       "      <td>NaN</td>\n",
       "      <td>NaN</td>\n",
       "      <td>NaN</td>\n",
       "      <td>0.54576</td>\n",
       "      <td>0.000</td>\n",
       "      <td>0.00</td>\n",
       "      <td>0.000</td>\n",
       "      <td>0</td>\n",
       "      <td>0</td>\n",
       "      <td>0</td>\n",
       "    </tr>\n",
       "    <tr>\n",
       "      <th>4</th>\n",
       "      <td>11-Apr-14</td>\n",
       "      <td>NO 15/9-F-1 C</td>\n",
       "      <td>310.376</td>\n",
       "      <td>96.876</td>\n",
       "      <td>277.278</td>\n",
       "      <td>1.21599</td>\n",
       "      <td>33.098</td>\n",
       "      <td>10.48</td>\n",
       "      <td>33.072</td>\n",
       "      <td>0</td>\n",
       "      <td>0</td>\n",
       "      <td>0</td>\n",
       "    </tr>\n",
       "  </tbody>\n",
       "</table>\n",
       "</div>"
      ],
      "text/plain": [
       "     DATEPRD WELL_BORE_CODE  AVG_DOWNHOLE_PRESSURE  AVG_DOWNHOLE_TEMPERATURE  \\\n",
       "0  07-Apr-14  NO 15/9-F-1 C                  0.000                     0.000   \n",
       "1  08-Apr-14  NO 15/9-F-1 C                    NaN                       NaN   \n",
       "2  09-Apr-14  NO 15/9-F-1 C                    NaN                       NaN   \n",
       "3  10-Apr-14  NO 15/9-F-1 C                    NaN                       NaN   \n",
       "4  11-Apr-14  NO 15/9-F-1 C                310.376                    96.876   \n",
       "\n",
       "   AVG_DP_TUBING  AVG_CHOKE_SIZE_P  AVG_WHP_P  AVG_WHT_P  DP_CHOKE_SIZE  \\\n",
       "0          0.000           0.00000      0.000       0.00          0.000   \n",
       "1            NaN           1.00306      0.000       0.00          0.000   \n",
       "2            NaN           0.97901      0.000       0.00          0.000   \n",
       "3            NaN           0.54576      0.000       0.00          0.000   \n",
       "4        277.278           1.21599     33.098      10.48         33.072   \n",
       "\n",
       "  BORE_OIL_VOL BORE_GAS_VOL BORE_WAT_VOL  \n",
       "0            0            0            0  \n",
       "1            0            0            0  \n",
       "2            0            0            0  \n",
       "3            0            0            0  \n",
       "4            0            0            0  "
      ]
     },
     "execution_count": 56,
     "metadata": {},
     "output_type": "execute_result"
    }
   ],
   "source": [
    "# Read the csv file into a pandas DataFrame\n",
    "\n",
    "volve_data = pd.read_csv('Resources/Volve_data.csv')\n",
    "volve_data.head()"
   ]
  },
  {
   "cell_type": "code",
   "execution_count": 57,
   "metadata": {},
   "outputs": [
    {
     "name": "stdout",
     "output_type": "stream",
     "text": [
      "<class 'pandas.core.frame.DataFrame'>\n",
      "RangeIndex: 15634 entries, 0 to 15633\n",
      "Data columns (total 12 columns):\n",
      " #   Column                    Non-Null Count  Dtype  \n",
      "---  ------                    --------------  -----  \n",
      " 0   DATEPRD                   15634 non-null  object \n",
      " 1   WELL_BORE_CODE            15634 non-null  object \n",
      " 2   AVG_DOWNHOLE_PRESSURE     8980 non-null   float64\n",
      " 3   AVG_DOWNHOLE_TEMPERATURE  8980 non-null   float64\n",
      " 4   AVG_DP_TUBING             8980 non-null   float64\n",
      " 5   AVG_CHOKE_SIZE_P          8919 non-null   float64\n",
      " 6   AVG_WHP_P                 9155 non-null   float64\n",
      " 7   AVG_WHT_P                 9146 non-null   float64\n",
      " 8   DP_CHOKE_SIZE             15340 non-null  float64\n",
      " 9   BORE_OIL_VOL              9161 non-null   object \n",
      " 10  BORE_GAS_VOL              9161 non-null   object \n",
      " 11  BORE_WAT_VOL              9161 non-null   object \n",
      "dtypes: float64(7), object(5)\n",
      "memory usage: 1.4+ MB\n"
     ]
    }
   ],
   "source": [
    "volve_data.info()"
   ]
  },
  {
   "cell_type": "code",
   "execution_count": 58,
   "metadata": {},
   "outputs": [],
   "source": [
    "#Fill null values with 0 \n",
    "volve_data = volve_data.fillna(0)"
   ]
  },
  {
   "cell_type": "code",
   "execution_count": 59,
   "metadata": {},
   "outputs": [
    {
     "name": "stdout",
     "output_type": "stream",
     "text": [
      "<class 'pandas.core.frame.DataFrame'>\n",
      "RangeIndex: 15634 entries, 0 to 15633\n",
      "Data columns (total 12 columns):\n",
      " #   Column                    Non-Null Count  Dtype  \n",
      "---  ------                    --------------  -----  \n",
      " 0   DATEPRD                   15634 non-null  object \n",
      " 1   WELL_BORE_CODE            15634 non-null  object \n",
      " 2   AVG_DOWNHOLE_PRESSURE     15634 non-null  float64\n",
      " 3   AVG_DOWNHOLE_TEMPERATURE  15634 non-null  float64\n",
      " 4   AVG_DP_TUBING             15634 non-null  float64\n",
      " 5   AVG_CHOKE_SIZE_P          15634 non-null  float64\n",
      " 6   AVG_WHP_P                 15634 non-null  float64\n",
      " 7   AVG_WHT_P                 15634 non-null  float64\n",
      " 8   DP_CHOKE_SIZE             15634 non-null  float64\n",
      " 9   BORE_OIL_VOL              15634 non-null  object \n",
      " 10  BORE_GAS_VOL              15634 non-null  object \n",
      " 11  BORE_WAT_VOL              15634 non-null  object \n",
      "dtypes: float64(7), object(5)\n",
      "memory usage: 1.4+ MB\n"
     ]
    }
   ],
   "source": [
    "volve_data.info()"
   ]
  },
  {
   "cell_type": "code",
   "execution_count": 70,
   "metadata": {},
   "outputs": [
    {
     "data": {
      "text/html": [
       "<div>\n",
       "<style scoped>\n",
       "    .dataframe tbody tr th:only-of-type {\n",
       "        vertical-align: middle;\n",
       "    }\n",
       "\n",
       "    .dataframe tbody tr th {\n",
       "        vertical-align: top;\n",
       "    }\n",
       "\n",
       "    .dataframe thead th {\n",
       "        text-align: right;\n",
       "    }\n",
       "</style>\n",
       "<table border=\"1\" class=\"dataframe\">\n",
       "  <thead>\n",
       "    <tr style=\"text-align: right;\">\n",
       "      <th></th>\n",
       "      <th>DATEPRD</th>\n",
       "      <th>WELL_BORE_CODE</th>\n",
       "      <th>AVG_DOWNHOLE_PRESSURE</th>\n",
       "      <th>AVG_DOWNHOLE_TEMPERATURE</th>\n",
       "      <th>AVG_DP_TUBING</th>\n",
       "      <th>AVG_CHOKE_SIZE_P</th>\n",
       "      <th>AVG_WHP_P</th>\n",
       "      <th>AVG_WHT_P</th>\n",
       "      <th>DP_CHOKE_SIZE</th>\n",
       "      <th>BORE_OIL_VOL</th>\n",
       "      <th>BORE_GAS_VOL</th>\n",
       "      <th>BORE_WAT_VOL</th>\n",
       "    </tr>\n",
       "  </thead>\n",
       "  <tbody>\n",
       "    <tr>\n",
       "      <th>0</th>\n",
       "      <td>07-Apr-14</td>\n",
       "      <td>NO 15/9-F-1 C</td>\n",
       "      <td>0.000</td>\n",
       "      <td>0.000</td>\n",
       "      <td>0.000</td>\n",
       "      <td>0.00000</td>\n",
       "      <td>0.000</td>\n",
       "      <td>0.00</td>\n",
       "      <td>0.000</td>\n",
       "      <td>0</td>\n",
       "      <td>0</td>\n",
       "      <td>0</td>\n",
       "    </tr>\n",
       "    <tr>\n",
       "      <th>1</th>\n",
       "      <td>08-Apr-14</td>\n",
       "      <td>NO 15/9-F-1 C</td>\n",
       "      <td>0.000</td>\n",
       "      <td>0.000</td>\n",
       "      <td>0.000</td>\n",
       "      <td>1.00306</td>\n",
       "      <td>0.000</td>\n",
       "      <td>0.00</td>\n",
       "      <td>0.000</td>\n",
       "      <td>0</td>\n",
       "      <td>0</td>\n",
       "      <td>0</td>\n",
       "    </tr>\n",
       "    <tr>\n",
       "      <th>2</th>\n",
       "      <td>09-Apr-14</td>\n",
       "      <td>NO 15/9-F-1 C</td>\n",
       "      <td>0.000</td>\n",
       "      <td>0.000</td>\n",
       "      <td>0.000</td>\n",
       "      <td>0.97901</td>\n",
       "      <td>0.000</td>\n",
       "      <td>0.00</td>\n",
       "      <td>0.000</td>\n",
       "      <td>0</td>\n",
       "      <td>0</td>\n",
       "      <td>0</td>\n",
       "    </tr>\n",
       "    <tr>\n",
       "      <th>3</th>\n",
       "      <td>10-Apr-14</td>\n",
       "      <td>NO 15/9-F-1 C</td>\n",
       "      <td>0.000</td>\n",
       "      <td>0.000</td>\n",
       "      <td>0.000</td>\n",
       "      <td>0.54576</td>\n",
       "      <td>0.000</td>\n",
       "      <td>0.00</td>\n",
       "      <td>0.000</td>\n",
       "      <td>0</td>\n",
       "      <td>0</td>\n",
       "      <td>0</td>\n",
       "    </tr>\n",
       "    <tr>\n",
       "      <th>4</th>\n",
       "      <td>11-Apr-14</td>\n",
       "      <td>NO 15/9-F-1 C</td>\n",
       "      <td>310.376</td>\n",
       "      <td>96.876</td>\n",
       "      <td>277.278</td>\n",
       "      <td>1.21599</td>\n",
       "      <td>33.098</td>\n",
       "      <td>10.48</td>\n",
       "      <td>33.072</td>\n",
       "      <td>0</td>\n",
       "      <td>0</td>\n",
       "      <td>0</td>\n",
       "    </tr>\n",
       "  </tbody>\n",
       "</table>\n",
       "</div>"
      ],
      "text/plain": [
       "     DATEPRD WELL_BORE_CODE  AVG_DOWNHOLE_PRESSURE  AVG_DOWNHOLE_TEMPERATURE  \\\n",
       "0  07-Apr-14  NO 15/9-F-1 C                  0.000                     0.000   \n",
       "1  08-Apr-14  NO 15/9-F-1 C                  0.000                     0.000   \n",
       "2  09-Apr-14  NO 15/9-F-1 C                  0.000                     0.000   \n",
       "3  10-Apr-14  NO 15/9-F-1 C                  0.000                     0.000   \n",
       "4  11-Apr-14  NO 15/9-F-1 C                310.376                    96.876   \n",
       "\n",
       "   AVG_DP_TUBING  AVG_CHOKE_SIZE_P  AVG_WHP_P  AVG_WHT_P  DP_CHOKE_SIZE  \\\n",
       "0          0.000           0.00000      0.000       0.00          0.000   \n",
       "1          0.000           1.00306      0.000       0.00          0.000   \n",
       "2          0.000           0.97901      0.000       0.00          0.000   \n",
       "3          0.000           0.54576      0.000       0.00          0.000   \n",
       "4        277.278           1.21599     33.098      10.48         33.072   \n",
       "\n",
       "  BORE_OIL_VOL BORE_GAS_VOL BORE_WAT_VOL  \n",
       "0            0            0            0  \n",
       "1            0            0            0  \n",
       "2            0            0            0  \n",
       "3            0            0            0  \n",
       "4            0            0            0  "
      ]
     },
     "execution_count": 70,
     "metadata": {},
     "output_type": "execute_result"
    }
   ],
   "source": [
    "df1 = volve_data.loc[volve_data['WELL_BORE_CODE']== 'NO 15/9-F-1 C']\n",
    "df1.head()\n",
    "\n"
   ]
  },
  {
   "cell_type": "code",
   "execution_count": 71,
   "metadata": {},
   "outputs": [],
   "source": [
    "df1.to_csv('Well1.csv')"
   ]
  },
  {
   "cell_type": "code",
   "execution_count": 100,
   "metadata": {},
   "outputs": [
    {
     "data": {
      "text/html": [
       "<div>\n",
       "<style scoped>\n",
       "    .dataframe tbody tr th:only-of-type {\n",
       "        vertical-align: middle;\n",
       "    }\n",
       "\n",
       "    .dataframe tbody tr th {\n",
       "        vertical-align: top;\n",
       "    }\n",
       "\n",
       "    .dataframe thead th {\n",
       "        text-align: right;\n",
       "    }\n",
       "</style>\n",
       "<table border=\"1\" class=\"dataframe\">\n",
       "  <thead>\n",
       "    <tr style=\"text-align: right;\">\n",
       "      <th></th>\n",
       "      <th>Unnamed: 0</th>\n",
       "      <th>DATEPRD</th>\n",
       "      <th>WELL_BORE_CODE</th>\n",
       "      <th>AVG_DOWNHOLE_PRESSURE</th>\n",
       "      <th>AVG_DOWNHOLE_TEMPERATURE</th>\n",
       "      <th>AVG_DP_TUBING</th>\n",
       "      <th>AVG_CHOKE_SIZE_P</th>\n",
       "      <th>AVG_WHP_P</th>\n",
       "      <th>AVG_WHT_P</th>\n",
       "      <th>DP_CHOKE_SIZE</th>\n",
       "      <th>BORE_OIL_VOL</th>\n",
       "      <th>BORE_GAS_VOL</th>\n",
       "      <th>BORE_WAT_VOL</th>\n",
       "      <th>Unnamed: 13</th>\n",
       "    </tr>\n",
       "  </thead>\n",
       "  <tbody>\n",
       "    <tr>\n",
       "      <th>0</th>\n",
       "      <td>0</td>\n",
       "      <td>7-Apr-14</td>\n",
       "      <td>NO 15/9-F-1 C</td>\n",
       "      <td>0.000</td>\n",
       "      <td>0.000</td>\n",
       "      <td>0.000</td>\n",
       "      <td>0.00000</td>\n",
       "      <td>0.000</td>\n",
       "      <td>0.00</td>\n",
       "      <td>0.000</td>\n",
       "      <td>0.0</td>\n",
       "      <td>0.0</td>\n",
       "      <td>0.0</td>\n",
       "      <td>NaN</td>\n",
       "    </tr>\n",
       "    <tr>\n",
       "      <th>1</th>\n",
       "      <td>1</td>\n",
       "      <td>8-Apr-14</td>\n",
       "      <td>NO 15/9-F-1 C</td>\n",
       "      <td>0.000</td>\n",
       "      <td>0.000</td>\n",
       "      <td>0.000</td>\n",
       "      <td>1.00306</td>\n",
       "      <td>0.000</td>\n",
       "      <td>0.00</td>\n",
       "      <td>0.000</td>\n",
       "      <td>0.0</td>\n",
       "      <td>0.0</td>\n",
       "      <td>0.0</td>\n",
       "      <td>NaN</td>\n",
       "    </tr>\n",
       "    <tr>\n",
       "      <th>2</th>\n",
       "      <td>2</td>\n",
       "      <td>9-Apr-14</td>\n",
       "      <td>NO 15/9-F-1 C</td>\n",
       "      <td>0.000</td>\n",
       "      <td>0.000</td>\n",
       "      <td>0.000</td>\n",
       "      <td>0.97901</td>\n",
       "      <td>0.000</td>\n",
       "      <td>0.00</td>\n",
       "      <td>0.000</td>\n",
       "      <td>0.0</td>\n",
       "      <td>0.0</td>\n",
       "      <td>0.0</td>\n",
       "      <td>NaN</td>\n",
       "    </tr>\n",
       "    <tr>\n",
       "      <th>3</th>\n",
       "      <td>3</td>\n",
       "      <td>10-Apr-14</td>\n",
       "      <td>NO 15/9-F-1 C</td>\n",
       "      <td>0.000</td>\n",
       "      <td>0.000</td>\n",
       "      <td>0.000</td>\n",
       "      <td>0.54576</td>\n",
       "      <td>0.000</td>\n",
       "      <td>0.00</td>\n",
       "      <td>0.000</td>\n",
       "      <td>0.0</td>\n",
       "      <td>0.0</td>\n",
       "      <td>0.0</td>\n",
       "      <td>NaN</td>\n",
       "    </tr>\n",
       "    <tr>\n",
       "      <th>4</th>\n",
       "      <td>4</td>\n",
       "      <td>11-Apr-14</td>\n",
       "      <td>NO 15/9-F-1 C</td>\n",
       "      <td>310.376</td>\n",
       "      <td>96.876</td>\n",
       "      <td>277.278</td>\n",
       "      <td>1.21599</td>\n",
       "      <td>33.098</td>\n",
       "      <td>10.48</td>\n",
       "      <td>33.072</td>\n",
       "      <td>0.0</td>\n",
       "      <td>0.0</td>\n",
       "      <td>0.0</td>\n",
       "      <td>NaN</td>\n",
       "    </tr>\n",
       "  </tbody>\n",
       "</table>\n",
       "</div>"
      ],
      "text/plain": [
       "   Unnamed: 0    DATEPRD WELL_BORE_CODE  AVG_DOWNHOLE_PRESSURE  \\\n",
       "0           0   7-Apr-14  NO 15/9-F-1 C                  0.000   \n",
       "1           1   8-Apr-14  NO 15/9-F-1 C                  0.000   \n",
       "2           2   9-Apr-14  NO 15/9-F-1 C                  0.000   \n",
       "3           3  10-Apr-14  NO 15/9-F-1 C                  0.000   \n",
       "4           4  11-Apr-14  NO 15/9-F-1 C                310.376   \n",
       "\n",
       "   AVG_DOWNHOLE_TEMPERATURE  AVG_DP_TUBING  AVG_CHOKE_SIZE_P  AVG_WHP_P  \\\n",
       "0                     0.000          0.000           0.00000      0.000   \n",
       "1                     0.000          0.000           1.00306      0.000   \n",
       "2                     0.000          0.000           0.97901      0.000   \n",
       "3                     0.000          0.000           0.54576      0.000   \n",
       "4                    96.876        277.278           1.21599     33.098   \n",
       "\n",
       "   AVG_WHT_P  DP_CHOKE_SIZE  BORE_OIL_VOL  BORE_GAS_VOL  BORE_WAT_VOL  \\\n",
       "0       0.00          0.000           0.0           0.0           0.0   \n",
       "1       0.00          0.000           0.0           0.0           0.0   \n",
       "2       0.00          0.000           0.0           0.0           0.0   \n",
       "3       0.00          0.000           0.0           0.0           0.0   \n",
       "4      10.48         33.072           0.0           0.0           0.0   \n",
       "\n",
       "   Unnamed: 13  \n",
       "0          NaN  \n",
       "1          NaN  \n",
       "2          NaN  \n",
       "3          NaN  \n",
       "4          NaN  "
      ]
     },
     "execution_count": 100,
     "metadata": {},
     "output_type": "execute_result"
    }
   ],
   "source": [
    "\n",
    "df2 = pd.read_csv('Well1.csv')\n",
    "df2.head()\n",
    "\n",
    "##\n"
   ]
  },
  {
   "cell_type": "code",
   "execution_count": 114,
   "metadata": {},
   "outputs": [
    {
     "data": {
      "text/html": [
       "<div>\n",
       "<style scoped>\n",
       "    .dataframe tbody tr th:only-of-type {\n",
       "        vertical-align: middle;\n",
       "    }\n",
       "\n",
       "    .dataframe tbody tr th {\n",
       "        vertical-align: top;\n",
       "    }\n",
       "\n",
       "    .dataframe thead th {\n",
       "        text-align: right;\n",
       "    }\n",
       "</style>\n",
       "<table border=\"1\" class=\"dataframe\">\n",
       "  <thead>\n",
       "    <tr style=\"text-align: right;\">\n",
       "      <th></th>\n",
       "      <th>Unnamed: 0</th>\n",
       "      <th>DATEPRD</th>\n",
       "      <th>WELL_BORE_CODE</th>\n",
       "      <th>AVG_DOWNHOLE_PRESSURE</th>\n",
       "      <th>AVG_DOWNHOLE_TEMPERATURE</th>\n",
       "      <th>AVG_DP_TUBING</th>\n",
       "      <th>AVG_CHOKE_SIZE_P</th>\n",
       "      <th>AVG_WHP_P</th>\n",
       "      <th>AVG_WHT_P</th>\n",
       "      <th>DP_CHOKE_SIZE</th>\n",
       "      <th>BORE_OIL_VOL</th>\n",
       "      <th>BORE_GAS_VOL</th>\n",
       "      <th>BORE_WAT_VOL</th>\n",
       "      <th>Unnamed: 13</th>\n",
       "    </tr>\n",
       "  </thead>\n",
       "  <tbody>\n",
       "    <tr>\n",
       "      <th>374</th>\n",
       "      <td>374</td>\n",
       "      <td>2015-04-16</td>\n",
       "      <td>NO 15/9-F-1 C</td>\n",
       "      <td>282.627</td>\n",
       "      <td>100.771</td>\n",
       "      <td>171.795</td>\n",
       "      <td>0.25917</td>\n",
       "      <td>110.832</td>\n",
       "      <td>11.491</td>\n",
       "      <td>81.576</td>\n",
       "      <td>0.0</td>\n",
       "      <td>0.0</td>\n",
       "      <td>0.0</td>\n",
       "      <td>NaN</td>\n",
       "    </tr>\n",
       "    <tr>\n",
       "      <th>375</th>\n",
       "      <td>375</td>\n",
       "      <td>2015-04-17</td>\n",
       "      <td>NO 15/9-F-1 C</td>\n",
       "      <td>285.053</td>\n",
       "      <td>100.716</td>\n",
       "      <td>172.436</td>\n",
       "      <td>0.27304</td>\n",
       "      <td>112.617</td>\n",
       "      <td>12.199</td>\n",
       "      <td>83.164</td>\n",
       "      <td>0.0</td>\n",
       "      <td>0.0</td>\n",
       "      <td>0.0</td>\n",
       "      <td>NaN</td>\n",
       "    </tr>\n",
       "    <tr>\n",
       "      <th>376</th>\n",
       "      <td>376</td>\n",
       "      <td>2015-04-18</td>\n",
       "      <td>NO 15/9-F-1 C</td>\n",
       "      <td>287.457</td>\n",
       "      <td>100.667</td>\n",
       "      <td>173.121</td>\n",
       "      <td>0.26261</td>\n",
       "      <td>114.335</td>\n",
       "      <td>12.455</td>\n",
       "      <td>84.953</td>\n",
       "      <td>0.0</td>\n",
       "      <td>0.0</td>\n",
       "      <td>0.0</td>\n",
       "      <td>NaN</td>\n",
       "    </tr>\n",
       "    <tr>\n",
       "      <th>377</th>\n",
       "      <td>377</td>\n",
       "      <td>2015-04-19</td>\n",
       "      <td>NO 15/9-F-1 C</td>\n",
       "      <td>289.779</td>\n",
       "      <td>100.618</td>\n",
       "      <td>173.716</td>\n",
       "      <td>0.21968</td>\n",
       "      <td>116.063</td>\n",
       "      <td>12.304</td>\n",
       "      <td>86.594</td>\n",
       "      <td>0.0</td>\n",
       "      <td>0.0</td>\n",
       "      <td>0.0</td>\n",
       "      <td>NaN</td>\n",
       "    </tr>\n",
       "    <tr>\n",
       "      <th>378</th>\n",
       "      <td>378</td>\n",
       "      <td>2015-04-20</td>\n",
       "      <td>NO 15/9-F-1 C</td>\n",
       "      <td>275.587</td>\n",
       "      <td>106.038</td>\n",
       "      <td>238.976</td>\n",
       "      <td>31.69057</td>\n",
       "      <td>36.611</td>\n",
       "      <td>31.721</td>\n",
       "      <td>18.502</td>\n",
       "      <td>82.0</td>\n",
       "      <td>11893.0</td>\n",
       "      <td>491.0</td>\n",
       "      <td>NaN</td>\n",
       "    </tr>\n",
       "  </tbody>\n",
       "</table>\n",
       "</div>"
      ],
      "text/plain": [
       "     Unnamed: 0    DATEPRD WELL_BORE_CODE  AVG_DOWNHOLE_PRESSURE  \\\n",
       "374         374 2015-04-16  NO 15/9-F-1 C                282.627   \n",
       "375         375 2015-04-17  NO 15/9-F-1 C                285.053   \n",
       "376         376 2015-04-18  NO 15/9-F-1 C                287.457   \n",
       "377         377 2015-04-19  NO 15/9-F-1 C                289.779   \n",
       "378         378 2015-04-20  NO 15/9-F-1 C                275.587   \n",
       "\n",
       "     AVG_DOWNHOLE_TEMPERATURE  AVG_DP_TUBING  AVG_CHOKE_SIZE_P  AVG_WHP_P  \\\n",
       "374                   100.771        171.795           0.25917    110.832   \n",
       "375                   100.716        172.436           0.27304    112.617   \n",
       "376                   100.667        173.121           0.26261    114.335   \n",
       "377                   100.618        173.716           0.21968    116.063   \n",
       "378                   106.038        238.976          31.69057     36.611   \n",
       "\n",
       "     AVG_WHT_P  DP_CHOKE_SIZE  BORE_OIL_VOL  BORE_GAS_VOL  BORE_WAT_VOL  \\\n",
       "374     11.491         81.576           0.0           0.0           0.0   \n",
       "375     12.199         83.164           0.0           0.0           0.0   \n",
       "376     12.455         84.953           0.0           0.0           0.0   \n",
       "377     12.304         86.594           0.0           0.0           0.0   \n",
       "378     31.721         18.502          82.0       11893.0         491.0   \n",
       "\n",
       "     Unnamed: 13  \n",
       "374          NaN  \n",
       "375          NaN  \n",
       "376          NaN  \n",
       "377          NaN  \n",
       "378          NaN  "
      ]
     },
     "execution_count": 114,
     "metadata": {},
     "output_type": "execute_result"
    }
   ],
   "source": [
    "df2['DATEPRD'] = pd.to_datetime(df2['DATEPRD']) \n",
    "\n",
    "df2 = df2.loc[df2['DATEPRD'] > '2015-04-15']\n",
    "df2.head()"
   ]
  },
  {
   "cell_type": "code",
   "execution_count": 160,
   "metadata": {},
   "outputs": [],
   "source": [
    "df3 = df2.loc[df2['BORE_OIL_VOL'] > 0]\n",
    "df3 = df2.loc[df2['BORE_GAS_VOL'] > 0]\n",
    "df3 = df2.loc[df2['BORE_WAT_VOL'] > 0]\n",
    "df3 = df2.loc[df2['AVG_CHOKE_SIZE_P'] > 40]"
   ]
  },
  {
   "cell_type": "code",
   "execution_count": 161,
   "metadata": {},
   "outputs": [
    {
     "data": {
      "text/html": [
       "<div>\n",
       "<style scoped>\n",
       "    .dataframe tbody tr th:only-of-type {\n",
       "        vertical-align: middle;\n",
       "    }\n",
       "\n",
       "    .dataframe tbody tr th {\n",
       "        vertical-align: top;\n",
       "    }\n",
       "\n",
       "    .dataframe thead th {\n",
       "        text-align: right;\n",
       "    }\n",
       "</style>\n",
       "<table border=\"1\" class=\"dataframe\">\n",
       "  <thead>\n",
       "    <tr style=\"text-align: right;\">\n",
       "      <th></th>\n",
       "      <th>Unnamed: 0</th>\n",
       "      <th>DATEPRD</th>\n",
       "      <th>WELL_BORE_CODE</th>\n",
       "      <th>AVG_DOWNHOLE_PRESSURE</th>\n",
       "      <th>AVG_DOWNHOLE_TEMPERATURE</th>\n",
       "      <th>AVG_DP_TUBING</th>\n",
       "      <th>AVG_CHOKE_SIZE_P</th>\n",
       "      <th>AVG_WHP_P</th>\n",
       "      <th>AVG_WHT_P</th>\n",
       "      <th>DP_CHOKE_SIZE</th>\n",
       "      <th>BORE_OIL_VOL</th>\n",
       "      <th>BORE_GAS_VOL</th>\n",
       "      <th>BORE_WAT_VOL</th>\n",
       "      <th>Unnamed: 13</th>\n",
       "    </tr>\n",
       "  </thead>\n",
       "  <tbody>\n",
       "    <tr>\n",
       "      <th>379</th>\n",
       "      <td>379</td>\n",
       "      <td>2015-04-21</td>\n",
       "      <td>NO 15/9-F-1 C</td>\n",
       "      <td>262.874</td>\n",
       "      <td>108.015</td>\n",
       "      <td>229.997</td>\n",
       "      <td>52.61599</td>\n",
       "      <td>32.877</td>\n",
       "      <td>74.117</td>\n",
       "      <td>20.161</td>\n",
       "      <td>173.0</td>\n",
       "      <td>25444.0</td>\n",
       "      <td>1263.0</td>\n",
       "      <td>NaN</td>\n",
       "    </tr>\n",
       "    <tr>\n",
       "      <th>380</th>\n",
       "      <td>380</td>\n",
       "      <td>2015-04-22</td>\n",
       "      <td>NO 15/9-F-1 C</td>\n",
       "      <td>253.767</td>\n",
       "      <td>108.159</td>\n",
       "      <td>216.692</td>\n",
       "      <td>52.59735</td>\n",
       "      <td>37.075</td>\n",
       "      <td>76.614</td>\n",
       "      <td>21.689</td>\n",
       "      <td>268.0</td>\n",
       "      <td>39276.0</td>\n",
       "      <td>1093.0</td>\n",
       "      <td>NaN</td>\n",
       "    </tr>\n",
       "    <tr>\n",
       "      <th>381</th>\n",
       "      <td>381</td>\n",
       "      <td>2015-04-23</td>\n",
       "      <td>NO 15/9-F-1 C</td>\n",
       "      <td>248.853</td>\n",
       "      <td>108.145</td>\n",
       "      <td>209.488</td>\n",
       "      <td>52.65872</td>\n",
       "      <td>39.365</td>\n",
       "      <td>72.492</td>\n",
       "      <td>15.133</td>\n",
       "      <td>320.0</td>\n",
       "      <td>46340.0</td>\n",
       "      <td>879.0</td>\n",
       "      <td>NaN</td>\n",
       "    </tr>\n",
       "    <tr>\n",
       "      <th>382</th>\n",
       "      <td>382</td>\n",
       "      <td>2015-04-24</td>\n",
       "      <td>NO 15/9-F-1 C</td>\n",
       "      <td>246.511</td>\n",
       "      <td>108.107</td>\n",
       "      <td>206.765</td>\n",
       "      <td>52.65302</td>\n",
       "      <td>39.746</td>\n",
       "      <td>66.226</td>\n",
       "      <td>10.816</td>\n",
       "      <td>319.0</td>\n",
       "      <td>46150.0</td>\n",
       "      <td>877.0</td>\n",
       "      <td>NaN</td>\n",
       "    </tr>\n",
       "    <tr>\n",
       "      <th>383</th>\n",
       "      <td>383</td>\n",
       "      <td>2015-04-25</td>\n",
       "      <td>NO 15/9-F-1 C</td>\n",
       "      <td>243.700</td>\n",
       "      <td>108.111</td>\n",
       "      <td>204.348</td>\n",
       "      <td>52.70381</td>\n",
       "      <td>39.352</td>\n",
       "      <td>67.093</td>\n",
       "      <td>10.420</td>\n",
       "      <td>341.0</td>\n",
       "      <td>49280.0</td>\n",
       "      <td>823.0</td>\n",
       "      <td>NaN</td>\n",
       "    </tr>\n",
       "  </tbody>\n",
       "</table>\n",
       "</div>"
      ],
      "text/plain": [
       "     Unnamed: 0    DATEPRD WELL_BORE_CODE  AVG_DOWNHOLE_PRESSURE  \\\n",
       "379         379 2015-04-21  NO 15/9-F-1 C                262.874   \n",
       "380         380 2015-04-22  NO 15/9-F-1 C                253.767   \n",
       "381         381 2015-04-23  NO 15/9-F-1 C                248.853   \n",
       "382         382 2015-04-24  NO 15/9-F-1 C                246.511   \n",
       "383         383 2015-04-25  NO 15/9-F-1 C                243.700   \n",
       "\n",
       "     AVG_DOWNHOLE_TEMPERATURE  AVG_DP_TUBING  AVG_CHOKE_SIZE_P  AVG_WHP_P  \\\n",
       "379                   108.015        229.997          52.61599     32.877   \n",
       "380                   108.159        216.692          52.59735     37.075   \n",
       "381                   108.145        209.488          52.65872     39.365   \n",
       "382                   108.107        206.765          52.65302     39.746   \n",
       "383                   108.111        204.348          52.70381     39.352   \n",
       "\n",
       "     AVG_WHT_P  DP_CHOKE_SIZE  BORE_OIL_VOL  BORE_GAS_VOL  BORE_WAT_VOL  \\\n",
       "379     74.117         20.161         173.0       25444.0        1263.0   \n",
       "380     76.614         21.689         268.0       39276.0        1093.0   \n",
       "381     72.492         15.133         320.0       46340.0         879.0   \n",
       "382     66.226         10.816         319.0       46150.0         877.0   \n",
       "383     67.093         10.420         341.0       49280.0         823.0   \n",
       "\n",
       "     Unnamed: 13  \n",
       "379          NaN  \n",
       "380          NaN  \n",
       "381          NaN  \n",
       "382          NaN  \n",
       "383          NaN  "
      ]
     },
     "execution_count": 161,
     "metadata": {},
     "output_type": "execute_result"
    }
   ],
   "source": [
    "df3.head()\n"
   ]
  },
  {
   "cell_type": "code",
   "execution_count": 65,
   "metadata": {},
   "outputs": [
    {
     "name": "stderr",
     "output_type": "stream",
     "text": [
      "C:\\Users\\RAKHI\\Anaconda3\\envs\\ML\\lib\\site-packages\\ipykernel_launcher.py:2: SettingWithCopyWarning: \n",
      "A value is trying to be set on a copy of a slice from a DataFrame.\n",
      "Try using .loc[row_indexer,col_indexer] = value instead\n",
      "\n",
      "See the caveats in the documentation: https://pandas.pydata.org/pandas-docs/stable/user_guide/indexing.html#returning-a-view-versus-a-copy\n",
      "  \n"
     ]
    }
   ],
   "source": [
    "#df1[\"BORE_OIL_VOL\"] = df1[\"BORE_OIL_VOL\"].astype(float)\n",
    "#df1[\"BORE_OIL_VOL\"] = pd.to_numeric(df1[\"BORE_OIL_VOL\"],errors='coerce').astype(float)\n",
    "#df.ID = pd.to_numeric(df.ID, errors='coerce').fillna(0).astype(np.int64)\n"
   ]
  },
  {
   "cell_type": "code",
   "execution_count": 68,
   "metadata": {},
   "outputs": [
    {
     "data": {
      "text/html": [
       "<div>\n",
       "<style scoped>\n",
       "    .dataframe tbody tr th:only-of-type {\n",
       "        vertical-align: middle;\n",
       "    }\n",
       "\n",
       "    .dataframe tbody tr th {\n",
       "        vertical-align: top;\n",
       "    }\n",
       "\n",
       "    .dataframe thead th {\n",
       "        text-align: right;\n",
       "    }\n",
       "</style>\n",
       "<table border=\"1\" class=\"dataframe\">\n",
       "  <thead>\n",
       "    <tr style=\"text-align: right;\">\n",
       "      <th></th>\n",
       "      <th>DATEPRD</th>\n",
       "      <th>WELL_BORE_CODE</th>\n",
       "      <th>AVG_DOWNHOLE_PRESSURE</th>\n",
       "      <th>AVG_DOWNHOLE_TEMPERATURE</th>\n",
       "      <th>AVG_DP_TUBING</th>\n",
       "      <th>AVG_CHOKE_SIZE_P</th>\n",
       "      <th>AVG_WHP_P</th>\n",
       "      <th>AVG_WHT_P</th>\n",
       "      <th>DP_CHOKE_SIZE</th>\n",
       "      <th>BORE_OIL_VOL</th>\n",
       "      <th>BORE_GAS_VOL</th>\n",
       "      <th>BORE_WAT_VOL</th>\n",
       "      <th>OIL_VOL_DAILY</th>\n",
       "    </tr>\n",
       "  </thead>\n",
       "  <tbody>\n",
       "    <tr>\n",
       "      <th>0</th>\n",
       "      <td>07-Apr-14</td>\n",
       "      <td>NO 15/9-F-1 C</td>\n",
       "      <td>0.000</td>\n",
       "      <td>0.000</td>\n",
       "      <td>0.000</td>\n",
       "      <td>0.00000</td>\n",
       "      <td>0.000</td>\n",
       "      <td>0.000</td>\n",
       "      <td>0.000</td>\n",
       "      <td>0.0</td>\n",
       "      <td>0</td>\n",
       "      <td>0</td>\n",
       "      <td>0.0</td>\n",
       "    </tr>\n",
       "    <tr>\n",
       "      <th>1</th>\n",
       "      <td>08-Apr-14</td>\n",
       "      <td>NO 15/9-F-1 C</td>\n",
       "      <td>0.000</td>\n",
       "      <td>0.000</td>\n",
       "      <td>0.000</td>\n",
       "      <td>1.00306</td>\n",
       "      <td>0.000</td>\n",
       "      <td>0.000</td>\n",
       "      <td>0.000</td>\n",
       "      <td>0.0</td>\n",
       "      <td>0</td>\n",
       "      <td>0</td>\n",
       "      <td>0.0</td>\n",
       "    </tr>\n",
       "    <tr>\n",
       "      <th>2</th>\n",
       "      <td>09-Apr-14</td>\n",
       "      <td>NO 15/9-F-1 C</td>\n",
       "      <td>0.000</td>\n",
       "      <td>0.000</td>\n",
       "      <td>0.000</td>\n",
       "      <td>0.97901</td>\n",
       "      <td>0.000</td>\n",
       "      <td>0.000</td>\n",
       "      <td>0.000</td>\n",
       "      <td>0.0</td>\n",
       "      <td>0</td>\n",
       "      <td>0</td>\n",
       "      <td>0.0</td>\n",
       "    </tr>\n",
       "    <tr>\n",
       "      <th>3</th>\n",
       "      <td>10-Apr-14</td>\n",
       "      <td>NO 15/9-F-1 C</td>\n",
       "      <td>0.000</td>\n",
       "      <td>0.000</td>\n",
       "      <td>0.000</td>\n",
       "      <td>0.54576</td>\n",
       "      <td>0.000</td>\n",
       "      <td>0.000</td>\n",
       "      <td>0.000</td>\n",
       "      <td>0.0</td>\n",
       "      <td>0</td>\n",
       "      <td>0</td>\n",
       "      <td>0.0</td>\n",
       "    </tr>\n",
       "    <tr>\n",
       "      <th>4</th>\n",
       "      <td>11-Apr-14</td>\n",
       "      <td>NO 15/9-F-1 C</td>\n",
       "      <td>310.376</td>\n",
       "      <td>96.876</td>\n",
       "      <td>277.278</td>\n",
       "      <td>1.21599</td>\n",
       "      <td>33.098</td>\n",
       "      <td>10.480</td>\n",
       "      <td>33.072</td>\n",
       "      <td>0.0</td>\n",
       "      <td>0</td>\n",
       "      <td>0</td>\n",
       "      <td>0.0</td>\n",
       "    </tr>\n",
       "    <tr>\n",
       "      <th>...</th>\n",
       "      <td>...</td>\n",
       "      <td>...</td>\n",
       "      <td>...</td>\n",
       "      <td>...</td>\n",
       "      <td>...</td>\n",
       "      <td>...</td>\n",
       "      <td>...</td>\n",
       "      <td>...</td>\n",
       "      <td>...</td>\n",
       "      <td>...</td>\n",
       "      <td>...</td>\n",
       "      <td>...</td>\n",
       "      <td>...</td>\n",
       "    </tr>\n",
       "    <tr>\n",
       "      <th>95</th>\n",
       "      <td>11-Jul-14</td>\n",
       "      <td>NO 15/9-F-1 C</td>\n",
       "      <td>215.188</td>\n",
       "      <td>108.144</td>\n",
       "      <td>164.696</td>\n",
       "      <td>46.78773</td>\n",
       "      <td>50.492</td>\n",
       "      <td>56.119</td>\n",
       "      <td>22.038</td>\n",
       "      <td>492.0</td>\n",
       "      <td>72,895</td>\n",
       "      <td>253</td>\n",
       "      <td>4.0</td>\n",
       "    </tr>\n",
       "    <tr>\n",
       "      <th>96</th>\n",
       "      <td>12-Jul-14</td>\n",
       "      <td>NO 15/9-F-1 C</td>\n",
       "      <td>215.464</td>\n",
       "      <td>108.142</td>\n",
       "      <td>165.927</td>\n",
       "      <td>46.85941</td>\n",
       "      <td>49.536</td>\n",
       "      <td>56.633</td>\n",
       "      <td>21.080</td>\n",
       "      <td>488.0</td>\n",
       "      <td>72,637</td>\n",
       "      <td>204</td>\n",
       "      <td>6.0</td>\n",
       "    </tr>\n",
       "    <tr>\n",
       "      <th>97</th>\n",
       "      <td>13-Jul-14</td>\n",
       "      <td>NO 15/9-F-1 C</td>\n",
       "      <td>215.759</td>\n",
       "      <td>108.134</td>\n",
       "      <td>166.743</td>\n",
       "      <td>46.80047</td>\n",
       "      <td>49.016</td>\n",
       "      <td>57.204</td>\n",
       "      <td>20.540</td>\n",
       "      <td>482.0</td>\n",
       "      <td>71,515</td>\n",
       "      <td>200</td>\n",
       "      <td>-10.0</td>\n",
       "    </tr>\n",
       "    <tr>\n",
       "      <th>98</th>\n",
       "      <td>14-Jul-14</td>\n",
       "      <td>NO 15/9-F-1 C</td>\n",
       "      <td>215.977</td>\n",
       "      <td>108.121</td>\n",
       "      <td>167.412</td>\n",
       "      <td>47.00266</td>\n",
       "      <td>48.565</td>\n",
       "      <td>56.775</td>\n",
       "      <td>20.102</td>\n",
       "      <td>492.0</td>\n",
       "      <td>73,096</td>\n",
       "      <td>215</td>\n",
       "      <td>16.0</td>\n",
       "    </tr>\n",
       "    <tr>\n",
       "      <th>99</th>\n",
       "      <td>15-Jul-14</td>\n",
       "      <td>NO 15/9-F-1 C</td>\n",
       "      <td>215.051</td>\n",
       "      <td>108.145</td>\n",
       "      <td>166.189</td>\n",
       "      <td>47.88536</td>\n",
       "      <td>48.862</td>\n",
       "      <td>56.395</td>\n",
       "      <td>20.380</td>\n",
       "      <td>476.0</td>\n",
       "      <td>70,443</td>\n",
       "      <td>247</td>\n",
       "      <td>10.0</td>\n",
       "    </tr>\n",
       "  </tbody>\n",
       "</table>\n",
       "<p>100 rows × 13 columns</p>\n",
       "</div>"
      ],
      "text/plain": [
       "      DATEPRD WELL_BORE_CODE  AVG_DOWNHOLE_PRESSURE  AVG_DOWNHOLE_TEMPERATURE  \\\n",
       "0   07-Apr-14  NO 15/9-F-1 C                  0.000                     0.000   \n",
       "1   08-Apr-14  NO 15/9-F-1 C                  0.000                     0.000   \n",
       "2   09-Apr-14  NO 15/9-F-1 C                  0.000                     0.000   \n",
       "3   10-Apr-14  NO 15/9-F-1 C                  0.000                     0.000   \n",
       "4   11-Apr-14  NO 15/9-F-1 C                310.376                    96.876   \n",
       "..        ...            ...                    ...                       ...   \n",
       "95  11-Jul-14  NO 15/9-F-1 C                215.188                   108.144   \n",
       "96  12-Jul-14  NO 15/9-F-1 C                215.464                   108.142   \n",
       "97  13-Jul-14  NO 15/9-F-1 C                215.759                   108.134   \n",
       "98  14-Jul-14  NO 15/9-F-1 C                215.977                   108.121   \n",
       "99  15-Jul-14  NO 15/9-F-1 C                215.051                   108.145   \n",
       "\n",
       "    AVG_DP_TUBING  AVG_CHOKE_SIZE_P  AVG_WHP_P  AVG_WHT_P  DP_CHOKE_SIZE  \\\n",
       "0           0.000           0.00000      0.000      0.000          0.000   \n",
       "1           0.000           1.00306      0.000      0.000          0.000   \n",
       "2           0.000           0.97901      0.000      0.000          0.000   \n",
       "3           0.000           0.54576      0.000      0.000          0.000   \n",
       "4         277.278           1.21599     33.098     10.480         33.072   \n",
       "..            ...               ...        ...        ...            ...   \n",
       "95        164.696          46.78773     50.492     56.119         22.038   \n",
       "96        165.927          46.85941     49.536     56.633         21.080   \n",
       "97        166.743          46.80047     49.016     57.204         20.540   \n",
       "98        167.412          47.00266     48.565     56.775         20.102   \n",
       "99        166.189          47.88536     48.862     56.395         20.380   \n",
       "\n",
       "    BORE_OIL_VOL BORE_GAS_VOL BORE_WAT_VOL  OIL_VOL_DAILY  \n",
       "0            0.0            0            0            0.0  \n",
       "1            0.0            0            0            0.0  \n",
       "2            0.0            0            0            0.0  \n",
       "3            0.0            0            0            0.0  \n",
       "4            0.0            0            0            0.0  \n",
       "..           ...          ...          ...            ...  \n",
       "95         492.0       72,895          253            4.0  \n",
       "96         488.0       72,637          204            6.0  \n",
       "97         482.0       71,515          200          -10.0  \n",
       "98         492.0       73,096          215           16.0  \n",
       "99         476.0       70,443          247           10.0  \n",
       "\n",
       "[100 rows x 13 columns]"
      ]
     },
     "execution_count": 68,
     "metadata": {},
     "output_type": "execute_result"
    }
   ],
   "source": [
    "#df1 =df1.fillna(0)\n",
    "#df1[\"OIL_VOL_DAILY\"] = df1[\"BORE_OIL_VOL\"].diff(-1)\n",
    "#df1.head(100)"
   ]
  },
  {
   "cell_type": "code",
   "execution_count": 177,
   "metadata": {},
   "outputs": [
    {
     "name": "stderr",
     "output_type": "stream",
     "text": [
      "C:\\Users\\RAKHI\\Anaconda3\\envs\\ML\\lib\\site-packages\\ipykernel_launcher.py:1: SettingWithCopyWarning: \n",
      "A value is trying to be set on a copy of a slice from a DataFrame.\n",
      "Try using .loc[row_indexer,col_indexer] = value instead\n",
      "\n",
      "See the caveats in the documentation: https://pandas.pydata.org/pandas-docs/stable/user_guide/indexing.html#returning-a-view-versus-a-copy\n",
      "  \"\"\"Entry point for launching an IPython kernel.\n",
      "C:\\Users\\RAKHI\\Anaconda3\\envs\\ML\\lib\\site-packages\\ipykernel_launcher.py:3: SettingWithCopyWarning: \n",
      "A value is trying to be set on a copy of a slice from a DataFrame.\n",
      "Try using .loc[row_indexer,col_indexer] = value instead\n",
      "\n",
      "See the caveats in the documentation: https://pandas.pydata.org/pandas-docs/stable/user_guide/indexing.html#returning-a-view-versus-a-copy\n",
      "  This is separate from the ipykernel package so we can avoid doing imports until\n"
     ]
    },
    {
     "data": {
      "text/html": [
       "<div>\n",
       "<style scoped>\n",
       "    .dataframe tbody tr th:only-of-type {\n",
       "        vertical-align: middle;\n",
       "    }\n",
       "\n",
       "    .dataframe tbody tr th {\n",
       "        vertical-align: top;\n",
       "    }\n",
       "\n",
       "    .dataframe thead th {\n",
       "        text-align: right;\n",
       "    }\n",
       "</style>\n",
       "<table border=\"1\" class=\"dataframe\">\n",
       "  <thead>\n",
       "    <tr style=\"text-align: right;\">\n",
       "      <th></th>\n",
       "      <th>Unnamed: 0</th>\n",
       "      <th>DATEPRD</th>\n",
       "      <th>WELL_BORE_CODE</th>\n",
       "      <th>AVG_DOWNHOLE_PRESSURE</th>\n",
       "      <th>AVG_DOWNHOLE_TEMPERATURE</th>\n",
       "      <th>AVG_DP_TUBING</th>\n",
       "      <th>AVG_CHOKE_SIZE_P</th>\n",
       "      <th>AVG_WHP_P</th>\n",
       "      <th>AVG_WHT_P</th>\n",
       "      <th>DP_CHOKE_SIZE</th>\n",
       "      <th>BORE_OIL_VOL</th>\n",
       "      <th>BORE_GAS_VOL</th>\n",
       "      <th>BORE_WAT_VOL</th>\n",
       "      <th>Unnamed: 13</th>\n",
       "      <th>Year</th>\n",
       "      <th>GOR</th>\n",
       "    </tr>\n",
       "  </thead>\n",
       "  <tbody>\n",
       "    <tr>\n",
       "      <th>379</th>\n",
       "      <td>379</td>\n",
       "      <td>2015-04-21</td>\n",
       "      <td>NO 15/9-F-1 C</td>\n",
       "      <td>262.874</td>\n",
       "      <td>108.015</td>\n",
       "      <td>229.997</td>\n",
       "      <td>52.61599</td>\n",
       "      <td>32.877</td>\n",
       "      <td>74.117</td>\n",
       "      <td>20.161</td>\n",
       "      <td>173.0</td>\n",
       "      <td>25444.0</td>\n",
       "      <td>1263.0</td>\n",
       "      <td>NaN</td>\n",
       "      <td>2015</td>\n",
       "      <td>147.075145</td>\n",
       "    </tr>\n",
       "    <tr>\n",
       "      <th>380</th>\n",
       "      <td>380</td>\n",
       "      <td>2015-04-22</td>\n",
       "      <td>NO 15/9-F-1 C</td>\n",
       "      <td>253.767</td>\n",
       "      <td>108.159</td>\n",
       "      <td>216.692</td>\n",
       "      <td>52.59735</td>\n",
       "      <td>37.075</td>\n",
       "      <td>76.614</td>\n",
       "      <td>21.689</td>\n",
       "      <td>268.0</td>\n",
       "      <td>39276.0</td>\n",
       "      <td>1093.0</td>\n",
       "      <td>NaN</td>\n",
       "      <td>2015</td>\n",
       "      <td>146.552239</td>\n",
       "    </tr>\n",
       "    <tr>\n",
       "      <th>381</th>\n",
       "      <td>381</td>\n",
       "      <td>2015-04-23</td>\n",
       "      <td>NO 15/9-F-1 C</td>\n",
       "      <td>248.853</td>\n",
       "      <td>108.145</td>\n",
       "      <td>209.488</td>\n",
       "      <td>52.65872</td>\n",
       "      <td>39.365</td>\n",
       "      <td>72.492</td>\n",
       "      <td>15.133</td>\n",
       "      <td>320.0</td>\n",
       "      <td>46340.0</td>\n",
       "      <td>879.0</td>\n",
       "      <td>NaN</td>\n",
       "      <td>2015</td>\n",
       "      <td>144.812500</td>\n",
       "    </tr>\n",
       "    <tr>\n",
       "      <th>382</th>\n",
       "      <td>382</td>\n",
       "      <td>2015-04-24</td>\n",
       "      <td>NO 15/9-F-1 C</td>\n",
       "      <td>246.511</td>\n",
       "      <td>108.107</td>\n",
       "      <td>206.765</td>\n",
       "      <td>52.65302</td>\n",
       "      <td>39.746</td>\n",
       "      <td>66.226</td>\n",
       "      <td>10.816</td>\n",
       "      <td>319.0</td>\n",
       "      <td>46150.0</td>\n",
       "      <td>877.0</td>\n",
       "      <td>NaN</td>\n",
       "      <td>2015</td>\n",
       "      <td>144.670846</td>\n",
       "    </tr>\n",
       "    <tr>\n",
       "      <th>383</th>\n",
       "      <td>383</td>\n",
       "      <td>2015-04-25</td>\n",
       "      <td>NO 15/9-F-1 C</td>\n",
       "      <td>243.700</td>\n",
       "      <td>108.111</td>\n",
       "      <td>204.348</td>\n",
       "      <td>52.70381</td>\n",
       "      <td>39.352</td>\n",
       "      <td>67.093</td>\n",
       "      <td>10.420</td>\n",
       "      <td>341.0</td>\n",
       "      <td>49280.0</td>\n",
       "      <td>823.0</td>\n",
       "      <td>NaN</td>\n",
       "      <td>2015</td>\n",
       "      <td>144.516129</td>\n",
       "    </tr>\n",
       "  </tbody>\n",
       "</table>\n",
       "</div>"
      ],
      "text/plain": [
       "     Unnamed: 0    DATEPRD WELL_BORE_CODE  AVG_DOWNHOLE_PRESSURE  \\\n",
       "379         379 2015-04-21  NO 15/9-F-1 C                262.874   \n",
       "380         380 2015-04-22  NO 15/9-F-1 C                253.767   \n",
       "381         381 2015-04-23  NO 15/9-F-1 C                248.853   \n",
       "382         382 2015-04-24  NO 15/9-F-1 C                246.511   \n",
       "383         383 2015-04-25  NO 15/9-F-1 C                243.700   \n",
       "\n",
       "     AVG_DOWNHOLE_TEMPERATURE  AVG_DP_TUBING  AVG_CHOKE_SIZE_P  AVG_WHP_P  \\\n",
       "379                   108.015        229.997          52.61599     32.877   \n",
       "380                   108.159        216.692          52.59735     37.075   \n",
       "381                   108.145        209.488          52.65872     39.365   \n",
       "382                   108.107        206.765          52.65302     39.746   \n",
       "383                   108.111        204.348          52.70381     39.352   \n",
       "\n",
       "     AVG_WHT_P  DP_CHOKE_SIZE  BORE_OIL_VOL  BORE_GAS_VOL  BORE_WAT_VOL  \\\n",
       "379     74.117         20.161         173.0       25444.0        1263.0   \n",
       "380     76.614         21.689         268.0       39276.0        1093.0   \n",
       "381     72.492         15.133         320.0       46340.0         879.0   \n",
       "382     66.226         10.816         319.0       46150.0         877.0   \n",
       "383     67.093         10.420         341.0       49280.0         823.0   \n",
       "\n",
       "     Unnamed: 13  Year         GOR  \n",
       "379          NaN  2015  147.075145  \n",
       "380          NaN  2015  146.552239  \n",
       "381          NaN  2015  144.812500  \n",
       "382          NaN  2015  144.670846  \n",
       "383          NaN  2015  144.516129  "
      ]
     },
     "execution_count": 177,
     "metadata": {},
     "output_type": "execute_result"
    }
   ],
   "source": [
    "\n",
    "df3['Year']=pd.DatetimeIndex(df3['DATEPRD']).year\n",
    "\n",
    "df3['GOR']=df3['BORE_GAS_VOL']/df3['BORE_OIL_VOL']\n",
    "df3.head()"
   ]
  },
  {
   "cell_type": "code",
   "execution_count": 159,
   "metadata": {},
   "outputs": [
    {
     "data": {
      "image/png": "[encoded data removed]",
      "text/plain": [
       "<Figure size 432x288 with 1 Axes>"
      ]
     },
     "metadata": {
      "needs_background": "light"
     },
     "output_type": "display_data"
    }
   ],
   "source": [
    "\n",
    "def pltcolor(lst):\n",
    "    cols=[]\n",
    "    for l in lst:\n",
    "        if l ==2015:\n",
    "            cols.append('red')\n",
    "        elif l ==2016:\n",
    "            cols.append('green')\n",
    "        \n",
    "    return cols\n",
    "# Create the colors list using the function above\n",
    "cols=pltcolor(df3['Year'])\n",
    "df3.plot(kind='scatter',x='BORE_OIL_VOL',y='AVG_CHOKE_SIZE_P',c=cols)\n",
    "plt.show()\n",
    "AVG_DOWNHOLE_PRESSURE\t"
   ]
  },
  {
   "cell_type": "code",
   "execution_count": 178,
   "metadata": {},
   "outputs": [
    {
     "data": {
      "text/plain": [
       "<function matplotlib.pyplot.show(*args, **kw)>"
      ]
     },
     "execution_count": 178,
     "metadata": {},
     "output_type": "execute_result"
    },
    {
     "data": {
      "image/png": "[encoded data removed]",
      "text/plain": [
       "<Figure size 432x288 with 1 Axes>"
      ]
     },
     "metadata": {
      "needs_background": "light"
     },
     "output_type": "display_data"
    }
   ],
   "source": [
    "df3.plot(kind='scatter',x='DATEPRD',y='GOR')\n",
    "plt.show"
   ]
  },
  {
   "cell_type": "code",
   "execution_count": 175,
   "metadata": {},
   "outputs": [
    {
     "data": {
      "image/png": "[encoded data removed]",
      "text/plain": [
       "<Figure size 432x288 with 1 Axes>"
      ]
     },
     "metadata": {
      "needs_background": "light"
     },
     "output_type": "display_data"
    },
    {
     "data": {
      "image/png": "[encoded data removed]",
      "text/plain": [
       "<Figure size 432x288 with 1 Axes>"
      ]
     },
     "metadata": {
      "needs_background": "light"
     },
     "output_type": "display_data"
    }
   ],
   "source": [
    "def pltcolor(lst):\n",
    "    cols=[]\n",
    "    for l in lst:\n",
    "        if l ==2015:\n",
    "            cols.append('red')\n",
    "        elif l ==2016:\n",
    "            cols.append('green')\n",
    "        \n",
    "    return cols\n",
    "# Create the colors list using the function above\n",
    "cols=pltcolor(df3['Year'])\n",
    "df3.plot(kind='scatter',x='BORE_OIL_VOL',y='AVG_DOWNHOLE_PRESSURE',c=cols)\n",
    "df3.plot(kind='scatter',x='BORE_OIL_VOL',y='AVG_CHOKE_SIZE_P',c=cols)\n",
    "plt.show()"
   ]
  },
  {
   "cell_type": "code",
   "execution_count": 126,
   "metadata": {},
   "outputs": [],
   "source": [
    "X = df3['DATEPRD'].values.reshape(-1, 1)\n",
    "y = df3['BORE_OIL_VOL'].values.reshape(-1, 1)\n",
    "\n",
    "#X = lsd.tc.values.reshape(-1, 1)\n",
    "#y = lsd.score.values.reshape(-1, 1)"
   ]
  },
  {
   "cell_type": "code",
   "execution_count": 132,
   "metadata": {},
   "outputs": [
    {
     "name": "stdout",
     "output_type": "stream",
     "text": [
      "LinearRegression(copy_X=True, fit_intercept=True, n_jobs=None, normalize=False)\n",
      "Weight coefficients:  [[-5.46111181e-15]]\n",
      "y-axis intercept:  [8170.51205851]\n"
     ]
    }
   ],
   "source": [
    "from sklearn.linear_model import LinearRegression\n",
    "model = LinearRegression()\n",
    "model.fit(X, y)\n",
    "print(model)\n",
    "\n",
    "print('Weight coefficients: ', model.coef_)\n",
    "print('y-axis intercept: ', model.intercept_) "
   ]
  },
  {
   "cell_type": "code",
   "execution_count": null,
   "metadata": {},
   "outputs": [],
   "source": [
    "x_min = X.min()\n",
    "x_max = X.max()\n",
    "y_min =y.min()\n",
    "y_max = y.max()\n",
    "AVG_CHOKE_SIZE_P"
   ]
  },
  {
   "cell_type": "code",
   "execution_count": 170,
   "metadata": {},
   "outputs": [
    {
     "name": "stderr",
     "output_type": "stream",
     "text": [
      "C:\\Users\\RAKHI\\Anaconda3\\envs\\ML\\lib\\site-packages\\ipykernel_launcher.py:1: SettingWithCopyWarning: \n",
      "A value is trying to be set on a copy of a slice from a DataFrame.\n",
      "Try using .loc[row_indexer,col_indexer] = value instead\n",
      "\n",
      "See the caveats in the documentation: https://pandas.pydata.org/pandas-docs/stable/user_guide/indexing.html#returning-a-view-versus-a-copy\n",
      "  \"\"\"Entry point for launching an IPython kernel.\n"
     ]
    },
    {
     "data": {
      "image/png": "[encoded data removed]",
      "text/plain": [
       "<Figure size 432x288 with 1 Axes>"
      ]
     },
     "metadata": {
      "needs_background": "light"
     },
     "output_type": "display_data"
    }
   ],
   "source": [
    "df3['AVG_CHOKE_SIZE_P']= pd.to_numeric(df3['AVG_CHOKE_SIZE_P'])\n",
    "size =df3['AVG_CHOKE_SIZE_P']\n",
    "df3.plot(kind='scatter',x='DATEPRD',y='BORE_OIL_VOL',color='blue',s=size)\n",
    "plt.show()\n"
   ]
  },
  {
   "cell_type": "code",
   "execution_count": null,
   "metadata": {},
   "outputs": [],
   "source": [
    "trend = regression.predict(beta=regression.beta, x=x[20:]) # slicing to only use last 30 points\n",
    "data = pd.DataFrame(index=x, data={'y': y, 'trend': trend})\n",
    "data.plot() # add kwargs for title and other layout/design aspects\n",
    "plt.show() # or plt.gcf().savefig(path)"
   ]
  },
  {
   "cell_type": "code",
   "execution_count": 163,
   "metadata": {},
   "outputs": [
    {
     "data": {
      "image/png": "[encoded data removed]",
      "text/plain": [
       "<Figure size 432x288 with 1 Axes>"
      ]
     },
     "metadata": {
      "needs_background": "light"
     },
     "output_type": "display_data"
    }
   ],
   "source": [
    "df3.plot(kind='scatter',x='DATEPRD',y='BORE_GAS_VOL',color='blue')\n",
    "plt.show()"
   ]
  },
  {
   "cell_type": "code",
   "execution_count": 119,
   "metadata": {},
   "outputs": [
    {
     "data": {
      "image/png": "[encoded data removed]",
      "text/plain": [
       "<Figure size 432x288 with 1 Axes>"
      ]
     },
     "metadata": {
      "needs_background": "light"
     },
     "output_type": "display_data"
    }
   ],
   "source": [
    "df3.plot(kind='scatter',x='DATEPRD',y='BORE_WAT_VOL',color='blue')\n",
    "plt.show()"
   ]
  },
  {
   "cell_type": "markdown",
   "metadata": {},
   "source": [
    "AVG_DOWNHOLE_PRESSURE BY BORE_OIL_VOL"
   ]
  },
  {
   "cell_type": "code",
   "execution_count": 35,
   "metadata": {},
   "outputs": [
    {
     "data": {
      "image/png": "[encoded data removed]",
      "text/plain": [
       "<Figure size 432x288 with 1 Axes>"
      ]
     },
     "metadata": {
      "needs_background": "light"
     },
     "output_type": "display_data"
    }
   ],
   "source": [
    "\n",
    "df1.plot(kind='scatter',x='AVG_DOWNHOLE_PRESSURE',y='BORE_OIL_VOL',color='blue')\n",
    "plt.show()"
   ]
  },
  {
   "cell_type": "markdown",
   "metadata": {},
   "source": [
    "AVG_DOWNHOLE_PRESSURE BY BORE_GAS_VOL"
   ]
  },
  {
   "cell_type": "code",
   "execution_count": 28,
   "metadata": {},
   "outputs": [
    {
     "data": {
      "image/png": "[encoded data removed]",
      "text/plain": [
       "<Figure size 432x288 with 1 Axes>"
      ]
     },
     "metadata": {
      "needs_background": "light"
     },
     "output_type": "display_data"
    }
   ],
   "source": [
    "\n",
    "df1.plot(kind='scatter',x='AVG_DOWNHOLE_PRESSURE',y='BORE_GAS_VOL',color='blue')\n",
    "plt.show()"
   ]
  },
  {
   "cell_type": "markdown",
   "metadata": {},
   "source": [
    "AVG_DOWNHOLE_PRESSURE BY BORE_WAT_VOL"
   ]
  },
  {
   "cell_type": "code",
   "execution_count": 29,
   "metadata": {},
   "outputs": [
    {
     "data": {
      "image/png": "[encoded data removed]",
      "text/plain": [
       "<Figure size 432x288 with 1 Axes>"
      ]
     },
     "metadata": {
      "needs_background": "light"
     },
     "output_type": "display_data"
    }
   ],
   "source": [
    "df1.plot(kind='scatter',x='AVG_DOWNHOLE_PRESSURE',y='BORE_WAT_VOL',color='blue')\n",
    "plt.show()"
   ]
  },
  {
   "cell_type": "markdown",
   "metadata": {},
   "source": [
    "AVG_WHP_P BY BORE_OIL_VOL"
   ]
  },
  {
   "cell_type": "code",
   "execution_count": 30,
   "metadata": {},
   "outputs": [
    {
     "data": {
      "image/png": "[encoded data removed]",
      "text/plain": [
       "<Figure size 432x288 with 1 Axes>"
      ]
     },
     "metadata": {
      "needs_background": "light"
     },
     "output_type": "display_data"
    }
   ],
   "source": [
    "df1.plot(kind='scatter',x='AVG_WHP_P',y='BORE_OIL_VOL',color='blue')\n",
    "plt.show()"
   ]
  },
  {
   "cell_type": "markdown",
   "metadata": {},
   "source": [
    "AVG_WHP_P BY BORE_GAS_VOL"
   ]
  },
  {
   "cell_type": "code",
   "execution_count": 33,
   "metadata": {},
   "outputs": [
    {
     "data": {
      "image/png": "[encoded data removed]",
      "text/plain": [
       "<Figure size 432x288 with 1 Axes>"
      ]
     },
     "metadata": {
      "needs_background": "light"
     },
     "output_type": "display_data"
    }
   ],
   "source": [
    "df1.plot(kind='scatter',x='AVG_WHP_P',y='BORE_GAS_VOL',color='blue')\n",
    "plt.show()"
   ]
  },
  {
   "cell_type": "markdown",
   "metadata": {},
   "source": [
    "AVG_WHP_P BY BORE_WAT_VOL"
   ]
  },
  {
   "cell_type": "code",
   "execution_count": 34,
   "metadata": {},
   "outputs": [
    {
     "data": {
      "image/png": "[encoded data removed]",
      "text/plain": [
       "<Figure size 432x288 with 1 Axes>"
      ]
     },
     "metadata": {
      "needs_background": "light"
     },
     "output_type": "display_data"
    }
   ],
   "source": [
    "df1.plot(kind='scatter',x='AVG_WHP_P',y='BORE_WAT_VOL',color='blue')\n",
    "plt.show()"
   ]
  },
  {
   "cell_type": "markdown",
   "metadata": {},
   "source": [
    "AVG_CHOKE_SIZE_P BY DP_CHOKE_SIZE"
   ]
  },
  {
   "cell_type": "code",
   "execution_count": 36,
   "metadata": {},
   "outputs": [
    {
     "data": {
      "image/png": "[encoded data removed]",
      "text/plain": [
       "<Figure size 432x288 with 1 Axes>"
      ]
     },
     "metadata": {
      "needs_background": "light"
     },
     "output_type": "display_data"
    }
   ],
   "source": [
    "df1.plot(kind='scatter',x='AVG_CHOKE_SIZE_P',y='DP_CHOKE_SIZE',color='blue')\n",
    "plt.show()"
   ]
  }
 ],
 "metadata": {
  "kernelspec": {
   "display_name": "Python 3",
   "language": "python",
   "name": "python3"
  },
  "language_info": {
   "codemirror_mode": {
    "name": "ipython",
    "version": 3
   },
   "file_extension": ".py",
   "mimetype": "text/x-python",
   "name": "python",
   "nbconvert_exporter": "python",
   "pygments_lexer": "ipython3",
   "version": "3.7.6"
  }
 },
 "nbformat": 4,
 "nbformat_minor": 4
}
