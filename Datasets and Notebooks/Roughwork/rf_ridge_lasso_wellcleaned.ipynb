{
 "cells": [
  {
   "cell_type": "code",
   "execution_count": 9,
   "metadata": {},
   "outputs": [],
   "source": [
    "import matplotlib.pyplot as plt\n",
    "import numpy as np\n",
    "import pandas as pd"
   ]
  },
  {
   "cell_type": "code",
   "execution_count": 10,
   "metadata": {},
   "outputs": [
    {
     "name": "stdout",
     "output_type": "stream",
     "text": [
      "<class 'pandas.core.frame.DataFrame'>\n",
      "RangeIndex: 5943 entries, 0 to 5942\n",
      "Data columns (total 12 columns):\n",
      " #   Column                    Non-Null Count  Dtype  \n",
      "---  ------                    --------------  -----  \n",
      " 0   WELL_BORE_CODE            5943 non-null   object \n",
      " 1   AVG_DOWNHOLE_PRESSURE     5943 non-null   float64\n",
      " 2   AVG_DOWNHOLE_TEMPERATURE  5943 non-null   float64\n",
      " 3   AVG_CHOKE_SIZE_P          5943 non-null   float64\n",
      " 4   AVG_WHP_P                 5943 non-null   float64\n",
      " 5   AVG_WHT_P                 5943 non-null   float64\n",
      " 6   DP_CHOKE_SIZE             5943 non-null   float64\n",
      " 7   BORE_OIL_VOL              5943 non-null   float64\n",
      " 8   BORE_GAS_VOL              5943 non-null   float64\n",
      " 9   BORE_WAT_VOL              5943 non-null   float64\n",
      " 10  FLOW_KIND                 5943 non-null   object \n",
      " 11  WELL_TYPE                 5943 non-null   object \n",
      "dtypes: float64(9), object(3)\n",
      "memory usage: 557.3+ KB\n"
     ]
    }
   ],
   "source": [
    "data = pd.read_csv('well_cleaned.csv')\n",
    "data = data.loc[:, ~data.columns.str.contains('^Unnamed')]\n",
    "data = data.fillna(0)\n",
    "\n",
    "data.info()\n",
    "model_mse_dict={}\n",
    "model_R2_dict={}"
   ]
  },
  {
   "cell_type": "code",
   "execution_count": 3,
   "metadata": {},
   "outputs": [
    {
     "data": {
      "text/html": [
       "<div>\n",
       "<style scoped>\n",
       "    .dataframe tbody tr th:only-of-type {\n",
       "        vertical-align: middle;\n",
       "    }\n",
       "\n",
       "    .dataframe tbody tr th {\n",
       "        vertical-align: top;\n",
       "    }\n",
       "\n",
       "    .dataframe thead th {\n",
       "        text-align: right;\n",
       "    }\n",
       "</style>\n",
       "<table border=\"1\" class=\"dataframe\">\n",
       "  <thead>\n",
       "    <tr style=\"text-align: right;\">\n",
       "      <th></th>\n",
       "      <th>AVG_CHOKE_SIZE_P</th>\n",
       "      <th>AVG_WHP_P</th>\n",
       "      <th>AVG_WHT_P</th>\n",
       "      <th>BORE_OIL_VOL</th>\n",
       "      <th>BORE_GAS_VOL</th>\n",
       "      <th>BORE_WAT_VOL</th>\n",
       "    </tr>\n",
       "  </thead>\n",
       "  <tbody>\n",
       "    <tr>\n",
       "      <th>0</th>\n",
       "      <td>43.34</td>\n",
       "      <td>107.36</td>\n",
       "      <td>37.94</td>\n",
       "      <td>631.47</td>\n",
       "      <td>90439.09</td>\n",
       "      <td>0.0</td>\n",
       "    </tr>\n",
       "    <tr>\n",
       "      <th>1</th>\n",
       "      <td>47.17</td>\n",
       "      <td>99.19</td>\n",
       "      <td>60.76</td>\n",
       "      <td>1166.46</td>\n",
       "      <td>165720.39</td>\n",
       "      <td>0.0</td>\n",
       "    </tr>\n",
       "    <tr>\n",
       "      <th>2</th>\n",
       "      <td>47.73</td>\n",
       "      <td>94.60</td>\n",
       "      <td>63.05</td>\n",
       "      <td>1549.81</td>\n",
       "      <td>221707.31</td>\n",
       "      <td>0.0</td>\n",
       "    </tr>\n",
       "    <tr>\n",
       "      <th>3</th>\n",
       "      <td>48.53</td>\n",
       "      <td>89.99</td>\n",
       "      <td>64.55</td>\n",
       "      <td>1248.70</td>\n",
       "      <td>178063.52</td>\n",
       "      <td>0.0</td>\n",
       "    </tr>\n",
       "    <tr>\n",
       "      <th>4</th>\n",
       "      <td>49.84</td>\n",
       "      <td>84.78</td>\n",
       "      <td>65.72</td>\n",
       "      <td>1345.78</td>\n",
       "      <td>192602.19</td>\n",
       "      <td>0.0</td>\n",
       "    </tr>\n",
       "  </tbody>\n",
       "</table>\n",
       "</div>"
      ],
      "text/plain": [
       "   AVG_CHOKE_SIZE_P  AVG_WHP_P  AVG_WHT_P  BORE_OIL_VOL  BORE_GAS_VOL  \\\n",
       "0             43.34     107.36      37.94        631.47      90439.09   \n",
       "1             47.17      99.19      60.76       1166.46     165720.39   \n",
       "2             47.73      94.60      63.05       1549.81     221707.31   \n",
       "3             48.53      89.99      64.55       1248.70     178063.52   \n",
       "4             49.84      84.78      65.72       1345.78     192602.19   \n",
       "\n",
       "   BORE_WAT_VOL  \n",
       "0           0.0  \n",
       "1           0.0  \n",
       "2           0.0  \n",
       "3           0.0  \n",
       "4           0.0  "
      ]
     },
     "execution_count": 3,
     "metadata": {},
     "output_type": "execute_result"
    }
   ],
   "source": [
    "df1 = data.loc[:,'AVG_CHOKE_SIZE_P':'BORE_WAT_VOL']\n",
    "df1=df1.drop(['DP_CHOKE_SIZE'], axis=1)\n",
    "feature_names = df1.columns\n",
    "df1.head()"
   ]
  },
  {
   "cell_type": "code",
   "execution_count": 4,
   "metadata": {},
   "outputs": [],
   "source": [
    "X = df1\n",
    "y = data['AVG_DOWNHOLE_PRESSURE'].values.reshape(-1,1)"
   ]
  },
  {
   "cell_type": "code",
   "execution_count": 5,
   "metadata": {},
   "outputs": [],
   "source": [
    "#Create Test Train Split\n",
    "from sklearn.model_selection import train_test_split\n",
    "X_train, X_test, y_train, y_test = train_test_split(X, y, random_state=42)\n",
    "\n",
    "#Scaling the data\n",
    "from sklearn.preprocessing import StandardScaler\n",
    "x_scaler = StandardScaler().fit(X_train)\n",
    "X_train_s = x_scaler.transform(X_train)\n",
    "X_test_s = x_scaler.transform(X_test)\n",
    "\n",
    "from sklearn.preprocessing import StandardScaler\n",
    "y_scaler = StandardScaler().fit( y_train)\n",
    "y_train_s = y_scaler.transform( y_train)\n",
    "y_test_s = y_scaler.transform(y_test)"
   ]
  },
  {
   "cell_type": "markdown",
   "metadata": {},
   "source": [
    "RANDOM FOREST REGRESSION"
   ]
  },
  {
   "cell_type": "code",
   "execution_count": 15,
   "metadata": {},
   "outputs": [
    {
     "name": "stdout",
     "output_type": "stream",
     "text": [
      "Model:RANDOM FOREST REGRESSION\n",
      "R2 Score: 0.8340269728492401\n",
      "Mean Squared Error (MSE): 0.16324007218976155\n",
      "R-squared (R2 ): 0.8340269728492402\n"
     ]
    },
    {
     "data": {
      "text/plain": [
       "Text(0.5, 1.0, 'Residual Plot')"
      ]
     },
     "execution_count": 15,
     "metadata": {},
     "output_type": "execute_result"
    },
    {
     "data": {
      "image/png": "[encoded data removed]",
      "text/plain": [
       "<Figure size 432x288 with 1 Axes>"
      ]
     },
     "metadata": {
      "needs_background": "light"
     },
     "output_type": "display_data"
    }
   ],
   "source": [
    "## training the model\n",
    "from sklearn.ensemble import RandomForestRegressor\n",
    "rf = RandomForestRegressor(n_estimators=100,max_depth=100)\n",
    "rf.fit(X_train_s,y_train_s.ravel())\n",
    "score = rf.score(X_test_s, y_test_s.ravel())\n",
    "print(\"Model:RANDOM FOREST REGRESSION\")\n",
    "print(f\"R2 Score: {score}\")\n",
    "\n",
    "# Score the prediction with mse and r2\n",
    "from sklearn.metrics import mean_squared_error, r2_score\n",
    "predicted_train = rf.predict(X_test_s)\n",
    "mse = mean_squared_error(y_test_s.ravel(), predicted_train)\n",
    "r2 = r2_score(y_test_s.ravel(), predicted_train)\n",
    "print(f\"Mean Squared Error (MSE): {mse}\")\n",
    "print(f\"R-squared (R2 ): {r2}\")\n",
    "\n",
    "model_mse_dict.update(RAND_FOR_REG = mse)\n",
    "model_R2_dict.update(RAND_FOR_REG = r2)\n",
    "\n",
    "\n",
    "# Plot the Residuals for the Training and Testing data\n",
    "plt.scatter(rf.predict(X_train_s), rf.predict(X_train_s) - y_train_s.ravel(), c=\"blue\", label=\"Training Data\")\n",
    "plt.scatter(rf.predict(X_test_s), rf.predict(X_test_s) - y_test_s.ravel(), c=\"orange\", label=\"Testing Data\")\n",
    "plt.legend()\n",
    "plt.hlines(y=0, xmin=rf.predict(X_train_s).min(), xmax=rf.predict(X_train_s).max())\n",
    "plt.ylim(-2,2)\n",
    "plt.title(\"Residual Plot\")"
   ]
  },
  {
   "cell_type": "code",
   "execution_count": 16,
   "metadata": {},
   "outputs": [
    {
     "data": {
      "text/plain": [
       "[(0.33312639607447136, 'AVG_WHP_P'),\n",
       " (0.2633533064833538, 'AVG_WHT_P'),\n",
       " (0.15304980262323148, 'BORE_WAT_VOL'),\n",
       " (0.09364173516794187, 'AVG_CHOKE_SIZE_P'),\n",
       " (0.09171718569358538, 'BORE_GAS_VOL'),\n",
       " (0.06511157395741615, 'BORE_OIL_VOL')]"
      ]
     },
     "execution_count": 16,
     "metadata": {},
     "output_type": "execute_result"
    }
   ],
   "source": [
    "importances= rf.feature_importances_\n",
    "sorted(zip(importances,feature_names),reverse=True)"
   ]
  },
  {
   "cell_type": "markdown",
   "metadata": {},
   "source": [
    "RIDGE REGRESSION"
   ]
  },
  {
   "cell_type": "code",
   "execution_count": 22,
   "metadata": {},
   "outputs": [
    {
     "name": "stdout",
     "output_type": "stream",
     "text": [
      "R2 Score: 0.5781779756739883\n",
      "Mean Squared Error (MSE): 0.41487619334473474\n",
      "R-squared (R2 ): 0.5781779756739883\n"
     ]
    },
    {
     "data": {
      "text/plain": [
       "Text(0.5, 1.0, 'Residual Plot')"
      ]
     },
     "execution_count": 22,
     "metadata": {},
     "output_type": "execute_result"
    },
    {
     "data": {
      "image/png": "[encoded data removed]",
      "text/plain": [
       "<Figure size 432x288 with 1 Axes>"
      ]
     },
     "metadata": {
      "needs_background": "light"
     },
     "output_type": "display_data"
    }
   ],
   "source": [
    "## training the model\n",
    "from sklearn.linear_model import Ridge\n",
    "model = Ridge(alpha=0.05, normalize=False) #False gives slightly better value\n",
    "model.fit(X_train_s,y_train_s)\n",
    "score = model.score(X_test_s, y_test_s)\n",
    "print(f\"R2 Score: {score}\")\n",
    "\n",
    "# Score the prediction with mse and r2\n",
    "from sklearn.metrics import mean_squared_error, r2_score\n",
    "predicted_train = model.predict(X_test_s)\n",
    "mse = mean_squared_error(y_test_s, predicted_train)\n",
    "r2 = r2_score(y_test_s, predicted_train)\n",
    "print(f\"Mean Squared Error (MSE): {mse}\")\n",
    "print(f\"R-squared (R2 ): {r2}\")\n",
    "\n",
    "model_mse_dict.update(RIDGE_REG = mse)\n",
    "model_R2_dict.update(RIDGE_REG = r2)\n",
    "\n",
    "# Plot the Residuals for the Training and Testing data\n",
    "plt.scatter(model.predict(X_train_s), model.predict(X_train_s) - y_train_s, c=\"blue\", label=\"Training Data\")\n",
    "plt.scatter(model.predict(X_test_s), model.predict(X_test_s) - y_test_s, c=\"orange\", label=\"Testing Data\")\n",
    "plt.legend()\n",
    "plt.hlines(y=0, xmin=model.predict(X_train_s).min(), xmax=model.predict(X_train_s).max())\n",
    "plt.title(\"Residual Plot\")"
   ]
  },
  {
   "cell_type": "code",
   "execution_count": 18,
   "metadata": {},
   "outputs": [
    {
     "data": {
      "text/plain": [
       "[(1.1348855538005445, 'BORE_OIL_VOL'),\n",
       " (0.8635634153605024, 'AVG_WHP_P'),\n",
       " (0.3419462804988617, 'BORE_WAT_VOL'),\n",
       " (0.31985281336616056, 'AVG_CHOKE_SIZE_P'),\n",
       " (0.301017124026932, 'AVG_WHT_P'),\n",
       " (-1.570476240545254, 'BORE_GAS_VOL')]"
      ]
     },
     "execution_count": 18,
     "metadata": {},
     "output_type": "execute_result"
    }
   ],
   "source": [
    "importances= model.coef_\n",
    "sorted(zip(importances[0],feature_names),reverse=True)"
   ]
  },
  {
   "cell_type": "markdown",
   "metadata": {},
   "source": [
    "LASSO REGRESSION"
   ]
  },
  {
   "cell_type": "code",
   "execution_count": 24,
   "metadata": {},
   "outputs": [
    {
     "name": "stdout",
     "output_type": "stream",
     "text": [
      "R2 Score: 0.5787553140270549\n",
      "Mean Squared Error (MSE): 0.41430836159489925\n",
      "R-squared (R2 ): 0.5787553140270549\n"
     ]
    },
    {
     "name": "stderr",
     "output_type": "stream",
     "text": [
      "C:\\Users\\RAKHI\\Anaconda3\\envs\\mlproject\\lib\\site-packages\\sklearn\\linear_model\\_coordinate_descent.py:476: ConvergenceWarning: Objective did not converge. You might want to increase the number of iterations. Duality gap: 8.71446108336454, tolerance: 0.4457000000000002\n",
      "  positive)\n"
     ]
    },
    {
     "data": {
      "text/plain": [
       "Text(0.5, 1.0, 'Residual Plot')"
      ]
     },
     "execution_count": 24,
     "metadata": {},
     "output_type": "execute_result"
    },
    {
     "data": {
      "image/png": "[encoded data removed]",
      "text/plain": [
       "<Figure size 432x288 with 1 Axes>"
      ]
     },
     "metadata": {
      "needs_background": "light"
     },
     "output_type": "display_data"
    }
   ],
   "source": [
    "## training the model\n",
    "from sklearn.linear_model import Lasso\n",
    "model = Lasso(alpha=0.001, normalize=False) #False gives slightly better value\n",
    "model.fit(X_train_s,y_train_s)\n",
    "score = model.score(X_test_s, y_test_s)\n",
    "print(f\"R2 Score: {score}\")\n",
    "\n",
    "# Score the prediction with mse and r2\n",
    "from sklearn.metrics import mean_squared_error, r2_score\n",
    "predicted_train = model.predict(X_test_s)\n",
    "mse = mean_squared_error(y_test_s, predicted_train)\n",
    "r2 = r2_score(y_test_s, predicted_train)\n",
    "print(f\"Mean Squared Error (MSE): {mse}\")\n",
    "print(f\"R-squared (R2 ): {r2}\")\n",
    "\n",
    "model_mse_dict.update(LASSO_REG = mse)\n",
    "model_R2_dict.update(LASSO_REG = r2)\n",
    "\n",
    "# Plot the Residuals for the Training and Testing data\n",
    "plt.scatter(model.predict(X_train_s), model.predict(X_train_s) - y_train_s.ravel(), c=\"blue\", label=\"Training Data\")\n",
    "plt.scatter(model.predict(X_test_s), model.predict(X_test_s) - y_test_s.ravel(), c=\"orange\", label=\"Testing Data\")\n",
    "plt.legend()\n",
    "plt.hlines(y=0, xmin=model.predict(X_train_s).min(), xmax=model.predict(X_train_s).max())\n",
    "plt.title(\"Residual Plot\")"
   ]
  },
  {
   "cell_type": "code",
   "execution_count": 27,
   "metadata": {},
   "outputs": [
    {
     "data": {
      "text/plain": [
       "[(0.8519668194470716, 'AVG_WHP_P'),\n",
       " (0.3811997764061222, 'BORE_OIL_VOL'),\n",
       " (0.3263488134174493, 'AVG_CHOKE_SIZE_P'),\n",
       " (0.31668905692893834, 'BORE_WAT_VOL'),\n",
       " (0.30515311064000555, 'AVG_WHT_P'),\n",
       " (-0.8168106615395307, 'BORE_GAS_VOL')]"
      ]
     },
     "execution_count": 27,
     "metadata": {},
     "output_type": "execute_result"
    }
   ],
   "source": [
    "importances= model.coef_\n",
    "sorted(zip(importances,feature_names),reverse=True)"
   ]
  },
  {
   "cell_type": "code",
   "execution_count": 28,
   "metadata": {},
   "outputs": [
    {
     "data": {
      "text/plain": [
       "{'RAND_FOR_REG': 0.16324007218976155,\n",
       " 'RIDGE_REG': 0.41487619334473474,\n",
       " 'LASSO_REG': 0.41430836159489925}"
      ]
     },
     "execution_count": 28,
     "metadata": {},
     "output_type": "execute_result"
    }
   ],
   "source": [
    "#Displaying the MSE scores by models\n",
    "model_mse_dict"
   ]
  },
  {
   "cell_type": "code",
   "execution_count": 29,
   "metadata": {},
   "outputs": [
    {
     "data": {
      "text/plain": [
       "{'RAND_FOR_REG': 0.8340269728492402,\n",
       " 'RIDGE_REG': 0.5781779756739883,\n",
       " 'LASSO_REG': 0.5787553140270549}"
      ]
     },
     "execution_count": 29,
     "metadata": {},
     "output_type": "execute_result"
    }
   ],
   "source": [
    "#Displaying the R2 scores by models\n",
    "model_R2_dict"
   ]
  },
  {
   "cell_type": "code",
   "execution_count": null,
   "metadata": {},
   "outputs": [],
   "source": [
    "#Box plot by well"
   ]
  }
 ],
 "metadata": {
  "kernelspec": {
   "display_name": "Python [conda env:mlproject] *",
   "language": "python",
   "name": "conda-env-mlproject-py"
  },
  "language_info": {
   "codemirror_mode": {
    "name": "ipython",
    "version": 3
   },
   "file_extension": ".py",
   "mimetype": "text/x-python",
   "name": "python",
   "nbconvert_exporter": "python",
   "pygments_lexer": "ipython3",
   "version": "3.7.6"
  }
 },
 "nbformat": 4,
 "nbformat_minor": 4
}
