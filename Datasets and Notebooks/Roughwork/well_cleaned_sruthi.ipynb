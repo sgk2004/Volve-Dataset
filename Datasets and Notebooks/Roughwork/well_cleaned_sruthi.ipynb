{
 "cells": [
  {
   "cell_type": "code",
   "execution_count": 7,
   "metadata": {},
   "outputs": [],
   "source": [
    "import matplotlib.pyplot as plt\n",
    "import numpy as np\n",
    "import pandas as pd\n",
    "\n",
    "from sklearn.model_selection import train_test_split\n",
    "from sklearn.preprocessing import StandardScaler\n",
    "from sklearn.ensemble import RandomForestRegressor\n",
    "from sklearn.metrics import mean_squared_error, r2_score"
   ]
  },
  {
   "cell_type": "code",
   "execution_count": 5,
   "metadata": {},
   "outputs": [
    {
     "name": "stdout",
     "output_type": "stream",
     "text": [
      "<class 'pandas.core.frame.DataFrame'>\n",
      "RangeIndex: 5943 entries, 0 to 5942\n",
      "Data columns (total 12 columns):\n",
      " #   Column                    Non-Null Count  Dtype  \n",
      "---  ------                    --------------  -----  \n",
      " 0   WELL_BORE_CODE            5943 non-null   object \n",
      " 1   AVG_DOWNHOLE_PRESSURE     5943 non-null   float64\n",
      " 2   AVG_DOWNHOLE_TEMPERATURE  5943 non-null   float64\n",
      " 3   AVG_CHOKE_SIZE_P          5943 non-null   float64\n",
      " 4   AVG_WHP_P                 5943 non-null   float64\n",
      " 5   AVG_WHT_P                 5943 non-null   float64\n",
      " 6   DP_CHOKE_SIZE             5943 non-null   float64\n",
      " 7   BORE_OIL_VOL              5943 non-null   float64\n",
      " 8   BORE_GAS_VOL              5943 non-null   float64\n",
      " 9   BORE_WAT_VOL              5943 non-null   float64\n",
      " 10  FLOW_KIND                 5943 non-null   object \n",
      " 11  WELL_TYPE                 5943 non-null   object \n",
      "dtypes: float64(9), object(3)\n",
      "memory usage: 557.3+ KB\n"
     ]
    }
   ],
   "source": [
    "data = pd.read_csv('well_cleaned.csv')\n",
    "data = data.loc[:, ~data.columns.str.contains('^Unnamed')]\n",
    "data = data.fillna(0)\n",
    "df=data\n",
    "df.info()\n"
   ]
  },
  {
   "cell_type": "code",
   "execution_count": 8,
   "metadata": {},
   "outputs": [
    {
     "name": "stdout",
     "output_type": "stream",
     "text": [
      "(5943, 6)\n",
      "0.158147190194981\n",
      "0.8392051195521695\n"
     ]
    },
    {
     "data": {
      "image/png": "[encoded data removed]",
      "text/plain": [
       "<Figure size 432x288 with 1 Axes>"
      ]
     },
     "metadata": {
      "needs_background": "light"
     },
     "output_type": "display_data"
    },
    {
     "data": {
      "text/plain": [
       "[(0.3361918999832346, 'AVG_WHP_P'),\n",
       " (0.2505271451656858, 'AVG_WHT_P'),\n",
       " (0.15730923348502662, 'BORE_WAT_VOL'),\n",
       " (0.09915268037834198, 'AVG_CHOKE_SIZE_P'),\n",
       " (0.09211899136093761, 'BORE_GAS_VOL'),\n",
       " (0.0647000496267734, 'BORE_OIL_VOL')]"
      ]
     },
     "execution_count": 8,
     "metadata": {},
     "output_type": "execute_result"
    }
   ],
   "source": [
    "from sklearn.ensemble import RandomForestRegressor\n",
    "from sklearn.model_selection import train_test_split\n",
    "# Use Pandas get_dummies to convert categorical data\n",
    "X = df[[\"AVG_CHOKE_SIZE_P\",\"AVG_WHP_P\",\"AVG_WHT_P\",\"BORE_OIL_VOL\",\"BORE_GAS_VOL\",\"BORE_WAT_VOL\"]]\n",
    "print(X.shape)\n",
    "y= df[\"AVG_DOWNHOLE_PRESSURE\"].values.reshape(-1, 1)\n",
    "y.shape\n",
    "X_train, X_test, y_train, y_test = train_test_split(X, y, random_state=42)\n",
    "from sklearn.preprocessing import StandardScaler\n",
    "# # Create a StandardScater model and fit it to the training data\n",
    "X_scaler = StandardScaler().fit(X_train)\n",
    "y_scaler = StandardScaler().fit(y_train)\n",
    "# # Transform the training and testing data using the X_scaler and y_scaler models\n",
    "X_train_scaled = X_scaler.transform(X_train)\n",
    "X_test_scaled = X_scaler.transform(X_test)\n",
    "y_train_scaled = y_scaler.transform(y_train)\n",
    "y_test_scaled = y_scaler.transform(y_test)\n",
    "rf = RandomForestRegressor(n_estimators=100,max_depth=100)\n",
    "rf = rf.fit(X_train_scaled, y_train_scaled.ravel())\n",
    "predictions_train = rf.predict(X_train_scaled)\n",
    "predictions_test = rf.predict(X_test_scaled)\n",
    "MSE = mean_squared_error(y_test_scaled.ravel(), predictions_test)\n",
    "r2 = rf.score(X_test_scaled, y_test_scaled.ravel())\n",
    "print (MSE)\n",
    "print (r2)\n",
    "# Plot Residuals\n",
    "plt.scatter(predictions_train, predictions_train - y_train_scaled.ravel(), c= \"orange\",label=\"Training Data\", s=20)\n",
    "plt.scatter(predictions_test, predictions_test - y_test_scaled.ravel(), c= \"blue\",label=\"Testing Data\",s=20)\n",
    "plt.ylim(-2,2)\n",
    "plt.hlines(y=0, xmin=predictions_train.min(), xmax=predictions_train.max())\n",
    "plt.legend()\n",
    "plt.show()\n",
    "importances= rf.feature_importances_\n",
    "sorted(zip(importances,X.columns),reverse=True)\n",
    "\n"
   ]
  }
 ],
 "metadata": {
  "kernelspec": {
   "display_name": "Python [conda env:mlproject] *",
   "language": "python",
   "name": "conda-env-mlproject-py"
  },
  "language_info": {
   "codemirror_mode": {
    "name": "ipython",
    "version": 3
   },
   "file_extension": ".py",
   "mimetype": "text/x-python",
   "name": "python",
   "nbconvert_exporter": "python",
   "pygments_lexer": "ipython3",
   "version": "3.7.6"
  }
 },
 "nbformat": 4,
 "nbformat_minor": 4
}
