{
 "cells": [
  {
   "cell_type": "code",
   "execution_count": 2,
   "metadata": {},
   "outputs": [],
   "source": [
    "%matplotlib notebook"
   ]
  },
  {
   "cell_type": "code",
   "execution_count": 3,
   "metadata": {},
   "outputs": [],
   "source": [
    "# Dependencies\n",
    "import matplotlib.pyplot as plt\n",
    "import numpy as np\n",
    "import pandas as pd\n",
    "from scipy import stats"
   ]
  },
  {
   "cell_type": "code",
   "execution_count": 4,
   "metadata": {},
   "outputs": [
    {
     "name": "stdout",
     "output_type": "stream",
     "text": [
      "<class 'pandas.core.frame.DataFrame'>\n",
      "RangeIndex: 7878 entries, 0 to 7877\n",
      "Data columns (total 13 columns):\n",
      " #   Column                    Non-Null Count  Dtype  \n",
      "---  ------                    --------------  -----  \n",
      " 0   DATEPRD                   7878 non-null   object \n",
      " 1   WELL_BORE_CODE            7878 non-null   object \n",
      " 2   AVG_DOWNHOLE_PRESSURE     7878 non-null   float64\n",
      " 3   AVG_DOWNHOLE_TEMPERATURE  7878 non-null   float64\n",
      " 4   AVG_DP_TUBING             7878 non-null   float64\n",
      " 5   AVG_CHOKE_SIZE_P          7878 non-null   float64\n",
      " 6   AVG_WHP_P                 7878 non-null   float64\n",
      " 7   AVG_WHT_P                 7878 non-null   float64\n",
      " 8   DP_CHOKE_SIZE             7878 non-null   float64\n",
      " 9   BORE_OIL_VOL              7878 non-null   float64\n",
      " 10  BORE_GAS_VOL              7878 non-null   float64\n",
      " 11  BORE_WAT_VOL              7878 non-null   float64\n",
      " 12  YEAR                      7878 non-null   int64  \n",
      "dtypes: float64(10), int64(1), object(2)\n",
      "memory usage: 800.2+ KB\n"
     ]
    }
   ],
   "source": [
    "# Read in data\n",
    "data = pd.read_csv(\"All_wells_final.csv\")\n",
    "data = data.loc[:, ~data.columns.str.contains('^Unnamed')]\n",
    "data = data.fillna(0)\n",
    "\n",
    "data.info()"
   ]
  },
  {
   "cell_type": "code",
   "execution_count": 5,
   "metadata": {},
   "outputs": [
    {
     "data": {
      "text/plain": [
       "array(['NO 15/9-F-1 C', 'NO 15/9-F-11 H', 'NO 15/9-F-12 H',\n",
       "       'NO 15/9-F-14 H', 'NO 15/9-F-15 D'], dtype=object)"
      ]
     },
     "execution_count": 5,
     "metadata": {},
     "output_type": "execute_result"
    }
   ],
   "source": [
    "data.WELL_BORE_CODE.unique()"
   ]
  },
  {
   "cell_type": "code",
   "execution_count": 8,
   "metadata": {},
   "outputs": [
    {
     "name": "stdout",
     "output_type": "stream",
     "text": [
      "<class 'pandas.core.frame.DataFrame'>\n",
      "Int64Index: 5940 entries, 0 to 7877\n",
      "Data columns (total 13 columns):\n",
      " #   Column                    Non-Null Count  Dtype  \n",
      "---  ------                    --------------  -----  \n",
      " 0   DATEPRD                   5940 non-null   object \n",
      " 1   WELL_BORE_CODE            5940 non-null   object \n",
      " 2   AVG_DOWNHOLE_PRESSURE     5940 non-null   float64\n",
      " 3   AVG_DOWNHOLE_TEMPERATURE  5940 non-null   float64\n",
      " 4   AVG_DP_TUBING             5940 non-null   float64\n",
      " 5   AVG_CHOKE_SIZE_P          5940 non-null   float64\n",
      " 6   AVG_WHP_P                 5940 non-null   float64\n",
      " 7   AVG_WHT_P                 5940 non-null   float64\n",
      " 8   DP_CHOKE_SIZE             5940 non-null   float64\n",
      " 9   BORE_OIL_VOL              5940 non-null   float64\n",
      " 10  BORE_GAS_VOL              5940 non-null   float64\n",
      " 11  BORE_WAT_VOL              5940 non-null   float64\n",
      " 12  YEAR                      5940 non-null   int64  \n",
      "dtypes: float64(10), int64(1), object(2)\n",
      "memory usage: 649.7+ KB\n"
     ]
    }
   ],
   "source": [
    "dummy =data.loc[data['AVG_DOWNHOLE_PRESSURE'] > 0]\n",
    "dummy.info()"
   ]
  },
  {
   "cell_type": "markdown",
   "metadata": {},
   "source": [
    "Based on the geological position of the wells we divide the data into 2 clusters:\n",
    "    1.'NO 15/9-F-14 H' and 'NO 15/9-F-12 H' : Crest Wells\n",
    "    2. 'NO 15/9-F-1 C', 'NO 15/9-F-11 H', and 'NO 15/9-F-15 D' : Flank Wells\n",
    "We would now prove through T-testing that the mean outputs of one cluster is significantly different than the other\n",
    "and hence they have been classified separately. "
   ]
  },
  {
   "cell_type": "code",
   "execution_count": 47,
   "metadata": {},
   "outputs": [
    {
     "data": {
      "text/html": [
       "<div>\n",
       "<style scoped>\n",
       "    .dataframe tbody tr th:only-of-type {\n",
       "        vertical-align: middle;\n",
       "    }\n",
       "\n",
       "    .dataframe tbody tr th {\n",
       "        vertical-align: top;\n",
       "    }\n",
       "\n",
       "    .dataframe thead th {\n",
       "        text-align: right;\n",
       "    }\n",
       "</style>\n",
       "<table border=\"1\" class=\"dataframe\">\n",
       "  <thead>\n",
       "    <tr style=\"text-align: right;\">\n",
       "      <th></th>\n",
       "      <th>DATEPRD</th>\n",
       "      <th>WELL_BORE_CODE</th>\n",
       "      <th>AVG_DOWNHOLE_PRESSURE</th>\n",
       "      <th>AVG_DOWNHOLE_TEMPERATURE</th>\n",
       "      <th>AVG_DP_TUBING</th>\n",
       "      <th>AVG_CHOKE_SIZE_P</th>\n",
       "      <th>AVG_WHP_P</th>\n",
       "      <th>AVG_WHT_P</th>\n",
       "      <th>DP_CHOKE_SIZE</th>\n",
       "      <th>BORE_OIL_VOL</th>\n",
       "      <th>BORE_GAS_VOL</th>\n",
       "      <th>BORE_WAT_VOL</th>\n",
       "      <th>YEAR</th>\n",
       "      <th>WELL_POS</th>\n",
       "    </tr>\n",
       "  </thead>\n",
       "  <tbody>\n",
       "    <tr>\n",
       "      <th>0</th>\n",
       "      <td>22-Apr-14</td>\n",
       "      <td>NO 15/9-F-1 C</td>\n",
       "      <td>289.421</td>\n",
       "      <td>106.353</td>\n",
       "      <td>182.059</td>\n",
       "      <td>43.34345</td>\n",
       "      <td>107.362</td>\n",
       "      <td>37.939</td>\n",
       "      <td>78.935</td>\n",
       "      <td>631.0</td>\n",
       "      <td>90439.0</td>\n",
       "      <td>0.0</td>\n",
       "      <td>2014</td>\n",
       "      <td>Flank</td>\n",
       "    </tr>\n",
       "    <tr>\n",
       "      <th>1</th>\n",
       "      <td>23-Apr-14</td>\n",
       "      <td>NO 15/9-F-1 C</td>\n",
       "      <td>270.240</td>\n",
       "      <td>107.644</td>\n",
       "      <td>171.053</td>\n",
       "      <td>47.16752</td>\n",
       "      <td>99.187</td>\n",
       "      <td>60.757</td>\n",
       "      <td>70.627</td>\n",
       "      <td>1166.0</td>\n",
       "      <td>165720.0</td>\n",
       "      <td>0.0</td>\n",
       "      <td>2014</td>\n",
       "      <td>Flank</td>\n",
       "    </tr>\n",
       "    <tr>\n",
       "      <th>2</th>\n",
       "      <td>24-Apr-14</td>\n",
       "      <td>NO 15/9-F-1 C</td>\n",
       "      <td>262.843</td>\n",
       "      <td>107.869</td>\n",
       "      <td>168.242</td>\n",
       "      <td>47.73231</td>\n",
       "      <td>94.601</td>\n",
       "      <td>63.047</td>\n",
       "      <td>66.049</td>\n",
       "      <td>1550.0</td>\n",
       "      <td>221707.0</td>\n",
       "      <td>0.0</td>\n",
       "      <td>2014</td>\n",
       "      <td>Flank</td>\n",
       "    </tr>\n",
       "    <tr>\n",
       "      <th>3</th>\n",
       "      <td>25-Apr-14</td>\n",
       "      <td>NO 15/9-F-1 C</td>\n",
       "      <td>255.527</td>\n",
       "      <td>107.971</td>\n",
       "      <td>165.539</td>\n",
       "      <td>48.53377</td>\n",
       "      <td>89.988</td>\n",
       "      <td>64.547</td>\n",
       "      <td>61.405</td>\n",
       "      <td>1249.0</td>\n",
       "      <td>178064.0</td>\n",
       "      <td>0.0</td>\n",
       "      <td>2014</td>\n",
       "      <td>Flank</td>\n",
       "    </tr>\n",
       "    <tr>\n",
       "      <th>4</th>\n",
       "      <td>26-Apr-14</td>\n",
       "      <td>NO 15/9-F-1 C</td>\n",
       "      <td>247.199</td>\n",
       "      <td>108.052</td>\n",
       "      <td>162.422</td>\n",
       "      <td>49.84450</td>\n",
       "      <td>84.777</td>\n",
       "      <td>65.724</td>\n",
       "      <td>56.148</td>\n",
       "      <td>1346.0</td>\n",
       "      <td>192602.0</td>\n",
       "      <td>0.0</td>\n",
       "      <td>2014</td>\n",
       "      <td>Flank</td>\n",
       "    </tr>\n",
       "  </tbody>\n",
       "</table>\n",
       "</div>"
      ],
      "text/plain": [
       "     DATEPRD WELL_BORE_CODE  AVG_DOWNHOLE_PRESSURE  AVG_DOWNHOLE_TEMPERATURE  \\\n",
       "0  22-Apr-14  NO 15/9-F-1 C                289.421                   106.353   \n",
       "1  23-Apr-14  NO 15/9-F-1 C                270.240                   107.644   \n",
       "2  24-Apr-14  NO 15/9-F-1 C                262.843                   107.869   \n",
       "3  25-Apr-14  NO 15/9-F-1 C                255.527                   107.971   \n",
       "4  26-Apr-14  NO 15/9-F-1 C                247.199                   108.052   \n",
       "\n",
       "   AVG_DP_TUBING  AVG_CHOKE_SIZE_P  AVG_WHP_P  AVG_WHT_P  DP_CHOKE_SIZE  \\\n",
       "0        182.059          43.34345    107.362     37.939         78.935   \n",
       "1        171.053          47.16752     99.187     60.757         70.627   \n",
       "2        168.242          47.73231     94.601     63.047         66.049   \n",
       "3        165.539          48.53377     89.988     64.547         61.405   \n",
       "4        162.422          49.84450     84.777     65.724         56.148   \n",
       "\n",
       "   BORE_OIL_VOL  BORE_GAS_VOL  BORE_WAT_VOL  YEAR WELL_POS  \n",
       "0         631.0       90439.0           0.0  2014    Flank  \n",
       "1        1166.0      165720.0           0.0  2014    Flank  \n",
       "2        1550.0      221707.0           0.0  2014    Flank  \n",
       "3        1249.0      178064.0           0.0  2014    Flank  \n",
       "4        1346.0      192602.0           0.0  2014    Flank  "
      ]
     },
     "execution_count": 47,
     "metadata": {},
     "output_type": "execute_result"
    }
   ],
   "source": [
    "well_dictionary ={'NO 15/9-F-1 C': 'Flank', 'NO 15/9-F-11 H':'Flank', 'NO 15/9-F-12 H':'Crest',\n",
    "                  'NO 15/9-F-14 H':'Crest', 'NO 15/9-F-15 D':'Flank'} \n",
    "  \n",
    "# Add a new column named 'WELL_POS' \n",
    "data['WELL_POS'] = data['WELL_BORE_CODE'].map(well_dictionary) \n",
    "data.head()"
   ]
  },
  {
   "cell_type": "code",
   "execution_count": 48,
   "metadata": {},
   "outputs": [
    {
     "data": {
      "text/plain": [
       "array(['Flank'], dtype=object)"
      ]
     },
     "execution_count": 48,
     "metadata": {},
     "output_type": "execute_result"
    }
   ],
   "source": [
    "#To check the well_position values, if assigned correctly\n",
    "data.loc[data['WELL_BORE_CODE'] == 'NO 15/9-F-15 D']['WELL_POS'].unique()\n"
   ]
  },
  {
   "cell_type": "code",
   "execution_count": 49,
   "metadata": {},
   "outputs": [],
   "source": [
    "#Create a new column with the Gas to Oil Ratio\n",
    "data['GOR']=data['BORE_GAS_VOL']/data['BORE_OIL_VOL']\n",
    "data['WOR']=data['BORE_WAT_VOL']/data['BORE_OIL_VOL']"
   ]
  },
  {
   "cell_type": "code",
   "execution_count": 50,
   "metadata": {},
   "outputs": [
    {
     "data": {
      "text/html": [
       "<div>\n",
       "<style scoped>\n",
       "    .dataframe tbody tr th:only-of-type {\n",
       "        vertical-align: middle;\n",
       "    }\n",
       "\n",
       "    .dataframe tbody tr th {\n",
       "        vertical-align: top;\n",
       "    }\n",
       "\n",
       "    .dataframe thead th {\n",
       "        text-align: right;\n",
       "    }\n",
       "</style>\n",
       "<table border=\"1\" class=\"dataframe\">\n",
       "  <thead>\n",
       "    <tr style=\"text-align: right;\">\n",
       "      <th></th>\n",
       "      <th>DATEPRD</th>\n",
       "      <th>WELL_BORE_CODE</th>\n",
       "      <th>AVG_DOWNHOLE_PRESSURE</th>\n",
       "      <th>AVG_DOWNHOLE_TEMPERATURE</th>\n",
       "      <th>AVG_DP_TUBING</th>\n",
       "      <th>AVG_CHOKE_SIZE_P</th>\n",
       "      <th>AVG_WHP_P</th>\n",
       "      <th>AVG_WHT_P</th>\n",
       "      <th>DP_CHOKE_SIZE</th>\n",
       "      <th>BORE_OIL_VOL</th>\n",
       "      <th>BORE_GAS_VOL</th>\n",
       "      <th>BORE_WAT_VOL</th>\n",
       "      <th>YEAR</th>\n",
       "      <th>WELL_POS</th>\n",
       "      <th>GOR</th>\n",
       "      <th>WOR</th>\n",
       "    </tr>\n",
       "  </thead>\n",
       "  <tbody>\n",
       "    <tr>\n",
       "      <th>1553</th>\n",
       "      <td>12-Feb-08</td>\n",
       "      <td>NO 15/9-F-12 H</td>\n",
       "      <td>308.056</td>\n",
       "      <td>104.418</td>\n",
       "      <td>201.250</td>\n",
       "      <td>14.48443</td>\n",
       "      <td>106.806</td>\n",
       "      <td>16.295</td>\n",
       "      <td>92.475</td>\n",
       "      <td>285.0</td>\n",
       "      <td>38889.0</td>\n",
       "      <td>385.0</td>\n",
       "      <td>2008</td>\n",
       "      <td>Crest</td>\n",
       "      <td>136.452632</td>\n",
       "      <td>1.350877</td>\n",
       "    </tr>\n",
       "    <tr>\n",
       "      <th>1554</th>\n",
       "      <td>13-Feb-08</td>\n",
       "      <td>NO 15/9-F-12 H</td>\n",
       "      <td>303.034</td>\n",
       "      <td>105.403</td>\n",
       "      <td>182.145</td>\n",
       "      <td>22.83299</td>\n",
       "      <td>120.889</td>\n",
       "      <td>53.374</td>\n",
       "      <td>89.620</td>\n",
       "      <td>1870.0</td>\n",
       "      <td>285246.0</td>\n",
       "      <td>7.0</td>\n",
       "      <td>2008</td>\n",
       "      <td>Crest</td>\n",
       "      <td>152.537968</td>\n",
       "      <td>0.003743</td>\n",
       "    </tr>\n",
       "    <tr>\n",
       "      <th>1555</th>\n",
       "      <td>14-Feb-08</td>\n",
       "      <td>NO 15/9-F-12 H</td>\n",
       "      <td>295.586</td>\n",
       "      <td>105.775</td>\n",
       "      <td>181.868</td>\n",
       "      <td>31.24997</td>\n",
       "      <td>113.718</td>\n",
       "      <td>72.738</td>\n",
       "      <td>80.120</td>\n",
       "      <td>3124.0</td>\n",
       "      <td>509955.0</td>\n",
       "      <td>1.0</td>\n",
       "      <td>2008</td>\n",
       "      <td>Crest</td>\n",
       "      <td>163.237836</td>\n",
       "      <td>0.000320</td>\n",
       "    </tr>\n",
       "    <tr>\n",
       "      <th>1556</th>\n",
       "      <td>15-Feb-08</td>\n",
       "      <td>NO 15/9-F-12 H</td>\n",
       "      <td>297.663</td>\n",
       "      <td>105.752</td>\n",
       "      <td>180.832</td>\n",
       "      <td>28.51893</td>\n",
       "      <td>116.831</td>\n",
       "      <td>69.996</td>\n",
       "      <td>84.251</td>\n",
       "      <td>2608.0</td>\n",
       "      <td>383427.0</td>\n",
       "      <td>1.0</td>\n",
       "      <td>2008</td>\n",
       "      <td>Crest</td>\n",
       "      <td>147.019555</td>\n",
       "      <td>0.000383</td>\n",
       "    </tr>\n",
       "    <tr>\n",
       "      <th>1557</th>\n",
       "      <td>16-Feb-08</td>\n",
       "      <td>NO 15/9-F-12 H</td>\n",
       "      <td>295.936</td>\n",
       "      <td>105.811</td>\n",
       "      <td>180.501</td>\n",
       "      <td>30.22790</td>\n",
       "      <td>115.434</td>\n",
       "      <td>71.518</td>\n",
       "      <td>82.359</td>\n",
       "      <td>3052.0</td>\n",
       "      <td>418474.0</td>\n",
       "      <td>5.0</td>\n",
       "      <td>2008</td>\n",
       "      <td>Crest</td>\n",
       "      <td>137.114679</td>\n",
       "      <td>0.001638</td>\n",
       "    </tr>\n",
       "  </tbody>\n",
       "</table>\n",
       "</div>"
      ],
      "text/plain": [
       "        DATEPRD  WELL_BORE_CODE  AVG_DOWNHOLE_PRESSURE  \\\n",
       "1553  12-Feb-08  NO 15/9-F-12 H                308.056   \n",
       "1554  13-Feb-08  NO 15/9-F-12 H                303.034   \n",
       "1555  14-Feb-08  NO 15/9-F-12 H                295.586   \n",
       "1556  15-Feb-08  NO 15/9-F-12 H                297.663   \n",
       "1557  16-Feb-08  NO 15/9-F-12 H                295.936   \n",
       "\n",
       "      AVG_DOWNHOLE_TEMPERATURE  AVG_DP_TUBING  AVG_CHOKE_SIZE_P  AVG_WHP_P  \\\n",
       "1553                   104.418        201.250          14.48443    106.806   \n",
       "1554                   105.403        182.145          22.83299    120.889   \n",
       "1555                   105.775        181.868          31.24997    113.718   \n",
       "1556                   105.752        180.832          28.51893    116.831   \n",
       "1557                   105.811        180.501          30.22790    115.434   \n",
       "\n",
       "      AVG_WHT_P  DP_CHOKE_SIZE  BORE_OIL_VOL  BORE_GAS_VOL  BORE_WAT_VOL  \\\n",
       "1553     16.295         92.475         285.0       38889.0         385.0   \n",
       "1554     53.374         89.620        1870.0      285246.0           7.0   \n",
       "1555     72.738         80.120        3124.0      509955.0           1.0   \n",
       "1556     69.996         84.251        2608.0      383427.0           1.0   \n",
       "1557     71.518         82.359        3052.0      418474.0           5.0   \n",
       "\n",
       "      YEAR WELL_POS         GOR       WOR  \n",
       "1553  2008    Crest  136.452632  1.350877  \n",
       "1554  2008    Crest  152.537968  0.003743  \n",
       "1555  2008    Crest  163.237836  0.000320  \n",
       "1556  2008    Crest  147.019555  0.000383  \n",
       "1557  2008    Crest  137.114679  0.001638  "
      ]
     },
     "execution_count": 50,
     "metadata": {},
     "output_type": "execute_result"
    }
   ],
   "source": [
    "#Get the GOR for the individual clusters\n",
    "#Creating two dataframes for crest and flank wells\n",
    "\n",
    "df_crest=data.loc[data['WELL_POS']=='Crest']\n",
    "df_flank=data.loc[data['WELL_POS']=='Flank']\n",
    "\n",
    "df_crest.head()"
   ]
  },
  {
   "cell_type": "code",
   "execution_count": 51,
   "metadata": {},
   "outputs": [],
   "source": [
    "#GOR_Crest/Flank and WOR_Crest/Flank is the Series for theirl GORs and WORs for individual categories\n",
    "GOR_Crest = df_crest.iloc[:,-2]\n",
    "GOR_Flank = df_flank.iloc[:,-2]\n",
    "WOR_Crest = df_crest.iloc[:,-1]\n",
    "WOR_Flank = df_flank.iloc[:,-1]"
   ]
  },
  {
   "cell_type": "code",
   "execution_count": 53,
   "metadata": {},
   "outputs": [],
   "source": [
    "# Run the t-test on Flank well and Crest Well - GOR\n",
    "(t_stat, p) = stats.ttest_ind(GOR_Crest, GOR_Flank, equal_var=False)"
   ]
  },
  {
   "cell_type": "code",
   "execution_count": 55,
   "metadata": {},
   "outputs": [
    {
     "name": "stdout",
     "output_type": "stream",
     "text": [
      "The mean GOR of Crest Wells is 151.3943115894856.\n",
      "The mean GOR of Flank Wells is is 152.9082486401012.\n",
      "p is 2.4399503806820944e-06.\n",
      "The difference in sample means is significant.\n"
     ]
    }
   ],
   "source": [
    "# Report the data - Flank well and Crest Well - GOR\n",
    "print(\"The mean GOR of Crest Wells is {}.\".format(GOR_Crest.mean()))\n",
    "print(\"The mean GOR of Flank Wells is is {}.\".format(GOR_Flank.mean()))\n",
    "\n",
    "print(\"p is {}.\".format(p))\n",
    "if p < 0.05:\n",
    "    print(\"The difference in sample means is significant.\")\n",
    "else:\n",
    "    print(\"The difference in sample means is not significant.\")"
   ]
  },
  {
   "cell_type": "code",
   "execution_count": 57,
   "metadata": {},
   "outputs": [],
   "source": [
    "# Plot sample means with error bars\n",
    "tick_labels = [\"GOR_Crest\", \"GOR_Flank\"]\n",
    "\n",
    "means = [GOR_Crest.mean(), GOR_Flank.mean()]\n",
    "x_axis = np.arange(0, len(means))\n",
    "\n",
    "sem = [GOR_Crest.sem(), GOR_Flank.sem()]"
   ]
  },
  {
   "cell_type": "code",
   "execution_count": 60,
   "metadata": {},
   "outputs": [
    {
     "data": {
      "image/png": "[encoded data removed]",
      "text/plain": [
       "<Figure size 432x288 with 1 Axes>"
      ]
     },
     "metadata": {
      "needs_background": "light"
     },
     "output_type": "display_data"
    }
   ],
   "source": [
    "# Plot mean GOR of Crest and Flank Wells\n",
    "fig, ax = plt.subplots()\n",
    "\n",
    "fig.suptitle(\"Mean GOR of Crest and Flank Wells \",\n",
    "             fontsize=12, fontweight=\"bold\")\n",
    "\n",
    "ax.errorbar(x_axis, means, yerr=sem, fmt=\"o\")\n",
    "\n",
    "ax.set_xlim(-0.5, 1.5)\n",
    "\n",
    "\n",
    "ax.set_xticklabels(tick_labels)\n",
    "ax.set_xticks([0, 1])\n",
    "\n",
    "ax.set_ylabel(\"GOR\")\n",
    "\n",
    "plt.show()"
   ]
  },
  {
   "cell_type": "code",
   "execution_count": 61,
   "metadata": {},
   "outputs": [],
   "source": [
    "# Run the t-test on Flank well and Crest Well - WOR\n",
    "(t_stat, p) = stats.ttest_ind(WOR_Crest, WOR_Flank, equal_var=False)"
   ]
  },
  {
   "cell_type": "code",
   "execution_count": 62,
   "metadata": {},
   "outputs": [
    {
     "name": "stdout",
     "output_type": "stream",
     "text": [
      "The mean WOR of Crest Wells is 6.067354293360548.\n",
      "The mean WOR of Flank Wells is is 1.1478920637194943.\n",
      "p is 0.0.\n",
      "The difference in sample means is significant.\n"
     ]
    }
   ],
   "source": [
    "# Report the data - Flank well and Crest Well - GOR\n",
    "print(\"The mean WOR of Crest Wells is {}.\".format(WOR_Crest.mean()))\n",
    "print(\"The mean WOR of Flank Wells is is {}.\".format(WOR_Flank.mean()))\n",
    "\n",
    "print(\"p is {}.\".format(p))\n",
    "if p < 0.05:\n",
    "    print(\"The difference in sample means is significant.\")\n",
    "else:\n",
    "    print(\"The difference in sample means is not significant.\")"
   ]
  },
  {
   "cell_type": "code",
   "execution_count": 63,
   "metadata": {},
   "outputs": [],
   "source": [
    "# Plot sample means with error bars\n",
    "tick_labels = [\"WOR_Crest\", \"WOR_Flank\"]\n",
    "\n",
    "means = [WOR_Crest.mean(), WOR_Flank.mean()]\n",
    "x_axis = np.arange(0, len(means))\n",
    "\n",
    "sem = [WOR_Crest.sem(), WOR_Flank.sem()]"
   ]
  },
  {
   "cell_type": "code",
   "execution_count": 64,
   "metadata": {},
   "outputs": [
    {
     "data": {
      "image/png": "[encoded data removed]",
      "text/plain": [
       "<Figure size 432x288 with 1 Axes>"
      ]
     },
     "metadata": {
      "needs_background": "light"
     },
     "output_type": "display_data"
    }
   ],
   "source": [
    "# Plot mean WOR of Crest and Flank Wells\n",
    "fig, ax = plt.subplots()\n",
    "\n",
    "fig.suptitle(\"Mean WOR of Crest and Flank Wells \",\n",
    "             fontsize=12, fontweight=\"bold\")\n",
    "\n",
    "ax.errorbar(x_axis, means, yerr=sem, fmt=\"o\")\n",
    "\n",
    "ax.set_xlim(-0.5, 1.5)\n",
    "\n",
    "\n",
    "ax.set_xticklabels(tick_labels)\n",
    "ax.set_xticks([0, 1])\n",
    "\n",
    "ax.set_ylabel(\"WOR\")\n",
    "\n",
    "plt.show()"
   ]
  }
 ],
 "metadata": {
  "kernelspec": {
   "display_name": "Python 3",
   "language": "python",
   "name": "python3"
  },
  "language_info": {
   "codemirror_mode": {
    "name": "ipython",
    "version": 3
   },
   "file_extension": ".py",
   "mimetype": "text/x-python",
   "name": "python",
   "nbconvert_exporter": "python",
   "pygments_lexer": "ipython3",
   "version": "3.7.6"
  }
 },
 "nbformat": 4,
 "nbformat_minor": 4
}
