{
 "cells": [
  {
   "cell_type": "code",
   "execution_count": 1,
   "metadata": {},
   "outputs": [],
   "source": [
    "from sklearn import tree\n",
    "import matplotlib.pyplot as plt\n",
    "import numpy as np\n",
    "import pandas as pd"
   ]
  },
  {
   "cell_type": "code",
   "execution_count": 2,
   "metadata": {},
   "outputs": [
    {
     "name": "stdout",
     "output_type": "stream",
     "text": [
      "<class 'pandas.core.frame.DataFrame'>\n",
      "RangeIndex: 746 entries, 0 to 745\n",
      "Data columns (total 12 columns):\n",
      " #   Column                    Non-Null Count  Dtype  \n",
      "---  ------                    --------------  -----  \n",
      " 0   DATEPRD                   746 non-null    object \n",
      " 1   WELL_BORE_CODE            746 non-null    object \n",
      " 2   AVG_DOWNHOLE_PRESSURE     746 non-null    float64\n",
      " 3   AVG_DOWNHOLE_TEMPERATURE  746 non-null    float64\n",
      " 4   AVG_DP_TUBING             746 non-null    float64\n",
      " 5   AVG_CHOKE_SIZE_P          746 non-null    float64\n",
      " 6   AVG_WHP_P                 746 non-null    float64\n",
      " 7   AVG_WHT_P                 746 non-null    float64\n",
      " 8   DP_CHOKE_SIZE             746 non-null    float64\n",
      " 9   BORE_OIL_VOL              746 non-null    float64\n",
      " 10  BORE_GAS_VOL              746 non-null    float64\n",
      " 11  BORE_WAT_VOL              746 non-null    float64\n",
      "dtypes: float64(10), object(2)\n",
      "memory usage: 70.1+ KB\n"
     ]
    }
   ],
   "source": [
    "# Read the csv file into a pandas DataFrame\n",
    "\n",
    "data = pd.read_csv('Well1.csv')\n",
    "data = data.loc[:, ~data.columns.str.contains('^Unnamed')]\n",
    "data = data.fillna(0)\n",
    "\n",
    "data.info()"
   ]
  },
  {
   "cell_type": "code",
   "execution_count": 3,
   "metadata": {},
   "outputs": [
    {
     "name": "stdout",
     "output_type": "stream",
     "text": [
      "<class 'pandas.core.frame.DataFrame'>\n",
      "Int64Index: 746 entries, 0 to 745\n",
      "Data columns (total 12 columns):\n",
      " #   Column                    Non-Null Count  Dtype  \n",
      "---  ------                    --------------  -----  \n",
      " 0   DATEPRD                   746 non-null    object \n",
      " 1   WELL_BORE_CODE            746 non-null    object \n",
      " 2   AVG_DOWNHOLE_PRESSURE     746 non-null    float64\n",
      " 3   AVG_DOWNHOLE_TEMPERATURE  746 non-null    float64\n",
      " 4   AVG_DP_TUBING             746 non-null    float64\n",
      " 5   AVG_CHOKE_SIZE_P          746 non-null    float64\n",
      " 6   AVG_WHP_P                 746 non-null    float64\n",
      " 7   AVG_WHT_P                 746 non-null    float64\n",
      " 8   DP_CHOKE_SIZE             746 non-null    float64\n",
      " 9   BORE_OIL_VOL              746 non-null    float64\n",
      " 10  BORE_GAS_VOL              746 non-null    float64\n",
      " 11  BORE_WAT_VOL              746 non-null    float64\n",
      "dtypes: float64(10), object(2)\n",
      "memory usage: 75.8+ KB\n"
     ]
    }
   ],
   "source": [
    "#Getting the rows with non null values, \n",
    "data1= data.loc[(data!=0).any(axis=1)]\n",
    "data1.info()"
   ]
  },
  {
   "cell_type": "code",
   "execution_count": 61,
   "metadata": {},
   "outputs": [
    {
     "data": {
      "text/html": [
       "<div>\n",
       "<style scoped>\n",
       "    .dataframe tbody tr th:only-of-type {\n",
       "        vertical-align: middle;\n",
       "    }\n",
       "\n",
       "    .dataframe tbody tr th {\n",
       "        vertical-align: top;\n",
       "    }\n",
       "\n",
       "    .dataframe thead th {\n",
       "        text-align: right;\n",
       "    }\n",
       "</style>\n",
       "<table border=\"1\" class=\"dataframe\">\n",
       "  <thead>\n",
       "    <tr style=\"text-align: right;\">\n",
       "      <th></th>\n",
       "      <th>DATEPRD</th>\n",
       "      <th>WELL_BORE_CODE</th>\n",
       "      <th>AVG_DOWNHOLE_PRESSURE</th>\n",
       "      <th>AVG_DOWNHOLE_TEMPERATURE</th>\n",
       "      <th>AVG_DP_TUBING</th>\n",
       "      <th>AVG_CHOKE_SIZE_P</th>\n",
       "      <th>AVG_WHP_P</th>\n",
       "      <th>AVG_WHT_P</th>\n",
       "      <th>DP_CHOKE_SIZE</th>\n",
       "      <th>BORE_OIL_VOL</th>\n",
       "      <th>BORE_GAS_VOL</th>\n",
       "      <th>BORE_WAT_VOL</th>\n",
       "      <th>GOR</th>\n",
       "      <th>DEL_P</th>\n",
       "    </tr>\n",
       "  </thead>\n",
       "  <tbody>\n",
       "  </tbody>\n",
       "</table>\n",
       "</div>"
      ],
      "text/plain": [
       "Empty DataFrame\n",
       "Columns: [DATEPRD, WELL_BORE_CODE, AVG_DOWNHOLE_PRESSURE, AVG_DOWNHOLE_TEMPERATURE, AVG_DP_TUBING, AVG_CHOKE_SIZE_P, AVG_WHP_P, AVG_WHT_P, DP_CHOKE_SIZE, BORE_OIL_VOL, BORE_GAS_VOL, BORE_WAT_VOL, GOR, DEL_P]\n",
       "Index: []"
      ]
     },
     "execution_count": 61,
     "metadata": {},
     "output_type": "execute_result"
    }
   ],
   "source": [
    "data.loc[data['AVG_DOWNHOLE_TEMPERATURE'] == 0]"
   ]
  },
  {
   "cell_type": "code",
   "execution_count": null,
   "metadata": {},
   "outputs": [],
   "source": []
  },
  {
   "cell_type": "code",
   "execution_count": 4,
   "metadata": {},
   "outputs": [
    {
     "data": {
      "text/html": [
       "<div>\n",
       "<style scoped>\n",
       "    .dataframe tbody tr th:only-of-type {\n",
       "        vertical-align: middle;\n",
       "    }\n",
       "\n",
       "    .dataframe tbody tr th {\n",
       "        vertical-align: top;\n",
       "    }\n",
       "\n",
       "    .dataframe thead th {\n",
       "        text-align: right;\n",
       "    }\n",
       "</style>\n",
       "<table border=\"1\" class=\"dataframe\">\n",
       "  <thead>\n",
       "    <tr style=\"text-align: right;\">\n",
       "      <th></th>\n",
       "      <th>DATEPRD</th>\n",
       "      <th>WELL_BORE_CODE</th>\n",
       "      <th>AVG_DOWNHOLE_PRESSURE</th>\n",
       "      <th>AVG_DOWNHOLE_TEMPERATURE</th>\n",
       "      <th>AVG_DP_TUBING</th>\n",
       "      <th>AVG_CHOKE_SIZE_P</th>\n",
       "      <th>AVG_WHP_P</th>\n",
       "      <th>AVG_WHT_P</th>\n",
       "      <th>DP_CHOKE_SIZE</th>\n",
       "      <th>BORE_OIL_VOL</th>\n",
       "      <th>BORE_GAS_VOL</th>\n",
       "      <th>BORE_WAT_VOL</th>\n",
       "      <th>GOR</th>\n",
       "      <th>DEL_P</th>\n",
       "    </tr>\n",
       "  </thead>\n",
       "  <tbody>\n",
       "    <tr>\n",
       "      <th>15</th>\n",
       "      <td>22-Apr-14</td>\n",
       "      <td>NO 15/9-F-1 C</td>\n",
       "      <td>289.421</td>\n",
       "      <td>106.353</td>\n",
       "      <td>182.059</td>\n",
       "      <td>43.34345</td>\n",
       "      <td>107.362</td>\n",
       "      <td>37.939</td>\n",
       "      <td>78.935</td>\n",
       "      <td>631.0</td>\n",
       "      <td>90439.0</td>\n",
       "      <td>0.0</td>\n",
       "      <td>143.326466</td>\n",
       "      <td>182.059</td>\n",
       "    </tr>\n",
       "    <tr>\n",
       "      <th>16</th>\n",
       "      <td>23-Apr-14</td>\n",
       "      <td>NO 15/9-F-1 C</td>\n",
       "      <td>270.240</td>\n",
       "      <td>107.644</td>\n",
       "      <td>171.053</td>\n",
       "      <td>47.16752</td>\n",
       "      <td>99.187</td>\n",
       "      <td>60.757</td>\n",
       "      <td>70.627</td>\n",
       "      <td>1166.0</td>\n",
       "      <td>165720.0</td>\n",
       "      <td>0.0</td>\n",
       "      <td>142.126930</td>\n",
       "      <td>171.053</td>\n",
       "    </tr>\n",
       "    <tr>\n",
       "      <th>17</th>\n",
       "      <td>24-Apr-14</td>\n",
       "      <td>NO 15/9-F-1 C</td>\n",
       "      <td>262.843</td>\n",
       "      <td>107.869</td>\n",
       "      <td>168.242</td>\n",
       "      <td>47.73231</td>\n",
       "      <td>94.601</td>\n",
       "      <td>63.047</td>\n",
       "      <td>66.049</td>\n",
       "      <td>1550.0</td>\n",
       "      <td>221707.0</td>\n",
       "      <td>0.0</td>\n",
       "      <td>143.036774</td>\n",
       "      <td>168.242</td>\n",
       "    </tr>\n",
       "    <tr>\n",
       "      <th>18</th>\n",
       "      <td>25-Apr-14</td>\n",
       "      <td>NO 15/9-F-1 C</td>\n",
       "      <td>255.527</td>\n",
       "      <td>107.971</td>\n",
       "      <td>165.539</td>\n",
       "      <td>48.53377</td>\n",
       "      <td>89.988</td>\n",
       "      <td>64.547</td>\n",
       "      <td>61.405</td>\n",
       "      <td>1249.0</td>\n",
       "      <td>178064.0</td>\n",
       "      <td>0.0</td>\n",
       "      <td>142.565252</td>\n",
       "      <td>165.539</td>\n",
       "    </tr>\n",
       "    <tr>\n",
       "      <th>19</th>\n",
       "      <td>26-Apr-14</td>\n",
       "      <td>NO 15/9-F-1 C</td>\n",
       "      <td>247.199</td>\n",
       "      <td>108.052</td>\n",
       "      <td>162.422</td>\n",
       "      <td>49.84450</td>\n",
       "      <td>84.777</td>\n",
       "      <td>65.724</td>\n",
       "      <td>56.148</td>\n",
       "      <td>1346.0</td>\n",
       "      <td>192602.0</td>\n",
       "      <td>0.0</td>\n",
       "      <td>143.092125</td>\n",
       "      <td>162.422</td>\n",
       "    </tr>\n",
       "  </tbody>\n",
       "</table>\n",
       "</div>"
      ],
      "text/plain": [
       "      DATEPRD WELL_BORE_CODE  AVG_DOWNHOLE_PRESSURE  AVG_DOWNHOLE_TEMPERATURE  \\\n",
       "15  22-Apr-14  NO 15/9-F-1 C                289.421                   106.353   \n",
       "16  23-Apr-14  NO 15/9-F-1 C                270.240                   107.644   \n",
       "17  24-Apr-14  NO 15/9-F-1 C                262.843                   107.869   \n",
       "18  25-Apr-14  NO 15/9-F-1 C                255.527                   107.971   \n",
       "19  26-Apr-14  NO 15/9-F-1 C                247.199                   108.052   \n",
       "\n",
       "    AVG_DP_TUBING  AVG_CHOKE_SIZE_P  AVG_WHP_P  AVG_WHT_P  DP_CHOKE_SIZE  \\\n",
       "15        182.059          43.34345    107.362     37.939         78.935   \n",
       "16        171.053          47.16752     99.187     60.757         70.627   \n",
       "17        168.242          47.73231     94.601     63.047         66.049   \n",
       "18        165.539          48.53377     89.988     64.547         61.405   \n",
       "19        162.422          49.84450     84.777     65.724         56.148   \n",
       "\n",
       "    BORE_OIL_VOL  BORE_GAS_VOL  BORE_WAT_VOL         GOR    DEL_P  \n",
       "15         631.0       90439.0           0.0  143.326466  182.059  \n",
       "16        1166.0      165720.0           0.0  142.126930  171.053  \n",
       "17        1550.0      221707.0           0.0  143.036774  168.242  \n",
       "18        1249.0      178064.0           0.0  142.565252  165.539  \n",
       "19        1346.0      192602.0           0.0  143.092125  162.422  "
      ]
     },
     "execution_count": 4,
     "metadata": {},
     "output_type": "execute_result"
    }
   ],
   "source": [
    "data = data.loc[data['BORE_OIL_VOL'] > 0]\n",
    "data = data.loc[data['AVG_CHOKE_SIZE_P'] > 40]\n",
    "data['GOR']= data['BORE_GAS_VOL']/data['BORE_OIL_VOL']\n",
    "data['DEL_P']= data['AVG_DOWNHOLE_PRESSURE']-data['AVG_WHP_P']\n",
    "data = data.loc[data['GOR'] > 0]\n",
    "\n",
    "data.head()\n"
   ]
  },
  {
   "cell_type": "code",
   "execution_count": 5,
   "metadata": {},
   "outputs": [
    {
     "data": {
      "text/html": [
       "<div>\n",
       "<style scoped>\n",
       "    .dataframe tbody tr th:only-of-type {\n",
       "        vertical-align: middle;\n",
       "    }\n",
       "\n",
       "    .dataframe tbody tr th {\n",
       "        vertical-align: top;\n",
       "    }\n",
       "\n",
       "    .dataframe thead th {\n",
       "        text-align: right;\n",
       "    }\n",
       "</style>\n",
       "<table border=\"1\" class=\"dataframe\">\n",
       "  <thead>\n",
       "    <tr style=\"text-align: right;\">\n",
       "      <th></th>\n",
       "      <th>AVG_DOWNHOLE_PRESSURE</th>\n",
       "      <th>AVG_CHOKE_SIZE_P</th>\n",
       "      <th>AVG_WHP_P</th>\n",
       "      <th>DP_CHOKE_SIZE</th>\n",
       "      <th>GOR</th>\n",
       "      <th>DEL_P</th>\n",
       "    </tr>\n",
       "  </thead>\n",
       "  <tbody>\n",
       "    <tr>\n",
       "      <th>15</th>\n",
       "      <td>289.421</td>\n",
       "      <td>43.34345</td>\n",
       "      <td>107.362</td>\n",
       "      <td>78.935</td>\n",
       "      <td>143.326466</td>\n",
       "      <td>182.059</td>\n",
       "    </tr>\n",
       "    <tr>\n",
       "      <th>16</th>\n",
       "      <td>270.240</td>\n",
       "      <td>47.16752</td>\n",
       "      <td>99.187</td>\n",
       "      <td>70.627</td>\n",
       "      <td>142.126930</td>\n",
       "      <td>171.053</td>\n",
       "    </tr>\n",
       "    <tr>\n",
       "      <th>17</th>\n",
       "      <td>262.843</td>\n",
       "      <td>47.73231</td>\n",
       "      <td>94.601</td>\n",
       "      <td>66.049</td>\n",
       "      <td>143.036774</td>\n",
       "      <td>168.242</td>\n",
       "    </tr>\n",
       "    <tr>\n",
       "      <th>18</th>\n",
       "      <td>255.527</td>\n",
       "      <td>48.53377</td>\n",
       "      <td>89.988</td>\n",
       "      <td>61.405</td>\n",
       "      <td>142.565252</td>\n",
       "      <td>165.539</td>\n",
       "    </tr>\n",
       "    <tr>\n",
       "      <th>19</th>\n",
       "      <td>247.199</td>\n",
       "      <td>49.84450</td>\n",
       "      <td>84.777</td>\n",
       "      <td>56.148</td>\n",
       "      <td>143.092125</td>\n",
       "      <td>162.422</td>\n",
       "    </tr>\n",
       "  </tbody>\n",
       "</table>\n",
       "</div>"
      ],
      "text/plain": [
       "    AVG_DOWNHOLE_PRESSURE  AVG_CHOKE_SIZE_P  AVG_WHP_P  DP_CHOKE_SIZE  \\\n",
       "15                289.421          43.34345    107.362         78.935   \n",
       "16                270.240          47.16752     99.187         70.627   \n",
       "17                262.843          47.73231     94.601         66.049   \n",
       "18                255.527          48.53377     89.988         61.405   \n",
       "19                247.199          49.84450     84.777         56.148   \n",
       "\n",
       "           GOR    DEL_P  \n",
       "15  143.326466  182.059  \n",
       "16  142.126930  171.053  \n",
       "17  143.036774  168.242  \n",
       "18  142.565252  165.539  \n",
       "19  143.092125  162.422  "
      ]
     },
     "execution_count": 5,
     "metadata": {},
     "output_type": "execute_result"
    }
   ],
   "source": [
    "df = data[['AVG_DOWNHOLE_PRESSURE','AVG_CHOKE_SIZE_P','AVG_WHP_P','DP_CHOKE_SIZE','GOR','DEL_P']]\n",
    "#feature_names = data.columns\n",
    "#Question - Can we make IID assumption?\n",
    "feature_names = df.columns\n",
    "df.head()"
   ]
  },
  {
   "cell_type": "code",
   "execution_count": 16,
   "metadata": {},
   "outputs": [
    {
     "data": {
      "text/plain": [
       "Index(['AVG_DOWNHOLE_PRESSURE', 'AVG_CHOKE_SIZE_P', 'AVG_WHP_P',\n",
       "       'DP_CHOKE_SIZE', 'GOR', 'DEL_P'],\n",
       "      dtype='object')"
      ]
     },
     "execution_count": 16,
     "metadata": {},
     "output_type": "execute_result"
    }
   ],
   "source": [
    "feature_names"
   ]
  },
  {
   "cell_type": "code",
   "execution_count": 6,
   "metadata": {},
   "outputs": [],
   "source": [
    "X = df\n",
    "y = data['BORE_OIL_VOL'].values.reshape(-1,1)"
   ]
  },
  {
   "cell_type": "code",
   "execution_count": 7,
   "metadata": {},
   "outputs": [],
   "source": [
    "from sklearn.model_selection import train_test_split\n",
    "\n",
    "\n",
    "X_train, X_test, y_train, y_test = train_test_split(X, y, random_state=1)"
   ]
  },
  {
   "cell_type": "code",
   "execution_count": 8,
   "metadata": {},
   "outputs": [
    {
     "data": {
      "text/plain": [
       "(303, 6)"
      ]
     },
     "execution_count": 8,
     "metadata": {},
     "output_type": "execute_result"
    }
   ],
   "source": [
    "X_train.shape"
   ]
  },
  {
   "cell_type": "code",
   "execution_count": 9,
   "metadata": {},
   "outputs": [],
   "source": [
    "from sklearn.preprocessing import StandardScaler\n",
    "\n",
    "x_scaler = StandardScaler().fit(X_train)\n",
    "X_train_s = x_scaler.transform(X_train)\n",
    "X_test_s = x_scaler.transform(X_test)"
   ]
  },
  {
   "cell_type": "code",
   "execution_count": 10,
   "metadata": {},
   "outputs": [],
   "source": [
    "from sklearn.preprocessing import StandardScaler\n",
    "\n",
    "y_scaler = StandardScaler().fit( y_train)\n",
    "y_train_s = y_scaler.transform( y_train)\n",
    "y_test_s = y_scaler.transform(y_test)"
   ]
  },
  {
   "cell_type": "code",
   "execution_count": 11,
   "metadata": {},
   "outputs": [
    {
     "name": "stdout",
     "output_type": "stream",
     "text": [
      "R2 Score: 0.8404502654052934\n"
     ]
    }
   ],
   "source": [
    "from sklearn.linear_model import LinearRegression\n",
    "model = LinearRegression()\n",
    "model.fit(X_train_s, y_train_s)\n",
    "score = model.score(X_test_s, y_test_s)\n",
    "print(f\"R2 Score: {score}\")\n"
   ]
  },
  {
   "cell_type": "code",
   "execution_count": null,
   "metadata": {},
   "outputs": [],
   "source": []
  },
  {
   "cell_type": "code",
   "execution_count": 12,
   "metadata": {},
   "outputs": [
    {
     "name": "stdout",
     "output_type": "stream",
     "text": [
      "Mean Squared Error (MSE): 0.18284721962035216\n",
      "R-squared (R2 ): 0.8404502654052934\n"
     ]
    }
   ],
   "source": [
    "from sklearn.metrics import mean_squared_error, r2_score\n",
    "predicted_train = model.predict(X_test_s)\n",
    "# YOUR CODE HERE\n",
    "# Score the prediction with mse and r2\n",
    "mse = mean_squared_error(y_test_s, predicted_train)\n",
    "r2 = r2_score(y_test_s, predicted_train)\n",
    "\n",
    "print(f\"Mean Squared Error (MSE): {mse}\")\n",
    "print(f\"R-squared (R2 ): {r2}\")"
   ]
  },
  {
   "cell_type": "code",
   "execution_count": 13,
   "metadata": {},
   "outputs": [
    {
     "data": {
      "text/plain": [
       "0.8404502654052934"
      ]
     },
     "execution_count": 13,
     "metadata": {},
     "output_type": "execute_result"
    }
   ],
   "source": [
    "# Call the `score` method on the model to show the r2 score\n",
    "\n",
    "# YOUR CODE HERE\n",
    "model.score(X_test_s, y_test_s)"
   ]
  },
  {
   "cell_type": "code",
   "execution_count": 14,
   "metadata": {},
   "outputs": [
    {
     "data": {
      "text/plain": [
       "array([[-0.21227707,  0.39937129,  0.13339367,  0.6902113 , -0.14304404,\n",
       "        -0.25701307]])"
      ]
     },
     "execution_count": 14,
     "metadata": {},
     "output_type": "execute_result"
    }
   ],
   "source": [
    "importances = model.coef_\n",
    "importances"
   ]
  },
  {
   "cell_type": "code",
   "execution_count": 20,
   "metadata": {},
   "outputs": [
    {
     "data": {
      "text/plain": [
       "[(array([ 7.69731073e+12,  1.67425538e+01, -7.69731073e+12,  1.01766982e+01,\n",
       "         -2.92635719e+00, -7.69731073e+12]),\n",
       "  'AVG_DOWNHOLE_PRESSURE')]"
      ]
     },
     "execution_count": 20,
     "metadata": {},
     "output_type": "execute_result"
    }
   ],
   "source": [
    "sorted(zip(model.coef_,feature_names), reverse=True)"
   ]
  },
  {
   "cell_type": "code",
   "execution_count": 18,
   "metadata": {},
   "outputs": [
    {
     "name": "stderr",
     "output_type": "stream",
     "text": [
      "C:\\Users\\RAKHI\\Anaconda3\\envs\\mlproject\\lib\\site-packages\\ipykernel_launcher.py:3: DataConversionWarning: A column-vector y was passed when a 1d array was expected. Please change the shape of y to (n_samples,), for example using ravel().\n",
      "  This is separate from the ipykernel package so we can avoid doing imports until\n"
     ]
    },
    {
     "name": "stdout",
     "output_type": "stream",
     "text": [
      "R2 Score: 0.8419008050034743\n"
     ]
    }
   ],
   "source": [
    "from sklearn.ensemble import RandomForestClassifier\n",
    "rf = RandomForestClassifier (n_estimators=200)\n",
    "rf = rf.fit(X_train_s,y_train)\n",
    "model.fit(X, y)\n",
    "score = model.score(X, y)\n",
    "print(f\"R2 Score: {score}\")"
   ]
  },
  {
   "cell_type": "code",
   "execution_count": 19,
   "metadata": {},
   "outputs": [
    {
     "data": {
      "text/plain": [
       "[(0.17229014826817596, 'GOR'),\n",
       " (0.17020923715403175, 'AVG_CHOKE_SIZE_P'),\n",
       " (0.16756933209748823, 'DEL_P'),\n",
       " (0.16637079446506708, 'AVG_DOWNHOLE_PRESSURE'),\n",
       " (0.1626452756734866, 'DP_CHOKE_SIZE'),\n",
       " (0.16091521234175044, 'AVG_WHP_P')]"
      ]
     },
     "execution_count": 19,
     "metadata": {},
     "output_type": "execute_result"
    }
   ],
   "source": [
    "importances = rf.feature_importances_\n",
    "sorted(zip(rf.feature_importances_, feature_names), reverse=True)"
   ]
  }
 ],
 "metadata": {
  "kernelspec": {
   "display_name": "Python 3",
   "language": "python",
   "name": "python3"
  },
  "language_info": {
   "codemirror_mode": {
    "name": "ipython",
    "version": 3
   },
   "file_extension": ".py",
   "mimetype": "text/x-python",
   "name": "python",
   "nbconvert_exporter": "python",
   "pygments_lexer": "ipython3",
   "version": "3.7.6"
  }
 },
 "nbformat": 4,
 "nbformat_minor": 4
}
