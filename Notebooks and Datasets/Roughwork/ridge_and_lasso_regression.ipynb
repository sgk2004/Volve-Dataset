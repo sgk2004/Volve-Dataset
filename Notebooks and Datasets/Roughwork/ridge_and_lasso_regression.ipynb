{
 "cells": [
  {
   "cell_type": "code",
   "execution_count": 1,
   "metadata": {},
   "outputs": [],
   "source": [
    "from numpy.random import seed\n",
    "seed(42)\n",
    "\n",
    "import matplotlib.pyplot as plt\n",
    "import numpy as np\n",
    "import pandas as pd\n",
    "import datetime as datetime"
   ]
  },
  {
   "cell_type": "code",
   "execution_count": 2,
   "metadata": {},
   "outputs": [
    {
     "name": "stdout",
     "output_type": "stream",
     "text": [
      "<class 'pandas.core.frame.DataFrame'>\n",
      "RangeIndex: 7882 entries, 0 to 7881\n",
      "Data columns (total 14 columns):\n",
      " #   Column                    Non-Null Count  Dtype  \n",
      "---  ------                    --------------  -----  \n",
      " 0   DATEPRD                   7882 non-null   object \n",
      " 1   WELL_BORE_CODE            7882 non-null   object \n",
      " 2   AVG_DOWNHOLE_PRESSURE     7882 non-null   float64\n",
      " 3   AVG_DOWNHOLE_TEMPERATURE  7882 non-null   float64\n",
      " 4   AVG_DP_TUBING             7882 non-null   float64\n",
      " 5   AVG_ANNULUS_PRESS         7882 non-null   float64\n",
      " 6   AVG_CHOKE_SIZE_P          7882 non-null   float64\n",
      " 7   AVG_WHP_P                 7882 non-null   float64\n",
      " 8   AVG_WHT_P                 7882 non-null   float64\n",
      " 9   DP_CHOKE_SIZE             7882 non-null   float64\n",
      " 10  BORE_OIL_VOL              7882 non-null   float64\n",
      " 11  BORE_GAS_VOL              7882 non-null   float64\n",
      " 12  BORE_WAT_VOL              7882 non-null   float64\n",
      " 13  WELL_POS                  7882 non-null   object \n",
      "dtypes: float64(11), object(3)\n",
      "memory usage: 862.2+ KB\n"
     ]
    }
   ],
   "source": [
    "data = pd.read_csv('All_wells_final3.csv')\n",
    "data = data.loc[:, ~data.columns.str.contains('^Unnamed')]\n",
    "data = data.fillna(0)\n",
    "\n",
    "data.info()\n",
    "perf_dict={}"
   ]
  },
  {
   "cell_type": "code",
   "execution_count": 3,
   "metadata": {},
   "outputs": [
    {
     "name": "stdout",
     "output_type": "stream",
     "text": [
      "<class 'pandas.core.frame.DataFrame'>\n",
      "Int64Index: 5943 entries, 0 to 7881\n",
      "Data columns (total 13 columns):\n",
      " #   Column                    Non-Null Count  Dtype  \n",
      "---  ------                    --------------  -----  \n",
      " 0   DATEPRD                   5943 non-null   object \n",
      " 1   WELL_BORE_CODE            5943 non-null   object \n",
      " 2   AVG_DOWNHOLE_PRESSURE     5943 non-null   float64\n",
      " 3   AVG_DOWNHOLE_TEMPERATURE  5943 non-null   float64\n",
      " 4   AVG_DP_TUBING             5943 non-null   float64\n",
      " 5   AVG_CHOKE_SIZE_P          5943 non-null   float64\n",
      " 6   AVG_WHP_P                 5943 non-null   float64\n",
      " 7   AVG_WHT_P                 5943 non-null   float64\n",
      " 8   DP_CHOKE_SIZE             5943 non-null   float64\n",
      " 9   BORE_OIL_VOL              5943 non-null   float64\n",
      " 10  BORE_GAS_VOL              5943 non-null   float64\n",
      " 11  BORE_WAT_VOL              5943 non-null   float64\n",
      " 12  WELL_POS                  5943 non-null   object \n",
      "dtypes: float64(10), object(3)\n",
      "memory usage: 650.0+ KB\n"
     ]
    }
   ],
   "source": [
    "data=data.drop(['AVG_ANNULUS_PRESS'], axis=1)\n",
    "data = data.loc[data['AVG_DOWNHOLE_PRESSURE']!= 0]\n",
    "data.info()\n"
   ]
  },
  {
   "cell_type": "code",
   "execution_count": 4,
   "metadata": {},
   "outputs": [
    {
     "data": {
      "text/html": [
       "<div>\n",
       "<style scoped>\n",
       "    .dataframe tbody tr th:only-of-type {\n",
       "        vertical-align: middle;\n",
       "    }\n",
       "\n",
       "    .dataframe tbody tr th {\n",
       "        vertical-align: top;\n",
       "    }\n",
       "\n",
       "    .dataframe thead th {\n",
       "        text-align: right;\n",
       "    }\n",
       "</style>\n",
       "<table border=\"1\" class=\"dataframe\">\n",
       "  <thead>\n",
       "    <tr style=\"text-align: right;\">\n",
       "      <th></th>\n",
       "      <th>WELL_BORE_CODE</th>\n",
       "      <th>AVG_DOWNHOLE_TEMPERATURE</th>\n",
       "      <th>AVG_CHOKE_SIZE_P</th>\n",
       "      <th>AVG_WHP_P</th>\n",
       "      <th>AVG_WHT_P</th>\n",
       "      <th>DP_CHOKE_SIZE</th>\n",
       "      <th>BORE_OIL_VOL</th>\n",
       "      <th>BORE_GAS_VOL</th>\n",
       "      <th>BORE_WAT_VOL</th>\n",
       "    </tr>\n",
       "  </thead>\n",
       "  <tbody>\n",
       "    <tr>\n",
       "      <th>0</th>\n",
       "      <td>NO 15/9-F-1 C</td>\n",
       "      <td>106.35</td>\n",
       "      <td>43.34</td>\n",
       "      <td>107.36</td>\n",
       "      <td>37.94</td>\n",
       "      <td>78.94</td>\n",
       "      <td>631.47</td>\n",
       "      <td>90439.09</td>\n",
       "      <td>0.0</td>\n",
       "    </tr>\n",
       "    <tr>\n",
       "      <th>1</th>\n",
       "      <td>NO 15/9-F-1 C</td>\n",
       "      <td>107.64</td>\n",
       "      <td>47.17</td>\n",
       "      <td>99.19</td>\n",
       "      <td>60.76</td>\n",
       "      <td>70.63</td>\n",
       "      <td>1166.46</td>\n",
       "      <td>165720.39</td>\n",
       "      <td>0.0</td>\n",
       "    </tr>\n",
       "    <tr>\n",
       "      <th>2</th>\n",
       "      <td>NO 15/9-F-1 C</td>\n",
       "      <td>107.87</td>\n",
       "      <td>47.73</td>\n",
       "      <td>94.60</td>\n",
       "      <td>63.05</td>\n",
       "      <td>66.05</td>\n",
       "      <td>1549.81</td>\n",
       "      <td>221707.31</td>\n",
       "      <td>0.0</td>\n",
       "    </tr>\n",
       "    <tr>\n",
       "      <th>3</th>\n",
       "      <td>NO 15/9-F-1 C</td>\n",
       "      <td>107.97</td>\n",
       "      <td>48.53</td>\n",
       "      <td>89.99</td>\n",
       "      <td>64.55</td>\n",
       "      <td>61.41</td>\n",
       "      <td>1248.70</td>\n",
       "      <td>178063.52</td>\n",
       "      <td>0.0</td>\n",
       "    </tr>\n",
       "    <tr>\n",
       "      <th>4</th>\n",
       "      <td>NO 15/9-F-1 C</td>\n",
       "      <td>108.05</td>\n",
       "      <td>49.84</td>\n",
       "      <td>84.78</td>\n",
       "      <td>65.72</td>\n",
       "      <td>56.15</td>\n",
       "      <td>1345.78</td>\n",
       "      <td>192602.19</td>\n",
       "      <td>0.0</td>\n",
       "    </tr>\n",
       "  </tbody>\n",
       "</table>\n",
       "</div>"
      ],
      "text/plain": [
       "  WELL_BORE_CODE  AVG_DOWNHOLE_TEMPERATURE  AVG_CHOKE_SIZE_P  AVG_WHP_P  \\\n",
       "0  NO 15/9-F-1 C                    106.35             43.34     107.36   \n",
       "1  NO 15/9-F-1 C                    107.64             47.17      99.19   \n",
       "2  NO 15/9-F-1 C                    107.87             47.73      94.60   \n",
       "3  NO 15/9-F-1 C                    107.97             48.53      89.99   \n",
       "4  NO 15/9-F-1 C                    108.05             49.84      84.78   \n",
       "\n",
       "   AVG_WHT_P  DP_CHOKE_SIZE  BORE_OIL_VOL  BORE_GAS_VOL  BORE_WAT_VOL  \n",
       "0      37.94          78.94        631.47      90439.09           0.0  \n",
       "1      60.76          70.63       1166.46     165720.39           0.0  \n",
       "2      63.05          66.05       1549.81     221707.31           0.0  \n",
       "3      64.55          61.41       1248.70     178063.52           0.0  \n",
       "4      65.72          56.15       1345.78     192602.19           0.0  "
      ]
     },
     "execution_count": 4,
     "metadata": {},
     "output_type": "execute_result"
    }
   ],
   "source": [
    "#Creating two dataframes, one with well bore code, df2 and the other without \n",
    "df1 = data.loc[:,'AVG_CHOKE_SIZE_P':'BORE_WAT_VOL']\n",
    "feature_names = df1.columns\n",
    "\n",
    "\n",
    "df2 = data.loc[:,'WELL_BORE_CODE':'BORE_WAT_VOL']\n",
    "df2=df2.drop(['AVG_DOWNHOLE_PRESSURE','AVG_DP_TUBING'],axis=1)\n",
    "feature_names_2 = df2.columns\n",
    "df2.head()"
   ]
  },
  {
   "cell_type": "code",
   "execution_count": 5,
   "metadata": {},
   "outputs": [],
   "source": [
    "X = df1\n",
    "y = data['AVG_DOWNHOLE_PRESSURE'].values.reshape(-1,1)"
   ]
  },
  {
   "cell_type": "code",
   "execution_count": 6,
   "metadata": {},
   "outputs": [
    {
     "name": "stdout",
     "output_type": "stream",
     "text": [
      "(5943, 7)\n",
      "(5943, 1)\n"
     ]
    }
   ],
   "source": [
    "print(X.shape)\n",
    "print(y.shape)"
   ]
  },
  {
   "cell_type": "code",
   "execution_count": 7,
   "metadata": {},
   "outputs": [],
   "source": [
    "from sklearn.model_selection import train_test_split\n",
    "\n",
    "X_train, X_test, y_train, y_test = train_test_split(X, y, random_state=1)"
   ]
  },
  {
   "cell_type": "code",
   "execution_count": 8,
   "metadata": {},
   "outputs": [],
   "source": [
    "#Scaling X and Y data\n",
    "from sklearn.preprocessing import StandardScaler\n",
    "\n",
    "x_scaler = StandardScaler().fit(X_train)\n",
    "X_train_s = x_scaler.transform(X_train)\n",
    "X_test_s = x_scaler.transform(X_test)\n",
    "\n",
    "from sklearn.preprocessing import StandardScaler\n",
    "\n",
    "y_scaler = StandardScaler().fit( y_train)\n",
    "y_train_s = y_scaler.transform( y_train)\n",
    "y_test_s = y_scaler.transform(y_test)"
   ]
  },
  {
   "cell_type": "markdown",
   "metadata": {},
   "source": [
    "LINEAR REGRESSION"
   ]
  },
  {
   "cell_type": "code",
   "execution_count": null,
   "metadata": {},
   "outputs": [],
   "source": [
    "\n",
    "model = LinearRegression()\n",
    "\n",
    "# Plot the Residuals for the Training and Testing data\n",
    "predictions = model.predict(X_train_scaled)\n",
    "predictions1 = model.predict(X_test_scaled)\n",
    "# Plot Residuals\n",
    "plt.scatter(predictions, predictions - y_train_scaled, c= \"orange\",label=\"Training Data\", s=8)\n",
    "plt.scatter(predictions1, predictions1 - y_test_scaled, c= \"blue\",label=\"Testing Data\",s=8)\n",
    "plt.ylim(-2,2)\n",
    "plt.hlines(y=0, xmin=predictions.min(), xmax=predictions.max())\n",
    "plt.legend()\n",
    "plt.show()\n",
    "# Model Scores\n",
    "from sklearn.metrics import mean_squared_error, r2_score\n",
    "# Score the prediction with mse and r2\n",
    "mse_train = mean_squared_error(y_train_scaled, predictions)\n",
    "r2_train = r2_score(y_train_scaled, predictions)\n",
    "mse_test = mean_squared_error(y_test_scaled, predictions1)\n",
    "r2_test = r2_score(y_test_scaled, predictions1)\n",
    "print(f\"Mean Squared Error (MSE) Train Data: {mse_train}\")\n",
    "print(f\"R-squared (R2) Train Data: {r2_train}\")\n",
    "print(\"-----------------------------------\")\n",
    "print(f\"Mean Squared Error (MSE) Test Data: {mse_test}\")\n",
    "print(f\"R-squared (R2) Test Data: {r2_test}\")"
   ]
  },
  {
   "cell_type": "markdown",
   "metadata": {},
   "source": [
    "RIDGE REGRESSION"
   ]
  },
  {
   "cell_type": "code",
   "execution_count": 9,
   "metadata": {},
   "outputs": [
    {
     "name": "stdout",
     "output_type": "stream",
     "text": [
      "R2 Score: 0.582569694077074\n"
     ]
    }
   ],
   "source": [
    "from sklearn.linear_model import Ridge\n",
    "\n",
    "## training the model\n",
    "\n",
    "model = Ridge(alpha=0.05, normalize=True)\n",
    "model.fit(X_train_s,y_train_s)\n",
    "score = model.score(X_test_s, y_test_s)\n",
    "print(f\"R2 Score: {score}\")\n"
   ]
  },
  {
   "cell_type": "code",
   "execution_count": 10,
   "metadata": {},
   "outputs": [
    {
     "name": "stdout",
     "output_type": "stream",
     "text": [
      "Mean Squared Error (MSE): 0.40486835003412575\n",
      "R-squared (R2 ): 0.582569694077074\n"
     ]
    }
   ],
   "source": [
    "from sklearn.metrics import mean_squared_error, r2_score\n",
    "predicted_train = model.predict(X_test_s)\n",
    "# YOUR CODE HERE\n",
    "# Score the prediction with mse and r2\n",
    "mse = mean_squared_error(y_test_s, predicted_train)\n",
    "r2 = r2_score(y_test_s, predicted_train)\n",
    "\n",
    "print(f\"Mean Squared Error (MSE): {mse}\")\n",
    "print(f\"R-squared (R2 ): {r2}\")\n",
    "\n",
    "perf_dict.update(Model_Ridge_MSE = mse)\n",
    "perf_dict.update(Model_Ridge_R2 = r2)\n"
   ]
  },
  {
   "cell_type": "code",
   "execution_count": 11,
   "metadata": {},
   "outputs": [
    {
     "data": {
      "text/plain": [
       "0.582569694077074"
      ]
     },
     "execution_count": 11,
     "metadata": {},
     "output_type": "execute_result"
    }
   ],
   "source": [
    "# Call the `score` method on the model to show the r2 score\n",
    "model.score(X_test_s, y_test_s)"
   ]
  },
  {
   "cell_type": "code",
   "execution_count": 12,
   "metadata": {},
   "outputs": [
    {
     "data": {
      "text/plain": [
       "array([[ 0.31592515,  0.29041887,  0.28694252,  0.50564457, -0.13825398,\n",
       "        -0.21161047,  0.33081839]])"
      ]
     },
     "execution_count": 12,
     "metadata": {},
     "output_type": "execute_result"
    }
   ],
   "source": [
    "importances = model.coef_\n",
    "importances"
   ]
  },
  {
   "cell_type": "code",
   "execution_count": 13,
   "metadata": {},
   "outputs": [
    {
     "data": {
      "text/plain": [
       "[(0.5056445722466394, 'DP_CHOKE_SIZE'),\n",
       " (0.33081838665760155, 'BORE_WAT_VOL'),\n",
       " (0.31592514647711856, 'AVG_CHOKE_SIZE_P'),\n",
       " (0.2904188712982795, 'AVG_WHP_P'),\n",
       " (0.28694251521779157, 'AVG_WHT_P'),\n",
       " (-0.13825397718094895, 'BORE_OIL_VOL'),\n",
       " (-0.21161047086942542, 'BORE_GAS_VOL')]"
      ]
     },
     "execution_count": 13,
     "metadata": {},
     "output_type": "execute_result"
    }
   ],
   "source": [
    "sorted(zip(model.coef_[0],feature_names),reverse=True)"
   ]
  },
  {
   "cell_type": "code",
   "execution_count": 14,
   "metadata": {},
   "outputs": [
    {
     "data": {
      "text/plain": [
       "Text(0.5, 1.0, 'Residual Plot')"
      ]
     },
     "execution_count": 14,
     "metadata": {},
     "output_type": "execute_result"
    },
    {
     "data": {
      "image/png": "[encoded data removed]",
      "text/plain": [
       "<Figure size 432x288 with 1 Axes>"
      ]
     },
     "metadata": {
      "needs_background": "light"
     },
     "output_type": "display_data"
    }
   ],
   "source": [
    "# Plot the Residuals for the Training and Testing data\n",
    "plt.scatter(model.predict(X_train_s), model.predict(X_train_s) - y_train_s, c=\"blue\", label=\"Training Data\")\n",
    "plt.scatter(model.predict(X_test_s), model.predict(X_test_s) - y_test_s, c=\"orange\", label=\"Testing Data\")\n",
    "plt.legend()\n",
    "plt.hlines(y=0, xmin=y.min(), xmax=y.max())\n",
    "plt.title(\"Residual Plot\")"
   ]
  },
  {
   "cell_type": "markdown",
   "metadata": {},
   "source": [
    "RIDGE REGRESSION WITH PD DUMMIES ON WELL BORE CODE"
   ]
  },
  {
   "cell_type": "code",
   "execution_count": 15,
   "metadata": {},
   "outputs": [
    {
     "data": {
      "text/html": [
       "<div>\n",
       "<style scoped>\n",
       "    .dataframe tbody tr th:only-of-type {\n",
       "        vertical-align: middle;\n",
       "    }\n",
       "\n",
       "    .dataframe tbody tr th {\n",
       "        vertical-align: top;\n",
       "    }\n",
       "\n",
       "    .dataframe thead th {\n",
       "        text-align: right;\n",
       "    }\n",
       "</style>\n",
       "<table border=\"1\" class=\"dataframe\">\n",
       "  <thead>\n",
       "    <tr style=\"text-align: right;\">\n",
       "      <th></th>\n",
       "      <th>AVG_DOWNHOLE_TEMPERATURE</th>\n",
       "      <th>AVG_CHOKE_SIZE_P</th>\n",
       "      <th>AVG_WHP_P</th>\n",
       "      <th>AVG_WHT_P</th>\n",
       "      <th>DP_CHOKE_SIZE</th>\n",
       "      <th>BORE_OIL_VOL</th>\n",
       "      <th>BORE_GAS_VOL</th>\n",
       "      <th>BORE_WAT_VOL</th>\n",
       "      <th>WELL_BORE_CODE_NO 15/9-F-1 C</th>\n",
       "      <th>WELL_BORE_CODE_NO 15/9-F-11 H</th>\n",
       "      <th>WELL_BORE_CODE_NO 15/9-F-12 H</th>\n",
       "      <th>WELL_BORE_CODE_NO 15/9-F-14 H</th>\n",
       "      <th>WELL_BORE_CODE_NO 15/9-F-15 D</th>\n",
       "    </tr>\n",
       "  </thead>\n",
       "  <tbody>\n",
       "    <tr>\n",
       "      <th>0</th>\n",
       "      <td>106.35</td>\n",
       "      <td>43.34</td>\n",
       "      <td>107.36</td>\n",
       "      <td>37.94</td>\n",
       "      <td>78.94</td>\n",
       "      <td>631.47</td>\n",
       "      <td>90439.09</td>\n",
       "      <td>0.0</td>\n",
       "      <td>1</td>\n",
       "      <td>0</td>\n",
       "      <td>0</td>\n",
       "      <td>0</td>\n",
       "      <td>0</td>\n",
       "    </tr>\n",
       "    <tr>\n",
       "      <th>1</th>\n",
       "      <td>107.64</td>\n",
       "      <td>47.17</td>\n",
       "      <td>99.19</td>\n",
       "      <td>60.76</td>\n",
       "      <td>70.63</td>\n",
       "      <td>1166.46</td>\n",
       "      <td>165720.39</td>\n",
       "      <td>0.0</td>\n",
       "      <td>1</td>\n",
       "      <td>0</td>\n",
       "      <td>0</td>\n",
       "      <td>0</td>\n",
       "      <td>0</td>\n",
       "    </tr>\n",
       "    <tr>\n",
       "      <th>2</th>\n",
       "      <td>107.87</td>\n",
       "      <td>47.73</td>\n",
       "      <td>94.60</td>\n",
       "      <td>63.05</td>\n",
       "      <td>66.05</td>\n",
       "      <td>1549.81</td>\n",
       "      <td>221707.31</td>\n",
       "      <td>0.0</td>\n",
       "      <td>1</td>\n",
       "      <td>0</td>\n",
       "      <td>0</td>\n",
       "      <td>0</td>\n",
       "      <td>0</td>\n",
       "    </tr>\n",
       "    <tr>\n",
       "      <th>3</th>\n",
       "      <td>107.97</td>\n",
       "      <td>48.53</td>\n",
       "      <td>89.99</td>\n",
       "      <td>64.55</td>\n",
       "      <td>61.41</td>\n",
       "      <td>1248.70</td>\n",
       "      <td>178063.52</td>\n",
       "      <td>0.0</td>\n",
       "      <td>1</td>\n",
       "      <td>0</td>\n",
       "      <td>0</td>\n",
       "      <td>0</td>\n",
       "      <td>0</td>\n",
       "    </tr>\n",
       "    <tr>\n",
       "      <th>4</th>\n",
       "      <td>108.05</td>\n",
       "      <td>49.84</td>\n",
       "      <td>84.78</td>\n",
       "      <td>65.72</td>\n",
       "      <td>56.15</td>\n",
       "      <td>1345.78</td>\n",
       "      <td>192602.19</td>\n",
       "      <td>0.0</td>\n",
       "      <td>1</td>\n",
       "      <td>0</td>\n",
       "      <td>0</td>\n",
       "      <td>0</td>\n",
       "      <td>0</td>\n",
       "    </tr>\n",
       "  </tbody>\n",
       "</table>\n",
       "</div>"
      ],
      "text/plain": [
       "   AVG_DOWNHOLE_TEMPERATURE  AVG_CHOKE_SIZE_P  AVG_WHP_P  AVG_WHT_P  \\\n",
       "0                    106.35             43.34     107.36      37.94   \n",
       "1                    107.64             47.17      99.19      60.76   \n",
       "2                    107.87             47.73      94.60      63.05   \n",
       "3                    107.97             48.53      89.99      64.55   \n",
       "4                    108.05             49.84      84.78      65.72   \n",
       "\n",
       "   DP_CHOKE_SIZE  BORE_OIL_VOL  BORE_GAS_VOL  BORE_WAT_VOL  \\\n",
       "0          78.94        631.47      90439.09           0.0   \n",
       "1          70.63       1166.46     165720.39           0.0   \n",
       "2          66.05       1549.81     221707.31           0.0   \n",
       "3          61.41       1248.70     178063.52           0.0   \n",
       "4          56.15       1345.78     192602.19           0.0   \n",
       "\n",
       "   WELL_BORE_CODE_NO 15/9-F-1 C  WELL_BORE_CODE_NO 15/9-F-11 H  \\\n",
       "0                             1                              0   \n",
       "1                             1                              0   \n",
       "2                             1                              0   \n",
       "3                             1                              0   \n",
       "4                             1                              0   \n",
       "\n",
       "   WELL_BORE_CODE_NO 15/9-F-12 H  WELL_BORE_CODE_NO 15/9-F-14 H  \\\n",
       "0                              0                              0   \n",
       "1                              0                              0   \n",
       "2                              0                              0   \n",
       "3                              0                              0   \n",
       "4                              0                              0   \n",
       "\n",
       "   WELL_BORE_CODE_NO 15/9-F-15 D  \n",
       "0                              0  \n",
       "1                              0  \n",
       "2                              0  \n",
       "3                              0  \n",
       "4                              0  "
      ]
     },
     "execution_count": 15,
     "metadata": {},
     "output_type": "execute_result"
    }
   ],
   "source": [
    "X = pd.get_dummies(df2)\n",
    "y = data['AVG_DOWNHOLE_PRESSURE'].values.reshape(-1,1)\n",
    "X.head()"
   ]
  },
  {
   "cell_type": "code",
   "execution_count": 17,
   "metadata": {},
   "outputs": [
    {
     "name": "stdout",
     "output_type": "stream",
     "text": [
      "Model:RIDGE REGRESSION WITH PD DUMMIES ON WELL BORE CODE\n",
      "R2 Score: 0.7139069485888287\n",
      "Mean Squared Error (MSE): 0.27748349853270116\n",
      "R-squared (R2 ): 0.7139069485888287\n"
     ]
    },
    {
     "data": {
      "image/png": "[encoded data removed]",
      "text/plain": [
       "<Figure size 432x288 with 1 Axes>"
      ]
     },
     "metadata": {
      "needs_background": "light"
     },
     "output_type": "display_data"
    }
   ],
   "source": [
    "#Create Test Train Split\n",
    "from sklearn.model_selection import train_test_split\n",
    "X_train, X_test, y_train, y_test = train_test_split(X, y, random_state=1)\n",
    "\n",
    "#Scaling the data\n",
    "from sklearn.preprocessing import StandardScaler\n",
    "x_scaler = StandardScaler().fit(X_train)\n",
    "X_train_s = x_scaler.transform(X_train)\n",
    "X_test_s = x_scaler.transform(X_test)\n",
    "\n",
    "from sklearn.preprocessing import StandardScaler\n",
    "y_scaler = StandardScaler().fit( y_train)\n",
    "y_train_s = y_scaler.transform( y_train)\n",
    "y_test_s = y_scaler.transform(y_test)\n",
    "\n",
    "## training the model\n",
    "from sklearn.linear_model import Ridge\n",
    "model = Ridge(alpha=0.05, normalize=True)\n",
    "model.fit(X_train_s,y_train_s)\n",
    "score = model.score(X_test_s, y_test_s)\n",
    "print(\"Model:RIDGE REGRESSION WITH PD DUMMIES ON WELL BORE CODE\")\n",
    "print(f\"R2 Score: {score}\")\n",
    "\n",
    "from sklearn.metrics import mean_squared_error, r2_score\n",
    "predicted_train = model.predict(X_test_s)\n",
    "# Score the prediction with mse and r2\n",
    "mse = mean_squared_error(y_test_s, predicted_train)\n",
    "r2 = r2_score(y_test_s, predicted_train)\n",
    "print(f\"Mean Squared Error (MSE): {mse}\")\n",
    "print(f\"R-squared (R2 ): {r2}\")\n",
    "\n",
    "\n",
    "# Plot the Residuals for the Training and Testing data\n",
    "plt.scatter(model.predict(X_train_s), model.predict(X_train_s) - y_train_s, c=\"blue\", label=\"Training Data\")\n",
    "plt.scatter(model.predict(X_test_s), model.predict(X_test_s) - y_test_s, c=\"orange\", label=\"Testing Data\")\n",
    "plt.legend()\n",
    "plt.hlines(y=0, xmin=y.min(), xmax=y.max())\n",
    "plt.title(\"Residual Plot\")\n",
    "\n",
    "perf_dict.update(Model_Ridge_MSE_WB = mse)\n",
    "perf_dict.update(Model_Ridge_R2_WB = r2)\n"
   ]
  },
  {
   "cell_type": "code",
   "execution_count": 18,
   "metadata": {},
   "outputs": [
    {
     "data": {
      "text/plain": [
       "[(0.45877862549050363, 'AVG_WHT_P'),\n",
       " (0.2904179812290188, 'BORE_GAS_VOL'),\n",
       " (0.21179431759031925, 'AVG_DOWNHOLE_TEMPERATURE'),\n",
       " (0.19303779947809147, 'WELL_BORE_CODE'),\n",
       " (0.16568941008198285, 'AVG_CHOKE_SIZE_P'),\n",
       " (0.16258373817865568, 'AVG_WHP_P'),\n",
       " (-0.13576763504900805, 'BORE_WAT_VOL'),\n",
       " (-0.2874653730986602, 'DP_CHOKE_SIZE'),\n",
       " (-0.3321945234814142, 'BORE_OIL_VOL')]"
      ]
     },
     "execution_count": 18,
     "metadata": {},
     "output_type": "execute_result"
    }
   ],
   "source": [
    "#Calculae the feature importances\n",
    "importances = model.coef_\n",
    "sorted(zip(model.coef_[0],feature_names_2),reverse=True)"
   ]
  },
  {
   "cell_type": "markdown",
   "metadata": {},
   "source": [
    "LASSO REGRESSION"
   ]
  },
  {
   "cell_type": "code",
   "execution_count": 19,
   "metadata": {},
   "outputs": [
    {
     "data": {
      "text/html": [
       "<div>\n",
       "<style scoped>\n",
       "    .dataframe tbody tr th:only-of-type {\n",
       "        vertical-align: middle;\n",
       "    }\n",
       "\n",
       "    .dataframe tbody tr th {\n",
       "        vertical-align: top;\n",
       "    }\n",
       "\n",
       "    .dataframe thead th {\n",
       "        text-align: right;\n",
       "    }\n",
       "</style>\n",
       "<table border=\"1\" class=\"dataframe\">\n",
       "  <thead>\n",
       "    <tr style=\"text-align: right;\">\n",
       "      <th></th>\n",
       "      <th>AVG_CHOKE_SIZE_P</th>\n",
       "      <th>AVG_WHP_P</th>\n",
       "      <th>AVG_WHT_P</th>\n",
       "      <th>DP_CHOKE_SIZE</th>\n",
       "      <th>BORE_OIL_VOL</th>\n",
       "      <th>BORE_GAS_VOL</th>\n",
       "      <th>BORE_WAT_VOL</th>\n",
       "    </tr>\n",
       "  </thead>\n",
       "  <tbody>\n",
       "    <tr>\n",
       "      <th>0</th>\n",
       "      <td>43.34</td>\n",
       "      <td>107.36</td>\n",
       "      <td>37.94</td>\n",
       "      <td>78.94</td>\n",
       "      <td>631.47</td>\n",
       "      <td>90439.09</td>\n",
       "      <td>0.0</td>\n",
       "    </tr>\n",
       "    <tr>\n",
       "      <th>1</th>\n",
       "      <td>47.17</td>\n",
       "      <td>99.19</td>\n",
       "      <td>60.76</td>\n",
       "      <td>70.63</td>\n",
       "      <td>1166.46</td>\n",
       "      <td>165720.39</td>\n",
       "      <td>0.0</td>\n",
       "    </tr>\n",
       "    <tr>\n",
       "      <th>2</th>\n",
       "      <td>47.73</td>\n",
       "      <td>94.60</td>\n",
       "      <td>63.05</td>\n",
       "      <td>66.05</td>\n",
       "      <td>1549.81</td>\n",
       "      <td>221707.31</td>\n",
       "      <td>0.0</td>\n",
       "    </tr>\n",
       "    <tr>\n",
       "      <th>3</th>\n",
       "      <td>48.53</td>\n",
       "      <td>89.99</td>\n",
       "      <td>64.55</td>\n",
       "      <td>61.41</td>\n",
       "      <td>1248.70</td>\n",
       "      <td>178063.52</td>\n",
       "      <td>0.0</td>\n",
       "    </tr>\n",
       "    <tr>\n",
       "      <th>4</th>\n",
       "      <td>49.84</td>\n",
       "      <td>84.78</td>\n",
       "      <td>65.72</td>\n",
       "      <td>56.15</td>\n",
       "      <td>1345.78</td>\n",
       "      <td>192602.19</td>\n",
       "      <td>0.0</td>\n",
       "    </tr>\n",
       "  </tbody>\n",
       "</table>\n",
       "</div>"
      ],
      "text/plain": [
       "   AVG_CHOKE_SIZE_P  AVG_WHP_P  AVG_WHT_P  DP_CHOKE_SIZE  BORE_OIL_VOL  \\\n",
       "0             43.34     107.36      37.94          78.94        631.47   \n",
       "1             47.17      99.19      60.76          70.63       1166.46   \n",
       "2             47.73      94.60      63.05          66.05       1549.81   \n",
       "3             48.53      89.99      64.55          61.41       1248.70   \n",
       "4             49.84      84.78      65.72          56.15       1345.78   \n",
       "\n",
       "   BORE_GAS_VOL  BORE_WAT_VOL  \n",
       "0      90439.09           0.0  \n",
       "1     165720.39           0.0  \n",
       "2     221707.31           0.0  \n",
       "3     178063.52           0.0  \n",
       "4     192602.19           0.0  "
      ]
     },
     "execution_count": 19,
     "metadata": {},
     "output_type": "execute_result"
    }
   ],
   "source": [
    "X = df1\n",
    "y = data['AVG_DOWNHOLE_PRESSURE'].values.reshape(-1,1)\n",
    "X.head()"
   ]
  },
  {
   "cell_type": "code",
   "execution_count": 20,
   "metadata": {},
   "outputs": [
    {
     "name": "stdout",
     "output_type": "stream",
     "text": [
      "Model:LASSO REGRESSION\n",
      "R2 Score: 0.61462405158044\n",
      "Mean Squared Error (MSE): 0.3790272945580398\n",
      "R-squared (R2 ): 0.61462405158044\n"
     ]
    },
    {
     "data": {
      "image/png": "[encoded data removed]",
      "text/plain": [
       "<Figure size 432x288 with 1 Axes>"
      ]
     },
     "metadata": {
      "needs_background": "light"
     },
     "output_type": "display_data"
    }
   ],
   "source": [
    "#Create Test Train Split\n",
    "from sklearn.model_selection import train_test_split\n",
    "X_train, X_test, y_train, y_test = train_test_split(X, y, random_state=42)\n",
    "\n",
    "#Scaling the data\n",
    "from sklearn.preprocessing import StandardScaler\n",
    "x_scaler = StandardScaler().fit(X_train)\n",
    "X_train_s = x_scaler.transform(X_train)\n",
    "X_test_s = x_scaler.transform(X_test)\n",
    "\n",
    "from sklearn.preprocessing import StandardScaler\n",
    "y_scaler = StandardScaler().fit( y_train)\n",
    "y_train_s = y_scaler.transform( y_train)\n",
    "y_test_s = y_scaler.transform(y_test)\n",
    "\n",
    "## training the model\n",
    "from sklearn.linear_model import Lasso\n",
    "model = Lasso(alpha=0.01, normalize=False)\n",
    "model.fit(X_train_s,y_train_s)\n",
    "score = model.score(X_test_s, y_test_s)\n",
    "print(\"Model:LASSO REGRESSION\")\n",
    "print(f\"R2 Score: {score}\")\n",
    "\n",
    "# Score the prediction with mse and r2\n",
    "from sklearn.metrics import mean_squared_error, r2_score\n",
    "predicted_train = model.predict(X_test_s)\n",
    "mse = mean_squared_error(y_test_s, predicted_train)\n",
    "r2 = r2_score(y_test_s, predicted_train)\n",
    "print(f\"Mean Squared Error (MSE): {mse}\")\n",
    "print(f\"R-squared (R2 ): {r2}\")\n",
    "\n",
    "\n",
    "# Plot the Residuals for the Training and Testing data\n",
    "plt.scatter(model.predict(X_train_s).reshape(-1,1), model.predict(X_train_s).reshape(-1,1) - y_train_s, c=\"blue\", label=\"Training Data\")\n",
    "plt.scatter(model.predict(X_test_s).reshape(-1,1), model.predict(X_test_s).reshape(-1,1) - y_test_s, c=\"orange\", label=\"Testing Data\")\n",
    "plt.legend()\n",
    "plt.hlines(y=0, xmin=y.min(), xmax=y.max())\n",
    "plt.title(\"Residual Plot\")\n",
    "\n",
    "perf_dict.update(Model_LASSO_MSE = mse)\n",
    "perf_dict.update(Model_LASSO_R2 = r2)"
   ]
  },
  {
   "cell_type": "code",
   "execution_count": 21,
   "metadata": {},
   "outputs": [
    {
     "data": {
      "text/plain": [
       "[(0.8238668668796366, 'DP_CHOKE_SIZE'),\n",
       " (0.3910944458584104, 'BORE_WAT_VOL'),\n",
       " (0.31003242296629946, 'AVG_CHOKE_SIZE_P'),\n",
       " (0.26929343082438184, 'AVG_WHT_P'),\n",
       " (-0.0, 'BORE_OIL_VOL'),\n",
       " (0.0, 'AVG_WHP_P'),\n",
       " (-0.3256280660157849, 'BORE_GAS_VOL')]"
      ]
     },
     "execution_count": 21,
     "metadata": {},
     "output_type": "execute_result"
    }
   ],
   "source": [
    "#Calculae the feature importances\n",
    "importances = model.coef_\n",
    "sorted(zip(model.coef_,feature_names),reverse=True)\n"
   ]
  },
  {
   "cell_type": "markdown",
   "metadata": {},
   "source": [
    "LASSO REGRESSION WITH PD DUMMIES ON WELL BORE CODE"
   ]
  },
  {
   "cell_type": "code",
   "execution_count": 22,
   "metadata": {},
   "outputs": [
    {
     "data": {
      "text/html": [
       "<div>\n",
       "<style scoped>\n",
       "    .dataframe tbody tr th:only-of-type {\n",
       "        vertical-align: middle;\n",
       "    }\n",
       "\n",
       "    .dataframe tbody tr th {\n",
       "        vertical-align: top;\n",
       "    }\n",
       "\n",
       "    .dataframe thead th {\n",
       "        text-align: right;\n",
       "    }\n",
       "</style>\n",
       "<table border=\"1\" class=\"dataframe\">\n",
       "  <thead>\n",
       "    <tr style=\"text-align: right;\">\n",
       "      <th></th>\n",
       "      <th>AVG_DOWNHOLE_TEMPERATURE</th>\n",
       "      <th>AVG_CHOKE_SIZE_P</th>\n",
       "      <th>AVG_WHP_P</th>\n",
       "      <th>AVG_WHT_P</th>\n",
       "      <th>DP_CHOKE_SIZE</th>\n",
       "      <th>BORE_OIL_VOL</th>\n",
       "      <th>BORE_GAS_VOL</th>\n",
       "      <th>BORE_WAT_VOL</th>\n",
       "      <th>WELL_BORE_CODE_NO 15/9-F-1 C</th>\n",
       "      <th>WELL_BORE_CODE_NO 15/9-F-11 H</th>\n",
       "      <th>WELL_BORE_CODE_NO 15/9-F-12 H</th>\n",
       "      <th>WELL_BORE_CODE_NO 15/9-F-14 H</th>\n",
       "      <th>WELL_BORE_CODE_NO 15/9-F-15 D</th>\n",
       "    </tr>\n",
       "  </thead>\n",
       "  <tbody>\n",
       "    <tr>\n",
       "      <th>0</th>\n",
       "      <td>106.35</td>\n",
       "      <td>43.34</td>\n",
       "      <td>107.36</td>\n",
       "      <td>37.94</td>\n",
       "      <td>78.94</td>\n",
       "      <td>631.47</td>\n",
       "      <td>90439.09</td>\n",
       "      <td>0.0</td>\n",
       "      <td>1</td>\n",
       "      <td>0</td>\n",
       "      <td>0</td>\n",
       "      <td>0</td>\n",
       "      <td>0</td>\n",
       "    </tr>\n",
       "    <tr>\n",
       "      <th>1</th>\n",
       "      <td>107.64</td>\n",
       "      <td>47.17</td>\n",
       "      <td>99.19</td>\n",
       "      <td>60.76</td>\n",
       "      <td>70.63</td>\n",
       "      <td>1166.46</td>\n",
       "      <td>165720.39</td>\n",
       "      <td>0.0</td>\n",
       "      <td>1</td>\n",
       "      <td>0</td>\n",
       "      <td>0</td>\n",
       "      <td>0</td>\n",
       "      <td>0</td>\n",
       "    </tr>\n",
       "    <tr>\n",
       "      <th>2</th>\n",
       "      <td>107.87</td>\n",
       "      <td>47.73</td>\n",
       "      <td>94.60</td>\n",
       "      <td>63.05</td>\n",
       "      <td>66.05</td>\n",
       "      <td>1549.81</td>\n",
       "      <td>221707.31</td>\n",
       "      <td>0.0</td>\n",
       "      <td>1</td>\n",
       "      <td>0</td>\n",
       "      <td>0</td>\n",
       "      <td>0</td>\n",
       "      <td>0</td>\n",
       "    </tr>\n",
       "    <tr>\n",
       "      <th>3</th>\n",
       "      <td>107.97</td>\n",
       "      <td>48.53</td>\n",
       "      <td>89.99</td>\n",
       "      <td>64.55</td>\n",
       "      <td>61.41</td>\n",
       "      <td>1248.70</td>\n",
       "      <td>178063.52</td>\n",
       "      <td>0.0</td>\n",
       "      <td>1</td>\n",
       "      <td>0</td>\n",
       "      <td>0</td>\n",
       "      <td>0</td>\n",
       "      <td>0</td>\n",
       "    </tr>\n",
       "    <tr>\n",
       "      <th>4</th>\n",
       "      <td>108.05</td>\n",
       "      <td>49.84</td>\n",
       "      <td>84.78</td>\n",
       "      <td>65.72</td>\n",
       "      <td>56.15</td>\n",
       "      <td>1345.78</td>\n",
       "      <td>192602.19</td>\n",
       "      <td>0.0</td>\n",
       "      <td>1</td>\n",
       "      <td>0</td>\n",
       "      <td>0</td>\n",
       "      <td>0</td>\n",
       "      <td>0</td>\n",
       "    </tr>\n",
       "  </tbody>\n",
       "</table>\n",
       "</div>"
      ],
      "text/plain": [
       "   AVG_DOWNHOLE_TEMPERATURE  AVG_CHOKE_SIZE_P  AVG_WHP_P  AVG_WHT_P  \\\n",
       "0                    106.35             43.34     107.36      37.94   \n",
       "1                    107.64             47.17      99.19      60.76   \n",
       "2                    107.87             47.73      94.60      63.05   \n",
       "3                    107.97             48.53      89.99      64.55   \n",
       "4                    108.05             49.84      84.78      65.72   \n",
       "\n",
       "   DP_CHOKE_SIZE  BORE_OIL_VOL  BORE_GAS_VOL  BORE_WAT_VOL  \\\n",
       "0          78.94        631.47      90439.09           0.0   \n",
       "1          70.63       1166.46     165720.39           0.0   \n",
       "2          66.05       1549.81     221707.31           0.0   \n",
       "3          61.41       1248.70     178063.52           0.0   \n",
       "4          56.15       1345.78     192602.19           0.0   \n",
       "\n",
       "   WELL_BORE_CODE_NO 15/9-F-1 C  WELL_BORE_CODE_NO 15/9-F-11 H  \\\n",
       "0                             1                              0   \n",
       "1                             1                              0   \n",
       "2                             1                              0   \n",
       "3                             1                              0   \n",
       "4                             1                              0   \n",
       "\n",
       "   WELL_BORE_CODE_NO 15/9-F-12 H  WELL_BORE_CODE_NO 15/9-F-14 H  \\\n",
       "0                              0                              0   \n",
       "1                              0                              0   \n",
       "2                              0                              0   \n",
       "3                              0                              0   \n",
       "4                              0                              0   \n",
       "\n",
       "   WELL_BORE_CODE_NO 15/9-F-15 D  \n",
       "0                              0  \n",
       "1                              0  \n",
       "2                              0  \n",
       "3                              0  \n",
       "4                              0  "
      ]
     },
     "execution_count": 22,
     "metadata": {},
     "output_type": "execute_result"
    }
   ],
   "source": [
    "X = pd.get_dummies(df2)\n",
    "y = data['AVG_DOWNHOLE_PRESSURE'].values.reshape(-1,1)\n",
    "X.head()"
   ]
  },
  {
   "cell_type": "code",
   "execution_count": 23,
   "metadata": {},
   "outputs": [
    {
     "name": "stdout",
     "output_type": "stream",
     "text": [
      "Model:LASSO REGRESSION\n",
      "R2 Score: 0.7303106489200919\n",
      "Mean Squared Error (MSE): 0.2652465093634855\n",
      "R-squared (R2 ): 0.7303106489200919\n"
     ]
    },
    {
     "data": {
      "image/png": "[encoded data removed]",
      "text/plain": [
       "<Figure size 432x288 with 1 Axes>"
      ]
     },
     "metadata": {
      "needs_background": "light"
     },
     "output_type": "display_data"
    }
   ],
   "source": [
    "#Create Test Train Split\n",
    "from sklearn.model_selection import train_test_split\n",
    "X_train, X_test, y_train, y_test = train_test_split(X, y, random_state=42)\n",
    "\n",
    "#Scaling the data\n",
    "from sklearn.preprocessing import StandardScaler\n",
    "x_scaler = StandardScaler().fit(X_train)\n",
    "X_train_s = x_scaler.transform(X_train)\n",
    "X_test_s = x_scaler.transform(X_test)\n",
    "\n",
    "from sklearn.preprocessing import StandardScaler\n",
    "y_scaler = StandardScaler().fit( y_train)\n",
    "y_train_s = y_scaler.transform( y_train)\n",
    "y_test_s = y_scaler.transform(y_test)\n",
    "\n",
    "## training the model\n",
    "from sklearn.linear_model import Lasso\n",
    "model = Lasso(alpha=0.01, normalize=False)\n",
    "model.fit(X_train_s,y_train_s)\n",
    "score = model.score(X_test_s, y_test_s)\n",
    "print(\"Model:LASSO REGRESSION\")\n",
    "print(f\"R2 Score: {score}\")\n",
    "\n",
    "# Score the prediction with mse and r2\n",
    "from sklearn.metrics import mean_squared_error, r2_score\n",
    "predicted_train = model.predict(X_test_s)\n",
    "mse = mean_squared_error(y_test_s, predicted_train)\n",
    "r2 = r2_score(y_test_s, predicted_train)\n",
    "print(f\"Mean Squared Error (MSE): {mse}\")\n",
    "print(f\"R-squared (R2 ): {r2}\")\n",
    "\n",
    "\n",
    "# Plot the Residuals for the Training and Testing data\n",
    "plt.scatter(model.predict(X_train_s).reshape(-1,1), model.predict(X_train_s).reshape(-1,1) - y_train_s, c=\"blue\", label=\"Training Data\")\n",
    "plt.scatter(model.predict(X_test_s).reshape(-1,1), model.predict(X_test_s).reshape(-1,1) - y_test_s, c=\"orange\", label=\"Testing Data\")\n",
    "plt.legend()\n",
    "plt.hlines(y=0, xmin=y.min(), xmax=y.max())\n",
    "plt.title(\"Residual Plot\")\n",
    "\n",
    "perf_dict.update(Model_LASSO_MSE_WB = mse)\n",
    "perf_dict.update(Model_LASSO_R2_WB = r2)"
   ]
  },
  {
   "cell_type": "code",
   "execution_count": 24,
   "metadata": {},
   "outputs": [
    {
     "data": {
      "text/plain": [
       "[(0.665547214122256, 'AVG_WHT_P'),\n",
       " (0.3518396926918993, 'BORE_GAS_VOL'),\n",
       " (0.20375981369071153, 'WELL_BORE_CODE'),\n",
       " (0.20213663759714798, 'AVG_DOWNHOLE_TEMPERATURE'),\n",
       " (0.17732060191644164, 'AVG_WHP_P'),\n",
       " (-0.0, 'DP_CHOKE_SIZE'),\n",
       " (0.0, 'AVG_CHOKE_SIZE_P'),\n",
       " (-0.042795281593972806, 'BORE_WAT_VOL'),\n",
       " (-0.629986557256546, 'BORE_OIL_VOL')]"
      ]
     },
     "execution_count": 24,
     "metadata": {},
     "output_type": "execute_result"
    }
   ],
   "source": [
    "#Calculae the feature importances\n",
    "importances = model.coef_\n",
    "sorted(zip(model.coef_,feature_names_2),reverse=True)\n"
   ]
  },
  {
   "cell_type": "code",
   "execution_count": 25,
   "metadata": {},
   "outputs": [
    {
     "data": {
      "text/plain": [
       "{'Model_Ridge_MSE': 0.40486835003412575,\n",
       " 'Model_Ridge_R2': 0.582569694077074,\n",
       " 'Model_Ridge_MSE_WB': 0.27748349853270116,\n",
       " 'Model_Ridge_R2_WB': 0.7139069485888287,\n",
       " 'Model_LASSO_MSE': 0.3790272945580398,\n",
       " 'Model_LASSO_R2': 0.61462405158044,\n",
       " 'Model_LASSO_MSE_WB': 0.2652465093634855,\n",
       " 'Model_LASSO_R2_WB': 0.7303106489200919}"
      ]
     },
     "execution_count": 25,
     "metadata": {},
     "output_type": "execute_result"
    }
   ],
   "source": [
    "#Dictionary with scores\n",
    "\n",
    "perf_dict"
   ]
  }
 ],
 "metadata": {
  "kernelspec": {
   "display_name": "Python [conda env:mlproject] *",
   "language": "python",
   "name": "conda-env-mlproject-py"
  },
  "language_info": {
   "codemirror_mode": {
    "name": "ipython",
    "version": 3
   },
   "file_extension": ".py",
   "mimetype": "text/x-python",
   "name": "python",
   "nbconvert_exporter": "python",
   "pygments_lexer": "ipython3",
   "version": "3.7.6"
  }
 },
 "nbformat": 4,
 "nbformat_minor": 4
}
