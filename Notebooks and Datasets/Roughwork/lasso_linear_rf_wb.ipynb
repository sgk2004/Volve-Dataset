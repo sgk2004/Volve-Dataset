{
 "cells": [
  {
   "cell_type": "code",
   "execution_count": 1,
   "metadata": {},
   "outputs": [],
   "source": [
    "import matplotlib.pyplot as plt\n",
    "import numpy as np\n",
    "import pandas as pd\n",
    "import datetime as datetime\n",
    "\n",
    "from matplotlib import style\n",
    "style.use(\"ggplot\")\n",
    "from scipy.stats import chi2_contingency"
   ]
  },
  {
   "cell_type": "code",
   "execution_count": 2,
   "metadata": {},
   "outputs": [
    {
     "name": "stdout",
     "output_type": "stream",
     "text": [
      "<class 'pandas.core.frame.DataFrame'>\n",
      "RangeIndex: 7882 entries, 0 to 7881\n",
      "Data columns (total 14 columns):\n",
      " #   Column                    Non-Null Count  Dtype  \n",
      "---  ------                    --------------  -----  \n",
      " 0   DATEPRD                   7882 non-null   object \n",
      " 1   WELL_BORE_CODE            7882 non-null   object \n",
      " 2   AVG_DOWNHOLE_PRESSURE     7882 non-null   float64\n",
      " 3   AVG_DOWNHOLE_TEMPERATURE  7882 non-null   float64\n",
      " 4   AVG_DP_TUBING             7882 non-null   float64\n",
      " 5   AVG_ANNULUS_PRESS         7882 non-null   float64\n",
      " 6   AVG_CHOKE_SIZE_P          7882 non-null   float64\n",
      " 7   AVG_WHP_P                 7882 non-null   float64\n",
      " 8   AVG_WHT_P                 7882 non-null   float64\n",
      " 9   DP_CHOKE_SIZE             7882 non-null   float64\n",
      " 10  BORE_OIL_VOL              7882 non-null   float64\n",
      " 11  BORE_GAS_VOL              7882 non-null   float64\n",
      " 12  BORE_WAT_VOL              7882 non-null   float64\n",
      " 13  WELL_POS                  7882 non-null   object \n",
      "dtypes: float64(11), object(3)\n",
      "memory usage: 862.2+ KB\n"
     ]
    }
   ],
   "source": [
    "data = pd.read_csv('All_wells_final3.csv')\n",
    "data = data.loc[:, ~data.columns.str.contains('^Unnamed')]\n",
    "data = data.fillna(0)\n",
    "\n",
    "data.info()\n",
    "model_mse_dict={}\n",
    "model_R2_dict={}"
   ]
  },
  {
   "cell_type": "code",
   "execution_count": 3,
   "metadata": {},
   "outputs": [
    {
     "name": "stdout",
     "output_type": "stream",
     "text": [
      "<class 'pandas.core.frame.DataFrame'>\n",
      "Int64Index: 5943 entries, 0 to 7881\n",
      "Data columns (total 13 columns):\n",
      " #   Column                    Non-Null Count  Dtype  \n",
      "---  ------                    --------------  -----  \n",
      " 0   DATEPRD                   5943 non-null   object \n",
      " 1   WELL_BORE_CODE            5943 non-null   object \n",
      " 2   AVG_DOWNHOLE_PRESSURE     5943 non-null   float64\n",
      " 3   AVG_DOWNHOLE_TEMPERATURE  5943 non-null   float64\n",
      " 4   AVG_DP_TUBING             5943 non-null   float64\n",
      " 5   AVG_CHOKE_SIZE_P          5943 non-null   float64\n",
      " 6   AVG_WHP_P                 5943 non-null   float64\n",
      " 7   AVG_WHT_P                 5943 non-null   float64\n",
      " 8   DP_CHOKE_SIZE             5943 non-null   float64\n",
      " 9   BORE_OIL_VOL              5943 non-null   float64\n",
      " 10  BORE_GAS_VOL              5943 non-null   float64\n",
      " 11  BORE_WAT_VOL              5943 non-null   float64\n",
      " 12  WELL_POS                  5943 non-null   object \n",
      "dtypes: float64(10), object(3)\n",
      "memory usage: 650.0+ KB\n"
     ]
    }
   ],
   "source": [
    "#Dropping AVG_ANNULUS PRESSURE as this is not measured at the surface, dropping downhole temp as this is related to downhole pressure\n",
    "data=data.drop(['AVG_ANNULUS_PRESS'], axis=1)\n",
    "data = data.loc[data['AVG_DOWNHOLE_PRESSURE']!= 0]\n",
    "data.info()"
   ]
  },
  {
   "cell_type": "code",
   "execution_count": 4,
   "metadata": {},
   "outputs": [
    {
     "data": {
      "text/plain": [
       "DATEPRD                     5943\n",
       "WELL_BORE_CODE              5943\n",
       "AVG_DOWNHOLE_PRESSURE       5943\n",
       "AVG_DOWNHOLE_TEMPERATURE    5943\n",
       "AVG_DP_TUBING               5943\n",
       "AVG_CHOKE_SIZE_P            5943\n",
       "AVG_WHP_P                   5940\n",
       "AVG_WHT_P                   5943\n",
       "DP_CHOKE_SIZE               5943\n",
       "BORE_OIL_VOL                5941\n",
       "BORE_GAS_VOL                5943\n",
       "BORE_WAT_VOL                5572\n",
       "WELL_POS                    5943\n",
       "dtype: int64"
      ]
     },
     "execution_count": 4,
     "metadata": {},
     "output_type": "execute_result"
    }
   ],
   "source": [
    "#To check 0 values\n",
    "data.astype(bool).sum(axis=0)"
   ]
  },
  {
   "cell_type": "markdown",
   "metadata": {},
   "source": [
    "Using chi-square test to understand relationship between categorical variables and downhole_pressure\n",
    "P values are very low. So we can reject our Null Hypothesis which is these features are independent and have no relationship with target variable-downhole pressure\n",
    "\n",
    "data_slc = data.loc[:, 'AVG_DOWNHOLE_TEMPERATURE':'BORE_WAT_VOL']\n",
    "col = list(data_slc.columns)\n",
    "col\n",
    "\n",
    "for ticker in col:\n",
    "    \n",
    "    csq=chi2_contingency(pd.crosstab(data['AVG_DOWNHOLE_PRESSURE'], data[ticker]))\n",
    "    #print(\"P-value: \",csq[1])\n",
    "    print(\"P-value for {} is {}\".format(ticker, csq[1]))"
   ]
  },
  {
   "cell_type": "code",
   "execution_count": 5,
   "metadata": {},
   "outputs": [
    {
     "data": {
      "text/html": [
       "<div>\n",
       "<style scoped>\n",
       "    .dataframe tbody tr th:only-of-type {\n",
       "        vertical-align: middle;\n",
       "    }\n",
       "\n",
       "    .dataframe tbody tr th {\n",
       "        vertical-align: top;\n",
       "    }\n",
       "\n",
       "    .dataframe thead th {\n",
       "        text-align: right;\n",
       "    }\n",
       "</style>\n",
       "<table border=\"1\" class=\"dataframe\">\n",
       "  <thead>\n",
       "    <tr style=\"text-align: right;\">\n",
       "      <th></th>\n",
       "      <th>AVG_CHOKE_SIZE_P</th>\n",
       "      <th>AVG_WHP_P</th>\n",
       "      <th>AVG_WHT_P</th>\n",
       "      <th>DP_CHOKE_SIZE</th>\n",
       "      <th>BORE_OIL_VOL</th>\n",
       "      <th>BORE_GAS_VOL</th>\n",
       "      <th>BORE_WAT_VOL</th>\n",
       "      <th>WELL_BORE_CODE_NO 15/9-F-1 C</th>\n",
       "      <th>WELL_BORE_CODE_NO 15/9-F-11 H</th>\n",
       "      <th>WELL_BORE_CODE_NO 15/9-F-12 H</th>\n",
       "      <th>WELL_BORE_CODE_NO 15/9-F-14 H</th>\n",
       "      <th>WELL_BORE_CODE_NO 15/9-F-15 D</th>\n",
       "    </tr>\n",
       "  </thead>\n",
       "  <tbody>\n",
       "    <tr>\n",
       "      <th>0</th>\n",
       "      <td>43.34</td>\n",
       "      <td>107.36</td>\n",
       "      <td>37.94</td>\n",
       "      <td>78.94</td>\n",
       "      <td>631.47</td>\n",
       "      <td>90439.09</td>\n",
       "      <td>0.0</td>\n",
       "      <td>1</td>\n",
       "      <td>0</td>\n",
       "      <td>0</td>\n",
       "      <td>0</td>\n",
       "      <td>0</td>\n",
       "    </tr>\n",
       "    <tr>\n",
       "      <th>1</th>\n",
       "      <td>47.17</td>\n",
       "      <td>99.19</td>\n",
       "      <td>60.76</td>\n",
       "      <td>70.63</td>\n",
       "      <td>1166.46</td>\n",
       "      <td>165720.39</td>\n",
       "      <td>0.0</td>\n",
       "      <td>1</td>\n",
       "      <td>0</td>\n",
       "      <td>0</td>\n",
       "      <td>0</td>\n",
       "      <td>0</td>\n",
       "    </tr>\n",
       "    <tr>\n",
       "      <th>2</th>\n",
       "      <td>47.73</td>\n",
       "      <td>94.60</td>\n",
       "      <td>63.05</td>\n",
       "      <td>66.05</td>\n",
       "      <td>1549.81</td>\n",
       "      <td>221707.31</td>\n",
       "      <td>0.0</td>\n",
       "      <td>1</td>\n",
       "      <td>0</td>\n",
       "      <td>0</td>\n",
       "      <td>0</td>\n",
       "      <td>0</td>\n",
       "    </tr>\n",
       "    <tr>\n",
       "      <th>3</th>\n",
       "      <td>48.53</td>\n",
       "      <td>89.99</td>\n",
       "      <td>64.55</td>\n",
       "      <td>61.41</td>\n",
       "      <td>1248.70</td>\n",
       "      <td>178063.52</td>\n",
       "      <td>0.0</td>\n",
       "      <td>1</td>\n",
       "      <td>0</td>\n",
       "      <td>0</td>\n",
       "      <td>0</td>\n",
       "      <td>0</td>\n",
       "    </tr>\n",
       "    <tr>\n",
       "      <th>4</th>\n",
       "      <td>49.84</td>\n",
       "      <td>84.78</td>\n",
       "      <td>65.72</td>\n",
       "      <td>56.15</td>\n",
       "      <td>1345.78</td>\n",
       "      <td>192602.19</td>\n",
       "      <td>0.0</td>\n",
       "      <td>1</td>\n",
       "      <td>0</td>\n",
       "      <td>0</td>\n",
       "      <td>0</td>\n",
       "      <td>0</td>\n",
       "    </tr>\n",
       "  </tbody>\n",
       "</table>\n",
       "</div>"
      ],
      "text/plain": [
       "   AVG_CHOKE_SIZE_P  AVG_WHP_P  AVG_WHT_P  DP_CHOKE_SIZE  BORE_OIL_VOL  \\\n",
       "0             43.34     107.36      37.94          78.94        631.47   \n",
       "1             47.17      99.19      60.76          70.63       1166.46   \n",
       "2             47.73      94.60      63.05          66.05       1549.81   \n",
       "3             48.53      89.99      64.55          61.41       1248.70   \n",
       "4             49.84      84.78      65.72          56.15       1345.78   \n",
       "\n",
       "   BORE_GAS_VOL  BORE_WAT_VOL  WELL_BORE_CODE_NO 15/9-F-1 C  \\\n",
       "0      90439.09           0.0                             1   \n",
       "1     165720.39           0.0                             1   \n",
       "2     221707.31           0.0                             1   \n",
       "3     178063.52           0.0                             1   \n",
       "4     192602.19           0.0                             1   \n",
       "\n",
       "   WELL_BORE_CODE_NO 15/9-F-11 H  WELL_BORE_CODE_NO 15/9-F-12 H  \\\n",
       "0                              0                              0   \n",
       "1                              0                              0   \n",
       "2                              0                              0   \n",
       "3                              0                              0   \n",
       "4                              0                              0   \n",
       "\n",
       "   WELL_BORE_CODE_NO 15/9-F-14 H  WELL_BORE_CODE_NO 15/9-F-15 D  \n",
       "0                              0                              0  \n",
       "1                              0                              0  \n",
       "2                              0                              0  \n",
       "3                              0                              0  \n",
       "4                              0                              0  "
      ]
     },
     "execution_count": 5,
     "metadata": {},
     "output_type": "execute_result"
    }
   ],
   "source": [
    "#df1 = pd.get_dummies(data[[\"WELL_BORE_CODE\",\"AVG_DP_TUBING\",\"AVG_ANNULUS_PRESS\",\"AVG_CHOKE_SIZE_P\",\"AVG_WHP_P\",\"AVG_WHT_P\", \"DP_CHOKE_SIZE\",\"BORE_OIL_VOL\",\"BORE_GAS_VOL\", \"BORE_WAT_VOL\" ]])\n",
    "df1 = pd.get_dummies(data[[\"WELL_BORE_CODE\",\"AVG_CHOKE_SIZE_P\",\"AVG_WHP_P\",\"AVG_WHT_P\", \"DP_CHOKE_SIZE\",\"BORE_OIL_VOL\",\"BORE_GAS_VOL\", \"BORE_WAT_VOL\" ]])\n",
    "feature_names = df1.columns\n",
    "df1.head()\n",
    "\n"
   ]
  },
  {
   "cell_type": "code",
   "execution_count": 6,
   "metadata": {},
   "outputs": [],
   "source": [
    "X = df1\n",
    "y = data['AVG_DOWNHOLE_PRESSURE'].values.reshape(-1,1)"
   ]
  },
  {
   "cell_type": "code",
   "execution_count": 7,
   "metadata": {},
   "outputs": [
    {
     "name": "stdout",
     "output_type": "stream",
     "text": [
      "(5943, 12)\n",
      "(5943, 1)\n"
     ]
    }
   ],
   "source": [
    "print(X.shape)\n",
    "print(y.shape)"
   ]
  },
  {
   "cell_type": "code",
   "execution_count": 8,
   "metadata": {},
   "outputs": [],
   "source": [
    "from sklearn.model_selection import train_test_split\n",
    "X_train, X_test, y_train, y_test = train_test_split(X, y, random_state=42)"
   ]
  },
  {
   "cell_type": "code",
   "execution_count": 9,
   "metadata": {},
   "outputs": [],
   "source": [
    "#Scaling X axis\n",
    "from sklearn.preprocessing import StandardScaler\n",
    "x_scaler = StandardScaler().fit(X_train)\n",
    "X_train_s = x_scaler.transform(X_train)\n",
    "X_test_s = x_scaler.transform(X_test)"
   ]
  },
  {
   "cell_type": "code",
   "execution_count": 10,
   "metadata": {},
   "outputs": [],
   "source": [
    "#Scaling Y axis\n",
    "from sklearn.preprocessing import StandardScaler\n",
    "y_scaler = StandardScaler().fit( y_train)\n",
    "y_train_s = y_scaler.transform( y_train)\n",
    "y_test_s = y_scaler.transform(y_test)"
   ]
  },
  {
   "cell_type": "markdown",
   "metadata": {},
   "source": [
    "LINEAR REGRESSION WITH WELL BORE CODE"
   ]
  },
  {
   "cell_type": "code",
   "execution_count": 11,
   "metadata": {},
   "outputs": [
    {
     "name": "stdout",
     "output_type": "stream",
     "text": [
      "R2 Score: 0.7048217210518402\n",
      "Mean Squared Error (MSE): 0.2903155345860211\n",
      "R-squared (R2 ): 0.7048217210518402\n"
     ]
    },
    {
     "data": {
      "text/plain": [
       "Text(0.5, 1.0, 'Residual Plot')"
      ]
     },
     "execution_count": 11,
     "metadata": {},
     "output_type": "execute_result"
    },
    {
     "data": {
      "image/png": "[encoded data removed]",
      "text/plain": [
       "<Figure size 432x288 with 1 Axes>"
      ]
     },
     "metadata": {},
     "output_type": "display_data"
    }
   ],
   "source": [
    "from sklearn.linear_model import LinearRegression\n",
    "model = LinearRegression(normalize=True)\n",
    "model.fit(X_train_s,y_train_s)\n",
    "score = model.score(X_test_s, y_test_s)\n",
    "print(f\"R2 Score: {score}\")\n",
    "\n",
    "\n",
    "from sklearn.metrics import mean_squared_error, r2_score\n",
    "predicted_train = model.predict(X_test_s)\n",
    "# Score the prediction with mse and r2\n",
    "mse = mean_squared_error(y_test_s, predicted_train)\n",
    "r2 = r2_score(y_test_s, predicted_train)\n",
    "\n",
    "print(f\"Mean Squared Error (MSE): {mse}\")\n",
    "print(f\"R-squared (R2 ): {r2}\")\n",
    "\n",
    "model_mse_dict.update(LINEAR_REG = mse)\n",
    "model_R2_dict.update(LINEAR_REG = r2)\n",
    "\n",
    "# Plot the Residuals for the Training and Testing data\n",
    "plt.scatter(model.predict(X_train_s).reshape(-1,1), model.predict(X_train_s).reshape(-1,1) - y_train_s, c=\"blue\", label=\"Training Data\")\n",
    "plt.scatter(model.predict(X_test_s).reshape(-1,1), model.predict(X_test_s).reshape(-1,1) - y_test_s, c=\"orange\", label=\"Testing Data\")\n",
    "plt.legend()\n",
    "plt.hlines(y=0, xmin=y.min(), xmax=y.max())\n",
    "plt.ylim(-2,2)\n",
    "plt.xlim(-10,50)\n",
    "plt.title(\"Residual Plot\")\n"
   ]
  },
  {
   "cell_type": "code",
   "execution_count": 12,
   "metadata": {},
   "outputs": [
    {
     "data": {
      "text/plain": [
       "[(1.0511020457327622, 'DP_CHOKE_SIZE'),\n",
       " (0.7922070884336836, 'BORE_OIL_VOL'),\n",
       " (0.4274911532420504, 'BORE_WAT_VOL'),\n",
       " (0.35937760497789795, 'WELL_BORE_CODE_NO 15/9-F-12 H'),\n",
       " (0.24115122331216865, 'AVG_WHT_P'),\n",
       " (0.15912073329334686, 'AVG_CHOKE_SIZE_P'),\n",
       " (-0.0020531536004117835, 'WELL_BORE_CODE_NO 15/9-F-14 H'),\n",
       " (-0.08641205680508805, 'WELL_BORE_CODE_NO 15/9-F-1 C'),\n",
       " (-0.1255945486051289, 'WELL_BORE_CODE_NO 15/9-F-11 H'),\n",
       " (-0.17741464149224678, 'WELL_BORE_CODE_NO 15/9-F-15 D'),\n",
       " (-0.3323161671928218, 'AVG_WHP_P'),\n",
       " (-1.3599127399214455, 'BORE_GAS_VOL')]"
      ]
     },
     "execution_count": 12,
     "metadata": {},
     "output_type": "execute_result"
    }
   ],
   "source": [
    "importances= model.coef_\n",
    "sorted(zip(importances[0],feature_names),reverse=True)"
   ]
  },
  {
   "cell_type": "markdown",
   "metadata": {},
   "source": [
    "LASSO REGRESSION"
   ]
  },
  {
   "cell_type": "code",
   "execution_count": 13,
   "metadata": {},
   "outputs": [
    {
     "name": "stdout",
     "output_type": "stream",
     "text": [
      "R2 Score: 0.701884854535167\n"
     ]
    }
   ],
   "source": [
    "from sklearn.linear_model import Lasso\n",
    "model = Lasso(alpha=0.001,normalize=False)\n",
    "model.fit(X_train_s,y_train_s)\n",
    "score = model.score(X_test_s, y_test_s)\n",
    "print(f\"R2 Score: {score}\")\n"
   ]
  },
  {
   "cell_type": "code",
   "execution_count": 14,
   "metadata": {},
   "outputs": [
    {
     "name": "stdout",
     "output_type": "stream",
     "text": [
      "Mean Squared Error (MSE): 0.29320401938860874\n",
      "R-squared (R2 ): 0.701884854535167\n"
     ]
    },
    {
     "data": {
      "text/plain": [
       "Text(0.5, 1.0, 'Residual Plot')"
      ]
     },
     "execution_count": 14,
     "metadata": {},
     "output_type": "execute_result"
    },
    {
     "data": {
      "image/png": "[encoded data removed]",
      "text/plain": [
       "<Figure size 432x288 with 1 Axes>"
      ]
     },
     "metadata": {},
     "output_type": "display_data"
    }
   ],
   "source": [
    "from sklearn.metrics import mean_squared_error, r2_score\n",
    "predicted_train = model.predict(X_test_s)\n",
    "# Score the prediction with mse and r2\n",
    "mse = mean_squared_error(y_test_s, predicted_train)\n",
    "r2 = r2_score(y_test_s, predicted_train)\n",
    "\n",
    "print(f\"Mean Squared Error (MSE): {mse}\")\n",
    "print(f\"R-squared (R2 ): {r2}\")\n",
    "\n",
    "model_mse_dict.update(LASSO_REG = mse)\n",
    "model_R2_dict.update(LASSO_REG = r2)\n",
    "\n",
    "# Plot the Residuals for the Training and Testing data\n",
    "plt.scatter(model.predict(X_train_s).reshape(-1,1), model.predict(X_train_s).reshape(-1,1) - y_train_s, c=\"blue\", label=\"Training Data\")\n",
    "plt.scatter(model.predict(X_test_s).reshape(-1,1), model.predict(X_test_s).reshape(-1,1) - y_test_s, c=\"orange\", label=\"Testing Data\")\n",
    "plt.legend()\n",
    "plt.hlines(y=0, xmin=y.min(), xmax=y.max())\n",
    "plt.ylim(-2,2)\n",
    "plt.xlim(-10,50)\n",
    "plt.title(\"Residual Plot\")"
   ]
  },
  {
   "cell_type": "code",
   "execution_count": 15,
   "metadata": {},
   "outputs": [
    {
     "data": {
      "text/plain": [
       "[(0.9313360436898441, 'DP_CHOKE_SIZE'),\n",
       " (0.48562789403083567, 'WELL_BORE_CODE_NO 15/9-F-12 H'),\n",
       " (0.387407852469944, 'BORE_WAT_VOL'),\n",
       " (0.25257650163147394, 'AVG_WHT_P'),\n",
       " (0.1680239961409086, 'WELL_BORE_CODE_NO 15/9-F-14 H'),\n",
       " (0.16620487267872047, 'AVG_CHOKE_SIZE_P'),\n",
       " (-0.0, 'WELL_BORE_CODE_NO 15/9-F-11 H'),\n",
       " (-0.0, 'WELL_BORE_CODE_NO 15/9-F-1 C'),\n",
       " (0.0, 'BORE_OIL_VOL'),\n",
       " (-0.06206610579782985, 'WELL_BORE_CODE_NO 15/9-F-15 D'),\n",
       " (-0.2204880498217181, 'AVG_WHP_P'),\n",
       " (-0.5856085781792008, 'BORE_GAS_VOL')]"
      ]
     },
     "execution_count": 15,
     "metadata": {},
     "output_type": "execute_result"
    }
   ],
   "source": [
    "importances = model.coef_\n",
    "sorted(zip(importances,feature_names),reverse=True)"
   ]
  },
  {
   "cell_type": "markdown",
   "metadata": {},
   "source": [
    "RANDOM FOREST REGRESSION"
   ]
  },
  {
   "cell_type": "code",
   "execution_count": 16,
   "metadata": {},
   "outputs": [
    {
     "name": "stderr",
     "output_type": "stream",
     "text": [
      "C:\\Users\\RAKHI\\Anaconda3\\envs\\ML\\lib\\site-packages\\ipykernel_launcher.py:4: DataConversionWarning: A column-vector y was passed when a 1d array was expected. Please change the shape of y to (n_samples,), for example using ravel().\n",
      "  after removing the cwd from sys.path.\n"
     ]
    },
    {
     "data": {
      "text/plain": [
       "0.8729838090347057"
      ]
     },
     "execution_count": 16,
     "metadata": {},
     "output_type": "execute_result"
    }
   ],
   "source": [
    "# Create a random forest classifier\n",
    "from sklearn.ensemble import RandomForestRegressor\n",
    "rf = RandomForestRegressor(max_depth=100)\n",
    "rf = rf.fit(X_train_s, y_train_s)\n",
    "rf.score(X_test_s, y_test_s)"
   ]
  },
  {
   "cell_type": "code",
   "execution_count": 17,
   "metadata": {},
   "outputs": [
    {
     "name": "stdout",
     "output_type": "stream",
     "text": [
      "Mean Squared Error (MSE): 0.12492373596244731\n",
      "R-squared (R2 ): 0.8729838090347057\n"
     ]
    },
    {
     "data": {
      "text/plain": [
       "Text(0.5, 1.0, 'Residual Plot')"
      ]
     },
     "execution_count": 17,
     "metadata": {},
     "output_type": "execute_result"
    },
    {
     "data": {
      "image/png": "[encoded data removed]",
      "text/plain": [
       "<Figure size 432x288 with 1 Axes>"
      ]
     },
     "metadata": {},
     "output_type": "display_data"
    }
   ],
   "source": [
    "from sklearn.metrics import mean_squared_error, r2_score\n",
    "predicted_train = rf.predict(X_test_s)\n",
    "# Score the prediction with mse and r2\n",
    "mse = mean_squared_error(y_test_s, predicted_train)\n",
    "r2 = r2_score(y_test_s, predicted_train)\n",
    "\n",
    "print(f\"Mean Squared Error (MSE): {mse}\")\n",
    "print(f\"R-squared (R2 ): {r2}\")\n",
    "\n",
    "model_mse_dict.update(RAND_FOR_REG = mse)\n",
    "model_R2_dict.update(RAND_FOR_REG = r2)\n",
    "\n",
    "# Plot the Residuals for the Training and Testing data\n",
    "plt.scatter(rf.predict(X_train_s).reshape(-1,1), rf.predict(X_train_s).reshape(-1,1) - y_train, c=\"blue\", label=\"Training Data\")\n",
    "plt.scatter(rf.predict(X_test_s).reshape(-1,1), rf.predict(X_test_s).reshape(-1,1) - y_test, c=\"orange\", label=\"Testing Data\")\n",
    "plt.legend()\n",
    "plt.hlines(y=0, xmin=y.min(), xmax=y.max())\n",
    "plt.title(\"Residual Plot\")\n"
   ]
  },
  {
   "cell_type": "code",
   "execution_count": 18,
   "metadata": {},
   "outputs": [
    {
     "data": {
      "text/plain": [
       "[(0.32013596186433824, 'WELL_BORE_CODE_NO 15/9-F-15 D'),\n",
       " (0.14416778942617867, 'AVG_WHT_P'),\n",
       " (0.13246274020035428, 'AVG_WHP_P'),\n",
       " (0.11674588635422277, 'BORE_OIL_VOL'),\n",
       " (0.07988745309273673, 'BORE_WAT_VOL'),\n",
       " (0.06221293775485698, 'DP_CHOKE_SIZE'),\n",
       " (0.05695902166754223, 'BORE_GAS_VOL'),\n",
       " (0.0350856352936839, 'WELL_BORE_CODE_NO 15/9-F-12 H'),\n",
       " (0.023575284138675504, 'AVG_CHOKE_SIZE_P'),\n",
       " (0.015454965187429663, 'WELL_BORE_CODE_NO 15/9-F-14 H'),\n",
       " (0.010260284705815265, 'WELL_BORE_CODE_NO 15/9-F-1 C'),\n",
       " (0.0030520403141659613, 'WELL_BORE_CODE_NO 15/9-F-11 H')]"
      ]
     },
     "execution_count": 18,
     "metadata": {},
     "output_type": "execute_result"
    }
   ],
   "source": [
    "importances= rf.feature_importances_\n",
    "sorted(zip(importances,feature_names),reverse=True)"
   ]
  },
  {
   "cell_type": "markdown",
   "metadata": {},
   "source": [
    "RIDGE REGRESSION"
   ]
  },
  {
   "cell_type": "code",
   "execution_count": 19,
   "metadata": {},
   "outputs": [
    {
     "name": "stdout",
     "output_type": "stream",
     "text": [
      "R2 Score: 0.7048162153904839\n",
      "Mean Squared Error (MSE): 0.29032094954753385\n",
      "R-squared (R2 ): 0.7048162153904838\n"
     ]
    },
    {
     "data": {
      "text/plain": [
       "Text(0.5, 1.0, 'Residual Plot')"
      ]
     },
     "execution_count": 19,
     "metadata": {},
     "output_type": "execute_result"
    },
    {
     "data": {
      "image/png": "[encoded data removed]",
      "text/plain": [
       "<Figure size 432x288 with 1 Axes>"
      ]
     },
     "metadata": {},
     "output_type": "display_data"
    }
   ],
   "source": [
    "## training the model\n",
    "from sklearn.linear_model import Ridge\n",
    "model = Ridge(alpha=0.05, normalize=False) #False gives slightly better value\n",
    "model.fit(X_train_s,y_train_s)\n",
    "score = model.score(X_test_s, y_test_s)\n",
    "print(f\"R2 Score: {score}\")\n",
    "\n",
    "# Score the prediction with mse and r2\n",
    "from sklearn.metrics import mean_squared_error, r2_score\n",
    "predicted_train = model.predict(X_test_s)\n",
    "mse = mean_squared_error(y_test_s, predicted_train)\n",
    "r2 = r2_score(y_test_s, predicted_train)\n",
    "print(f\"Mean Squared Error (MSE): {mse}\")\n",
    "print(f\"R-squared (R2 ): {r2}\")\n",
    "\n",
    "model_mse_dict.update(RIDGE_REG = mse)\n",
    "model_R2_dict.update(RIDGE_REG = r2)\n",
    "\n",
    "\n",
    "# Plot the Residuals for the Training and Testing data\n",
    "plt.scatter(model.predict(X_train_s), model.predict(X_train_s) - y_train_s, c=\"blue\", label=\"Training Data\")\n",
    "plt.scatter(model.predict(X_test_s), model.predict(X_test_s) - y_test_s, c=\"orange\", label=\"Testing Data\")\n",
    "plt.legend()\n",
    "plt.hlines(y=0, xmin=y.min(), xmax=y.max())\n",
    "plt.title(\"Residual Plot\")"
   ]
  },
  {
   "cell_type": "code",
   "execution_count": 20,
   "metadata": {},
   "outputs": [
    {
     "data": {
      "text/plain": [
       "[(1.0500556032203072, 'DP_CHOKE_SIZE'),\n",
       " (0.7824839621697752, 'BORE_OIL_VOL'),\n",
       " (0.4270049016900434, 'BORE_WAT_VOL'),\n",
       " (0.3594484966911655, 'WELL_BORE_CODE_NO 15/9-F-12 H'),\n",
       " (0.24121890950676864, 'AVG_WHT_P'),\n",
       " (0.15919535327844272, 'AVG_CHOKE_SIZE_P'),\n",
       " (-0.0019876962934030212, 'WELL_BORE_CODE_NO 15/9-F-14 H'),\n",
       " (-0.08643446388939137, 'WELL_BORE_CODE_NO 15/9-F-1 C'),\n",
       " (-0.12568342000581842, 'WELL_BORE_CODE_NO 15/9-F-11 H'),\n",
       " (-0.17746910170766872, 'WELL_BORE_CODE_NO 15/9-F-15 D'),\n",
       " (-0.3314224350042238, 'AVG_WHP_P'),\n",
       " (-1.3503765896677677, 'BORE_GAS_VOL')]"
      ]
     },
     "execution_count": 20,
     "metadata": {},
     "output_type": "execute_result"
    }
   ],
   "source": [
    "importances= model.coef_\n",
    "sorted(zip(importances[0],feature_names),reverse=True)"
   ]
  },
  {
   "cell_type": "code",
   "execution_count": 21,
   "metadata": {},
   "outputs": [
    {
     "data": {
      "text/plain": [
       "{'LINEAR_REG': 0.2903155345860211,\n",
       " 'LASSO_REG': 0.29320401938860874,\n",
       " 'RAND_FOR_REG': 0.12492373596244731,\n",
       " 'RIDGE_REG': 0.29032094954753385}"
      ]
     },
     "execution_count": 21,
     "metadata": {},
     "output_type": "execute_result"
    }
   ],
   "source": [
    "#Displaying the MSE scores by models\n",
    "model_mse_dict"
   ]
  },
  {
   "cell_type": "code",
   "execution_count": 22,
   "metadata": {},
   "outputs": [
    {
     "data": {
      "text/plain": [
       "{'LINEAR_REG': 0.7048217210518402,\n",
       " 'LASSO_REG': 0.701884854535167,\n",
       " 'RAND_FOR_REG': 0.8729838090347057,\n",
       " 'RIDGE_REG': 0.7048162153904838}"
      ]
     },
     "execution_count": 22,
     "metadata": {},
     "output_type": "execute_result"
    }
   ],
   "source": [
    "#Displaying the R2 scores by models\n",
    "model_R2_dict"
   ]
  }
 ],
 "metadata": {
  "kernelspec": {
   "display_name": "Python [conda env:ML]",
   "language": "python",
   "name": "conda-env-ML-py"
  },
  "language_info": {
   "codemirror_mode": {
    "name": "ipython",
    "version": 3
   },
   "file_extension": ".py",
   "mimetype": "text/x-python",
   "name": "python",
   "nbconvert_exporter": "python",
   "pygments_lexer": "ipython3",
   "version": "3.7.6"
  }
 },
 "nbformat": 4,
 "nbformat_minor": 4
}
